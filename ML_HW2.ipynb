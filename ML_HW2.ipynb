{
 "cells": [
  {
   "cell_type": "code",
   "execution_count": 1,
   "metadata": {},
   "outputs": [],
   "source": [
    "import pandas as pd\n",
    "import numpy as np"
   ]
  },
  {
   "attachments": {},
   "cell_type": "markdown",
   "metadata": {},
   "source": [
    "##### 13~16"
   ]
  },
  {
   "cell_type": "code",
   "execution_count": 39,
   "metadata": {},
   "outputs": [
    {
     "name": "stdout",
     "output_type": "stream",
     "text": [
      "Mean of Eout(g, tau) - Ein(g) over 10000 trials: 0.014203125\n"
     ]
    }
   ],
   "source": [
    "import pandas as pd\n",
    "import numpy as np\n",
    "\n",
    "def experiment(sample_size, tau):\n",
    "    # Generate random array x and compute y\n",
    "    x = np.random.uniform(-0.5, 0.5, sample_size)\n",
    "    x.sort()\n",
    "    y = np.sign(x)\n",
    "\n",
    "    def flip_labels(y, tau):\n",
    "        if tau > 0:\n",
    "            random_vals = np.random.random(size=y.shape)\n",
    "            flip_indices = random_vals <= tau\n",
    "            y[flip_indices] *= -1\n",
    "        return y\n",
    "\n",
    "    # Flip y to -y with probability tau\n",
    "    y = flip_labels(y, tau)\n",
    "\n",
    "    # Generate new random array x and compute y\n",
    "    x_new = np.random.uniform(-0.5, 0.5, sample_size)\n",
    "    x_new.sort()\n",
    "    y_new = np.sign(x_new)\n",
    "\n",
    "    y_new = flip_labels(y_new, tau)\n",
    "\n",
    "    # Define the hypothesis h\n",
    "    def h(x, s, theta):\n",
    "        return s * np.sign(x - theta)\n",
    "\n",
    "    # Compute possible values of theta\n",
    "    diffs = np.diff(x)\n",
    "    if len(diffs) == 0:\n",
    "        theta_vals = [x[0]]\n",
    "    else:\n",
    "        theta_vals = np.hstack((x.min() - 0.1, (x[:-1] + x[1:]) / 2, x.max() + 0.1))\n",
    "\n",
    "    # Compute Ein(h) for all combinations of s and theta\n",
    "    misclassified = []\n",
    "    for s in [-1, 1]:\n",
    "        for theta in theta_vals:\n",
    "            predictions = h(x, s, theta)\n",
    "            misclassified.append((predictions != y).sum())\n",
    "\n",
    "    # Compute the minimum misclassification error and corresponding s and theta\n",
    "    min_error_idx = np.argmin(misclassified)\n",
    "    min_error = misclassified[min_error_idx]\n",
    "    min_error_s = [-1, 1][min_error_idx // len(theta_vals)]\n",
    "    min_error_theta = theta_vals[min_error_idx % len(theta_vals)]\n",
    "\n",
    "    # Return the hypothesis with the minimum Ein as g; break ties by smallest s * theta\n",
    "    g = h(x, min_error_s, min_error_theta)\n",
    "    for s in [-1, 1]:\n",
    "        for theta in theta_vals:\n",
    "            if s == min_error_s and theta == min_error_theta:\n",
    "                continue\n",
    "            error_idx = np.where((s == np.array([-1, 1])))[0][0] * len(theta_vals) + np.abs(theta_vals - theta).argmin()\n",
    "            if misclassified[error_idx] == min_error and s * theta < min_error_s * min_error_theta:\n",
    "                g = h(x, s, theta)\n",
    "                min_error_s = s\n",
    "                min_error_theta = theta\n",
    "\n",
    "    Ein_g = min_error / len(x)\n",
    "    Eout_g = np.mean(h(x_new, min_error_s, min_error_theta) != y_new)\n",
    "    return Eout_g - Ein_g\n",
    "\n",
    "n_trials = 10000\n",
    "sample_size = 128\n",
    "tau = 0.2   # Set probability of flipping\n",
    "results = [experiment(sample_size, tau) for i in range(n_trials)]\n",
    "mean_diff = np.mean(results)\n",
    "\n",
    "print(\"Mean of Eout(g, tau) - Ein(g) over\", n_trials, \"trials:\", mean_diff)\n"
   ]
  },
  {
   "attachments": {},
   "cell_type": "markdown",
   "metadata": {},
   "source": [
    "##### 17~20"
   ]
  },
  {
   "cell_type": "code",
   "execution_count": null,
   "metadata": {},
   "outputs": [],
   "source": [
    "df = pd.read_csv('ML_HW2_data_train.dat', sep=\"\\t\", header=None)"
   ]
  }
 ],
 "metadata": {
  "kernelspec": {
   "display_name": "Python 3",
   "language": "python",
   "name": "python3"
  },
  "language_info": {
   "codemirror_mode": {
    "name": "ipython",
    "version": 3
   },
   "file_extension": ".py",
   "mimetype": "text/x-python",
   "name": "python",
   "nbconvert_exporter": "python",
   "pygments_lexer": "ipython3",
   "version": "3.9.2"
  },
  "orig_nbformat": 4
 },
 "nbformat": 4,
 "nbformat_minor": 2
}
