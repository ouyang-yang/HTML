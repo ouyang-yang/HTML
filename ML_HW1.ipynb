{
 "cells": [
  {
   "cell_type": "code",
   "execution_count": null,
   "metadata": {},
   "outputs": [],
   "source": [
    "import matplotlib.pyplot as plt\n",
    "import numpy as np\n",
    "import pandas as pd\n",
    "\n",
    "dat_file = r\"ML_HW1_data.dat\"\n",
    "with open(dat_file, 'r') as file:\n",
    "    text = file.read()\n",
    "    \n",
    "df = pd.read_csv(\"ML_HW1_data.dat\", sep = \"\\t\", header = None)\n",
    "df.columns =['x1', 'x2', 'x3', 'x4', 'x5', 'x6', 'x7', 'x8', 'x9', 'x10', 'sign']\n",
    "print(df)\n",
    "arr = df.to_numpy()\n",
    "x_arr = X.to_numpy()\n",
    "y_arr = Y.to_numpy(dtype = \"int64\")"
   ]
  },
  {
   "attachments": {},
   "cell_type": "markdown",
   "metadata": {},
   "source": [
    "#### PLA"
   ]
  },
  {
   "attachments": {},
   "cell_type": "markdown",
   "metadata": {},
   "source": [
    "##### 13 ver1.0"
   ]
  },
  {
   "cell_type": "code",
   "execution_count": null,
   "metadata": {},
   "outputs": [],
   "source": [
    "def Average(lst):\n",
    "    return sum(lst) / len(lst)\n",
    "N = 256\n",
    "M = int(256 / 2)\n",
    "count = 0\n",
    "inError_lst = []\n",
    "w_lst = []\n",
    "df = pd.read_csv(\"ML_HW1_data.dat\", sep = \"\\t\", header = None)\n",
    "df.columns =['x1', 'x2', 'x3', 'x4', 'x5', 'x6', 'x7', 'x8', 'x9', 'x10', 'sign']\n",
    "\n",
    "while count < 1000:\n",
    "    rng = np.random.default_rng(42)\n",
    "    dfs = df.sample(n=M, replace = True)\n",
    "    \n",
    "    dfx = df.iloc[:, 0:10]\n",
    "    dfy = df.iloc[:, 10]    \n",
    "    dfsx = dfs.iloc[:, 0:10]\n",
    "    dfsy = dfs.iloc[:, 10]\n",
    "    x_array = dfx.to_numpy()\n",
    "    y_array = dfy.to_numpy()\n",
    "    sx_array = dfsx.to_numpy()\n",
    "    sy_array = dfsy.to_numpy()\n",
    "\n",
    "    w = np.zeros(10)   \n",
    "    w = np.zeros(10) + [1, 1, 1, 1 ,1 ,1 ,1 ,1 ,1 ,1] \n",
    "    while any(w.T.dot(sx_array[rows]) != sy_array[rows] for rows in range(M)):       \n",
    "        for rows in range(M):            \n",
    "            if w.T.dot(sx_array[rows]) != sy_array[rows]:\n",
    "                w += sx_array[rows] * sy_array[rows]   \n",
    "    \n",
    "    Ein = 0\n",
    "    error_num = 0\n",
    "    for rows in range(M):\n",
    "        if w.T.dot(x_array[rows]) != y_array[rows]:\n",
    "            error_num += 1\n",
    "\n",
    "    Ein = error_num / M\n",
    "    inError_lst.append(Ein)\n",
    "    count+=1\n",
    "\n",
    "print(inError_lst)\n",
    "average = Average(inError_lst)\n",
    "print(\"Average of Ein =\", average)"
   ]
  },
  {
   "cell_type": "code",
   "execution_count": 101,
   "metadata": {},
   "outputs": [],
   "source": [
    "dfs = df.sample(n=M, random_state=1)\n",
    "X_train = dfs[['x1', 'x2', 'x3', 'x4', 'x5', 'x6', 'x7', 'x8', 'x9', 'x10']].values\n",
    "Y_train = dfs[['sign']].values"
   ]
  },
  {
   "cell_type": "code",
   "execution_count": 161,
   "metadata": {},
   "outputs": [
    {
     "ename": "KeyboardInterrupt",
     "evalue": "",
     "output_type": "error",
     "traceback": [
      "\u001b[1;31m---------------------------------------------------------------------------\u001b[0m",
      "\u001b[1;31mKeyboardInterrupt\u001b[0m                         Traceback (most recent call last)",
      "\u001b[1;32m<ipython-input-161-402abe7a5e90>\u001b[0m in \u001b[0;36m<module>\u001b[1;34m\u001b[0m\n\u001b[0;32m     51\u001b[0m     \u001b[1;32mreturn\u001b[0m \u001b[0maverage\u001b[0m\u001b[1;33m\u001b[0m\u001b[1;33m\u001b[0m\u001b[0m\n\u001b[0;32m     52\u001b[0m \u001b[1;33m\u001b[0m\u001b[0m\n\u001b[1;32m---> 53\u001b[1;33m \u001b[0mperceptron_algorithm\u001b[0m\u001b[1;33m(\u001b[0m\u001b[1;34m'ML_HW1_data.dat'\u001b[0m\u001b[1;33m,\u001b[0m \u001b[0mnum_samples\u001b[0m\u001b[1;33m=\u001b[0m\u001b[1;36m256\u001b[0m\u001b[1;33m,\u001b[0m \u001b[0mnum_iterations\u001b[0m\u001b[1;33m=\u001b[0m\u001b[1;36m1000\u001b[0m\u001b[1;33m)\u001b[0m\u001b[1;33m\u001b[0m\u001b[1;33m\u001b[0m\u001b[0m\n\u001b[0m",
      "\u001b[1;32m<ipython-input-161-402abe7a5e90>\u001b[0m in \u001b[0;36mperceptron_algorithm\u001b[1;34m(data_file_path, num_samples, num_iterations)\u001b[0m\n\u001b[0;32m     30\u001b[0m             \u001b[0mw\u001b[0m \u001b[1;33m=\u001b[0m \u001b[0mnp\u001b[0m\u001b[1;33m.\u001b[0m\u001b[0mzeros\u001b[0m\u001b[1;33m(\u001b[0m\u001b[1;36m10\u001b[0m\u001b[1;33m)\u001b[0m \u001b[1;33m+\u001b[0m \u001b[1;33m[\u001b[0m\u001b[1;36m1\u001b[0m\u001b[1;33m,\u001b[0m \u001b[1;36m1\u001b[0m\u001b[1;33m,\u001b[0m \u001b[1;36m1\u001b[0m\u001b[1;33m,\u001b[0m \u001b[1;36m1\u001b[0m\u001b[1;33m,\u001b[0m \u001b[1;36m1\u001b[0m\u001b[1;33m,\u001b[0m \u001b[1;36m1\u001b[0m\u001b[1;33m,\u001b[0m \u001b[1;36m1\u001b[0m\u001b[1;33m,\u001b[0m \u001b[1;36m1\u001b[0m\u001b[1;33m,\u001b[0m \u001b[1;36m1\u001b[0m\u001b[1;33m,\u001b[0m \u001b[1;36m1\u001b[0m\u001b[1;33m]\u001b[0m\u001b[1;33m\u001b[0m\u001b[1;33m\u001b[0m\u001b[0m\n\u001b[0;32m     31\u001b[0m             \u001b[1;32mfor\u001b[0m \u001b[0mrows\u001b[0m \u001b[1;32min\u001b[0m \u001b[0mrange\u001b[0m\u001b[1;33m(\u001b[0m\u001b[0mM\u001b[0m\u001b[1;33m)\u001b[0m\u001b[1;33m:\u001b[0m\u001b[1;33m\u001b[0m\u001b[1;33m\u001b[0m\u001b[0m\n\u001b[1;32m---> 32\u001b[1;33m                 \u001b[1;32mif\u001b[0m \u001b[0mw\u001b[0m\u001b[1;33m.\u001b[0m\u001b[0mT\u001b[0m\u001b[1;33m.\u001b[0m\u001b[0mdot\u001b[0m\u001b[1;33m(\u001b[0m\u001b[0msx_array\u001b[0m\u001b[1;33m[\u001b[0m\u001b[0mrows\u001b[0m\u001b[1;33m]\u001b[0m\u001b[1;33m)\u001b[0m \u001b[1;33m!=\u001b[0m \u001b[0msy_array\u001b[0m\u001b[1;33m[\u001b[0m\u001b[0mrows\u001b[0m\u001b[1;33m]\u001b[0m\u001b[1;33m:\u001b[0m\u001b[1;33m\u001b[0m\u001b[1;33m\u001b[0m\u001b[0m\n\u001b[0m\u001b[0;32m     33\u001b[0m                     \u001b[0mw\u001b[0m \u001b[1;33m+=\u001b[0m \u001b[0msx_array\u001b[0m\u001b[1;33m[\u001b[0m\u001b[0mrows\u001b[0m\u001b[1;33m]\u001b[0m \u001b[1;33m*\u001b[0m \u001b[0msy_array\u001b[0m\u001b[1;33m[\u001b[0m\u001b[0mrows\u001b[0m\u001b[1;33m]\u001b[0m\u001b[1;33m\u001b[0m\u001b[1;33m\u001b[0m\u001b[0m\n\u001b[0;32m     34\u001b[0m                     \u001b[0mmisclassify\u001b[0m \u001b[1;33m+=\u001b[0m \u001b[1;36m1\u001b[0m\u001b[1;33m\u001b[0m\u001b[1;33m\u001b[0m\u001b[0m\n",
      "\u001b[1;31mKeyboardInterrupt\u001b[0m: "
     ]
    }
   ],
   "source": [
    "import pandas as pd\n",
    "import numpy as np\n",
    "\n",
    "def Average(lst):\n",
    "    return sum(lst) / len(lst)\n",
    "\n",
    "def perceptron_algorithm(data_file_path, num_samples=256, num_iterations=1000):\n",
    "    M = int(num_samples / 2)\n",
    "    count = 0\n",
    "    inError_lst = []\n",
    "    w_lst = []\n",
    "    df = pd.read_csv(data_file_path, sep=\"\\t\", header=None)\n",
    "    df.columns = ['x1', 'x2', 'x3', 'x4', 'x5', 'x6', 'x7', 'x8', 'x9', 'x10', 'sign']\n",
    "    \n",
    "    while count < num_iterations:\n",
    "        dfs = df.sample(n=M, replace=True)\n",
    "\n",
    "        dfx = df.iloc[:, 0:10]\n",
    "        dfy = df.iloc[:, 10]\n",
    "        dfsx = dfs.iloc[:, 0:10]\n",
    "        dfsy = dfs.iloc[:, 10]\n",
    "        x_array = dfx.to_numpy()\n",
    "        y_array = dfy.to_numpy()\n",
    "        sx_array = dfsx.to_numpy()\n",
    "        sy_array = dfsy.to_numpy()\n",
    "\n",
    "        w = np.zeros(10)\n",
    "        while True:\n",
    "            misclassify = 0\n",
    "            w = np.zeros(10) + [1, 1, 1, 1, 1, 1, 1, 1, 1, 1]\n",
    "            for rows in range(M):\n",
    "                if w.T.dot(sx_array[rows]) != sy_array[rows]:\n",
    "                    w += sx_array[rows] * sy_array[rows]\n",
    "                    misclassify += 1\n",
    "            if misclassify == 0:\n",
    "                break\n",
    "\n",
    "        Ein = 0\n",
    "        error_num = 0\n",
    "        for rows in range(M):\n",
    "            if w.T.dot(x_array[rows]) != y_array[rows]:\n",
    "                error_num += 1\n",
    "\n",
    "        Ein = error_num / M\n",
    "        inError_lst.append(Ein)\n",
    "        count += 1\n",
    "\n",
    "    print(inError_lst)\n",
    "    average = Average(inError_lst)\n",
    "    print(\"Average of Ein =\", average)\n",
    "    return average\n",
    "\n",
    "perceptron_algorithm('ML_HW1_data.dat', num_samples=256, num_iterations=1000)\n"
   ]
  },
  {
   "attachments": {},
   "cell_type": "markdown",
   "metadata": {},
   "source": [
    "##### 13"
   ]
  },
  {
   "cell_type": "code",
   "execution_count": 18,
   "metadata": {},
   "outputs": [
    {
     "name": "stdout",
     "output_type": "stream",
     "text": [
      "Average error rate: 0.00273\n",
      "Median number of updates = 411.0\n",
      "Median of w_0 = 33.0\n"
     ]
    },
    {
     "data": {
      "text/plain": [
       "(0.00273046875, 411.0, 33.0)"
      ]
     },
     "execution_count": 18,
     "metadata": {},
     "output_type": "execute_result"
    }
   ],
   "source": [
    "import pandas as pd\n",
    "import numpy as np\n",
    "\n",
    "def perceptron_algorithm(data_file_path, num_samples=256, num_iterations=1000):\n",
    "    rng = np.random.default_rng()\n",
    "    M = int(num_samples / 2)\n",
    "    df = pd.read_csv(data_file_path, sep=\"\\t\", header=None)\n",
    "    df.insert(loc=0, column=\"x0\", value=1)\n",
    "    df.columns = ['x0','x1', 'x2', 'x3', 'x4', 'x5', 'x6', 'x7', 'x8', 'x9', 'x10', 'sign']\n",
    "    \n",
    "    # Extract features and labels\n",
    "    X = df.iloc[:, :-1].to_numpy()\n",
    "    y = df.iloc[:, -1].to_numpy()\n",
    "    \n",
    "    # Initialize weights to zeros(w0=0)\n",
    "    w = np.zeros(11)\n",
    "    num_updates = 0\n",
    "    \n",
    "    errors = [] # Track errors for each iteration\n",
    "    update_lst = []  # add an empty list to store the number of updates\n",
    "    w0_lst = []  # create an empty list to store w_0\n",
    "    \n",
    "    for i in range(num_iterations):\n",
    "        # Sample random points from the dataset\n",
    "        idx = rng.choice(X.shape[0], M, replace=True)\n",
    "        X_sample = X[idx]\n",
    "        y_sample = y[idx]\n",
    "        \n",
    "        # Update weights\n",
    "        for j in range(M):\n",
    "            if np.sign(X_sample[j] @ w) != y_sample[j]:\n",
    "                w += y_sample[j] * X_sample[j]\n",
    "                num_updates += 1  # increment the number of updates\n",
    "        \n",
    "        # Calculate error on full dataset\n",
    "        y_pred = np.sign(X @ w)\n",
    "        error_rate = np.mean(y_pred != y)\n",
    "        errors.append(error_rate)   \n",
    "\n",
    "        # append the number of updates\n",
    "        update_lst.append(num_updates)  \n",
    "        \n",
    "        # append w_0 to the list\n",
    "        w0_lst.append(w[0])  \n",
    "    \n",
    "    # Return average error rate\n",
    "    avg_error = np.mean(errors)\n",
    "    print(f\"Average error rate: {avg_error:.5f}\")\n",
    "\n",
    "    # calculate the median of updates\n",
    "    median_updates = np.median(update_lst)\n",
    "    print(\"Median number of updates =\", median_updates)\n",
    "\n",
    "    # calculate the median of w_0\n",
    "    median_w0 = np.median(w0_lst)  \n",
    "    print(\"Median of w_0 =\", median_w0)\n",
    "\n",
    "    return avg_error, median_updates, median_w0\n",
    "\n",
    "perceptron_algorithm('ML_HW1_data.dat', num_samples=256, num_iterations=1000)\n"
   ]
  },
  {
   "attachments": {},
   "cell_type": "markdown",
   "metadata": {},
   "source": [
    "##### 14, 15, 16"
   ]
  },
  {
   "cell_type": "code",
   "execution_count": 14,
   "metadata": {},
   "outputs": [
    {
     "name": "stdout",
     "output_type": "stream",
     "text": [
      "Average error rate: 0.00026\n",
      "Median number of updates = 526.0\n",
      "Median of w_0 = 38.0\n"
     ]
    },
    {
     "data": {
      "text/plain": [
       "(0.00026171875, 526.0, 38.0)"
      ]
     },
     "execution_count": 14,
     "metadata": {},
     "output_type": "execute_result"
    }
   ],
   "source": [
    "import pandas as pd\n",
    "import numpy as np\n",
    "\n",
    "def perceptron_algorithm(data_file_path, num_samples=256, num_iterations=1000):\n",
    "    rng = np.random.default_rng()\n",
    "    M = int(num_samples * 4)\n",
    "    df = pd.read_csv(data_file_path, sep=\"\\t\", header=None)\n",
    "    df.insert(loc=0, column=\"x0\", value=1)\n",
    "    df.columns = ['x0','x1', 'x2', 'x3', 'x4', 'x5', 'x6', 'x7', 'x8', 'x9', 'x10', 'sign']\n",
    "    \n",
    "    # Extract features and labels\n",
    "    X = df.iloc[:, :-1].to_numpy()\n",
    "    y = df.iloc[:, -1].to_numpy()\n",
    "    \n",
    "    # Initialize weights to zeros\n",
    "    w = np.zeros(11)\n",
    "    num_updates = 0\n",
    "    \n",
    "    errors = [] # Track errors for each iteration\n",
    "    update_lst = []  # add an empty list to store the number of updates\n",
    "    w0_lst = []  # create an empty list to store w_0\n",
    "    \n",
    "    for i in range(num_iterations):\n",
    "        # Sample random points from the dataset\n",
    "        idx = rng.choice(X.shape[0], M, replace=True)\n",
    "        X_sample = X[idx]\n",
    "        y_sample = y[idx]\n",
    "        \n",
    "        # Update weights\n",
    "        for j in range(M):\n",
    "            if np.sign(X_sample[j] @ w) != y_sample[j]:\n",
    "                w += y_sample[j] * X_sample[j]\n",
    "                num_updates += 1  # increment the number of updates\n",
    "        \n",
    "        # Calculate error on full dataset\n",
    "        y_pred = np.sign(X @ w)\n",
    "        error_rate = np.mean(y_pred != y)\n",
    "        update_lst.append(num_updates)  # append the number of updates\n",
    "        errors.append(error_rate)\n",
    "        w0_lst.append(w[0])  # append w_0 to the list\n",
    "    \n",
    "    # Return average error rate\n",
    "    avg_error = np.mean(errors)\n",
    "    print(f\"Average error rate: {avg_error:.5f}\")\n",
    "\n",
    "    # calculate the median of updates\n",
    "    median_updates = np.median(update_lst)\n",
    "    print(\"Median number of updates =\", median_updates)\n",
    "\n",
    "    # calculate the median of w_0\n",
    "    median_w0 = np.median(w0_lst)  \n",
    "    print(\"Median of w_0 =\", median_w0)\n",
    "\n",
    "    return avg_error, median_updates, median_w0\n",
    "\n",
    "perceptron_algorithm('ML_HW1_data.dat', num_samples=256, num_iterations=1000)\n"
   ]
  },
  {
   "attachments": {},
   "cell_type": "markdown",
   "metadata": {},
   "source": [
    "##### 17: scale down by 2; x0=0.5"
   ]
  },
  {
   "cell_type": "code",
   "execution_count": 12,
   "metadata": {},
   "outputs": [
    {
     "name": "stdout",
     "output_type": "stream",
     "text": [
      "Average error rate: 0.00052\n",
      "Median number of updates = 489.0\n",
      "Median of w_0 = 17.5\n"
     ]
    },
    {
     "data": {
      "text/plain": [
       "(0.00051953125, 489.0, 17.5)"
      ]
     },
     "execution_count": 12,
     "metadata": {},
     "output_type": "execute_result"
    }
   ],
   "source": [
    "import pandas as pd\n",
    "import numpy as np\n",
    "\n",
    "def perceptron_algorithm(data_file_path, num_samples=256, num_iterations=1000):\n",
    "    rng = np.random.default_rng()\n",
    "    M = int(num_samples * 4)\n",
    "    df = pd.read_csv(data_file_path, sep=\"\\t\", header=None)\n",
    "    df.columns = ['x1', 'x2', 'x3', 'x4', 'x5', 'x6', 'x7', 'x8', 'x9', 'x10', 'sign']\n",
    "\n",
    "    df_scaled = df.iloc[:, :-1] /2\n",
    "    df_scaled.insert(loc=0, column=\"x0\", value=0.5)\n",
    "    df_scaled['sign'] = df['sign']\n",
    "    df_scaled.columns = ['x0','x1', 'x2', 'x3', 'x4', 'x5', 'x6', 'x7', 'x8', 'x9', 'x10', 'sign']\n",
    "    \n",
    "    # Extract features and labels\n",
    "    X = df_scaled.iloc[:, :-1].to_numpy()\n",
    "    y = df_scaled.iloc[:, -1].to_numpy()\n",
    "    \n",
    "    # Initialize weights to zeros\n",
    "    w = np.zeros(11)\n",
    "    num_updates = 0\n",
    "    \n",
    "    errors = [] # Track errors for each iteration\n",
    "    update_lst = []  # add an empty list to store the number of updates\n",
    "    w0_lst = []  # create an empty list to store w_0\n",
    "    \n",
    "    for i in range(num_iterations):\n",
    "        # Sample random points from the dataset\n",
    "        idx = rng.choice(X.shape[0], M, replace=True)\n",
    "        X_sample = X[idx]\n",
    "        y_sample = y[idx]\n",
    "        \n",
    "        # Update weights\n",
    "        for j in range(M):\n",
    "            if np.sign(X_sample[j] @ w) != y_sample[j]:\n",
    "                w += y_sample[j] * X_sample[j]\n",
    "                num_updates += 1  # increment the number of updates\n",
    "        \n",
    "        # Calculate error on full dataset\n",
    "        y_pred = np.sign(X @ w)\n",
    "        error_rate = np.mean(y_pred != y)\n",
    "        update_lst.append(num_updates)  # append the number of updates\n",
    "        errors.append(error_rate)\n",
    "        w0_lst.append(w[0])  # append w_0 to the list\n",
    "    \n",
    "    # Return average error rate\n",
    "    avg_error = np.mean(errors)\n",
    "    print(f\"Average error rate: {avg_error:.5f}\")\n",
    "\n",
    "    # calculate the median of updates\n",
    "    median_updates = np.median(update_lst)\n",
    "    print(\"Median number of updates =\", median_updates)\n",
    "\n",
    "    # calculate the median of w_0\n",
    "    median_w0 = np.median(w0_lst)  \n",
    "    print(\"Median of w_0 =\", median_w0)\n",
    "\n",
    "    return avg_error, median_updates, median_w0\n",
    "\n",
    "perceptron_algorithm('ML_HW1_data.dat', num_samples=256, num_iterations=1000)\n"
   ]
  },
  {
   "attachments": {},
   "cell_type": "markdown",
   "metadata": {},
   "source": [
    "##### 18: x0=0"
   ]
  },
  {
   "cell_type": "code",
   "execution_count": 11,
   "metadata": {},
   "outputs": [
    {
     "name": "stdout",
     "output_type": "stream",
     "text": [
      "Average error rate: 0.00044\n",
      "Median number of updates = 463.0\n",
      "Median of w_0 = 0.0\n"
     ]
    },
    {
     "data": {
      "text/plain": [
       "(0.00044140625, 463.0, 0.0)"
      ]
     },
     "execution_count": 11,
     "metadata": {},
     "output_type": "execute_result"
    }
   ],
   "source": [
    "import pandas as pd\n",
    "import numpy as np\n",
    "\n",
    "def perceptron_algorithm(data_file_path, num_samples=256, num_iterations=1000):\n",
    "    rng = np.random.default_rng()\n",
    "    M = int(num_samples * 4)\n",
    "    df = pd.read_csv(data_file_path, sep=\"\\t\", header=None)\n",
    "    df.insert(loc=0, column=\"x0\", value=0)\n",
    "    df.columns = ['x0','x1', 'x2', 'x3', 'x4', 'x5', 'x6', 'x7', 'x8', 'x9', 'x10', 'sign']\n",
    "    \n",
    "    # Extract features and labels\n",
    "    X = df.iloc[:, :-1].to_numpy()\n",
    "    y = df.iloc[:, -1].to_numpy()\n",
    "    \n",
    "    # Initialize weights to zeros\n",
    "    w = np.zeros(11)\n",
    "    num_updates = 0\n",
    "    \n",
    "    errors = [] # Track errors for each iteration\n",
    "    update_lst = []  # add an empty list to store the number of updates\n",
    "    w0_lst = []  # create an empty list to store w_0\n",
    "    \n",
    "    for i in range(num_iterations):\n",
    "        # Sample random points from the dataset\n",
    "        idx = rng.choice(X.shape[0], M, replace=True)\n",
    "        X_sample = X[idx]\n",
    "        y_sample = y[idx]\n",
    "        \n",
    "        # Update weights\n",
    "        for j in range(M):\n",
    "            if np.sign(X_sample[j] @ w) != y_sample[j]:\n",
    "                w += y_sample[j] * X_sample[j]\n",
    "                num_updates += 1  # increment the number of updates\n",
    "        \n",
    "        # Calculate error on full dataset\n",
    "        y_pred = np.sign(X @ w)\n",
    "        error_rate = np.mean(y_pred != y)\n",
    "        update_lst.append(num_updates)  # append the number of updates\n",
    "        errors.append(error_rate)\n",
    "        w0_lst.append(w[0])  # append w_0 to the list\n",
    "    \n",
    "    # Return average error rate\n",
    "    avg_error = np.mean(errors)\n",
    "    print(f\"Average error rate: {avg_error:.5f}\")\n",
    "\n",
    "    # calculate the median of updates\n",
    "    median_updates = np.median(update_lst)\n",
    "    print(\"Median number of updates =\", median_updates)\n",
    "\n",
    "    # calculate the median of w_0\n",
    "    median_w0 = np.median(w0_lst)  \n",
    "    print(\"Median of w_0 =\", median_w0)\n",
    "\n",
    "    return avg_error, median_updates, median_w0\n",
    "\n",
    "perceptron_algorithm('ML_HW1_data.dat', num_samples=256, num_iterations=1000)\n"
   ]
  },
  {
   "attachments": {},
   "cell_type": "markdown",
   "metadata": {},
   "source": [
    "##### 19: x0=-1"
   ]
  },
  {
   "cell_type": "code",
   "execution_count": 9,
   "metadata": {},
   "outputs": [
    {
     "name": "stdout",
     "output_type": "stream",
     "text": [
      "Average error rate: 0.00041\n",
      "Median number of updates = 613.0\n",
      "Median of w_0*x_0 = 41.0\n"
     ]
    },
    {
     "data": {
      "text/plain": [
       "(0.00040625, 613.0, 41.0)"
      ]
     },
     "execution_count": 9,
     "metadata": {},
     "output_type": "execute_result"
    }
   ],
   "source": [
    "import pandas as pd\n",
    "import numpy as np\n",
    "\n",
    "def perceptron_algorithm(data_file_path, num_samples=256, num_iterations=1000):\n",
    "    rng = np.random.default_rng()\n",
    "    M = int(num_samples * 4)\n",
    "    df = pd.read_csv(data_file_path, sep=\"\\t\", header=None)\n",
    "    df.insert(loc=0, column=\"x0\", value=-1)\n",
    "    df.columns = ['x0','x1', 'x2', 'x3', 'x4', 'x5', 'x6', 'x7', 'x8', 'x9', 'x10', 'sign']\n",
    "    \n",
    "    # Extract features and labels\n",
    "    X = df.iloc[:, :-1].to_numpy()\n",
    "    y = df.iloc[:, -1].to_numpy()\n",
    "    \n",
    "    # Initialize weights to zeros\n",
    "    w = np.zeros(11)\n",
    "    num_updates = 0\n",
    "    \n",
    "    errors = [] # Track errors for each iteration\n",
    "    update_lst = []  # add an empty list to store the number of updates\n",
    "    w0x0_lst = []  # create an empty list to store w_0*x_0\n",
    "    \n",
    "    for i in range(num_iterations):\n",
    "        # Sample random points from the dataset\n",
    "        idx = rng.choice(X.shape[0], M, replace=True)\n",
    "        X_sample = X[idx]\n",
    "        y_sample = y[idx]\n",
    "        \n",
    "        # Update weights\n",
    "        for j in range(M):\n",
    "            if np.sign(X_sample[j] @ w) != y_sample[j]:\n",
    "                w += y_sample[j] * X_sample[j]\n",
    "                num_updates += 1  # increment the number of updates\n",
    "        \n",
    "        # Calculate error on full dataset\n",
    "        y_pred = np.sign(X @ w)\n",
    "        error_rate = np.mean(y_pred != y)\n",
    "        update_lst.append(num_updates)  # append the number of updates\n",
    "        errors.append(error_rate)\n",
    "        w0x0_lst.append(w[0]*-1)  # append w_0*x_0 to the list\n",
    "    \n",
    "    # Return average error rate\n",
    "    avg_error = np.mean(errors)\n",
    "    print(f\"Average error rate: {avg_error:.5f}\")\n",
    "\n",
    "    # calculate the median of updates\n",
    "    median_updates = np.median(update_lst)\n",
    "    print(\"Median number of updates =\", median_updates)\n",
    "\n",
    "    # calculate the median of w_0*x_0\n",
    "    median_w0x0 = np.median(w0x0_lst)  \n",
    "    print(\"Median of w_0*x_0 =\", median_w0x0)\n",
    "\n",
    "    return avg_error, median_updates, median_w0x0\n",
    "\n",
    "perceptron_algorithm('ML_HW1_data.dat', num_samples=256, num_iterations=1000)\n"
   ]
  },
  {
   "attachments": {},
   "cell_type": "markdown",
   "metadata": {},
   "source": [
    "##### 20: x0=0.1126"
   ]
  },
  {
   "cell_type": "code",
   "execution_count": 8,
   "metadata": {},
   "outputs": [
    {
     "name": "stdout",
     "output_type": "stream",
     "text": [
      "Average error rate: 0.00019\n",
      "Median number of updates = 409.0\n",
      "Median of w_0*x_0 = 0.4183990800000001\n"
     ]
    },
    {
     "data": {
      "text/plain": [
       "(0.00019140625, 409.0, 0.4183990800000001)"
      ]
     },
     "execution_count": 8,
     "metadata": {},
     "output_type": "execute_result"
    }
   ],
   "source": [
    "import pandas as pd\n",
    "import numpy as np\n",
    "\n",
    "def perceptron_algorithm(data_file_path, num_samples=256, num_iterations=1000):\n",
    "    rng = np.random.default_rng()\n",
    "    M = int(num_samples * 4)\n",
    "    df = pd.read_csv(data_file_path, sep=\"\\t\", header=None)\n",
    "    df.insert(loc=0, column=\"x0\", value=0.1126)\n",
    "    df.columns = ['x0','x1', 'x2', 'x3', 'x4', 'x5', 'x6', 'x7', 'x8', 'x9', 'x10', 'sign']\n",
    "    \n",
    "    # Extract features and labels\n",
    "    X = df.iloc[:, :-1].to_numpy()\n",
    "    y = df.iloc[:, -1].to_numpy()\n",
    "    \n",
    "    # Initialize weights to zeros\n",
    "    w = np.zeros(11)\n",
    "    num_updates = 0\n",
    "    \n",
    "    errors = [] # Track errors for each iteration\n",
    "    update_lst = []  # add an empty list to store the number of updates\n",
    "    w0x0_lst = []  # create an empty list to store w_0*x_0\n",
    "    \n",
    "    for i in range(num_iterations):\n",
    "        # Sample random points from the dataset\n",
    "        idx = rng.choice(X.shape[0], M, replace=True)\n",
    "        X_sample = X[idx]\n",
    "        y_sample = y[idx]\n",
    "        \n",
    "        # Update weights\n",
    "        for j in range(M):\n",
    "            if np.sign(X_sample[j] @ w) != y_sample[j]:\n",
    "                w += y_sample[j] * X_sample[j]\n",
    "                num_updates += 1  # increment the number of updates\n",
    "        \n",
    "        # Calculate error on full dataset\n",
    "        y_pred = np.sign(X @ w)\n",
    "        error_rate = np.mean(y_pred != y)\n",
    "        update_lst.append(num_updates)  # append the number of updates\n",
    "        errors.append(error_rate)\n",
    "        w0x0_lst.append(w[0]*0.1126)  # append w_0*x_0 to the list\n",
    "    \n",
    "    # Return average error rate\n",
    "    avg_error = np.mean(errors)\n",
    "    print(f\"Average error rate: {avg_error:.5f}\")\n",
    "\n",
    "    # calculate the median of updates\n",
    "    median_updates = np.median(update_lst)\n",
    "    print(\"Median number of updates =\", median_updates)\n",
    "\n",
    "    # calculate the median of w_0*x_0\n",
    "    median_w0x0 = np.median(w0x0_lst)  \n",
    "    print(\"Median of w_0*x_0 =\", median_w0x0)\n",
    "\n",
    "    return avg_error, median_updates, median_w0x0\n",
    "\n",
    "perceptron_algorithm('ML_HW1_data.dat', num_samples=256, num_iterations=1000)\n"
   ]
  }
 ],
 "metadata": {
  "kernelspec": {
   "display_name": "Python 3",
   "language": "python",
   "name": "python3"
  },
  "language_info": {
   "codemirror_mode": {
    "name": "ipython",
    "version": 3
   },
   "file_extension": ".py",
   "mimetype": "text/x-python",
   "name": "python",
   "nbconvert_exporter": "python",
   "pygments_lexer": "ipython3",
   "version": "3.9.2"
  },
  "orig_nbformat": 4
 },
 "nbformat": 4,
 "nbformat_minor": 2
}
