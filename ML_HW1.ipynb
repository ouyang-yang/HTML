{
 "cells": [
  {
   "cell_type": "code",
   "execution_count": 68,
   "metadata": {},
   "outputs": [
    {
     "name": "stdout",
     "output_type": "stream",
     "text": [
      "            x1      x2     x3      x4       x5        x6       x7       x8  \\\n",
      "0   -46.540308  114.20  17.93   29.06  0.01506  0.002783  0.02163  0.04608   \n",
      "1   -46.641208   98.40  18.00   23.92  0.01132  0.002476  0.01416  0.01765   \n",
      "2   -46.566008  107.10  25.47   39.43  0.04877  0.009368  0.03356  0.09050   \n",
      "3   -46.576308  159.80  25.59   92.81  0.05057  0.007259  0.01467  0.24170   \n",
      "4   -46.548008  146.00  25.07   52.49  0.02715  0.004005  0.02451  0.21330   \n",
      "..         ...     ...    ...     ...      ...       ...      ...      ...   \n",
      "251 -46.586108  108.60  35.27   43.14  0.01488  0.002355  0.01465  0.08625   \n",
      "252 -46.529208  152.00  27.15  100.40  0.03089  0.002719  0.02816  0.15230   \n",
      "253 -46.531608  110.60  28.14   50.96  0.03029  0.005412  0.01486  0.09366   \n",
      "254 -46.601008   74.32  22.99   15.24  0.02042  0.003494  0.01824  0.02330   \n",
      "255 -46.505708   89.00  28.88   25.79  0.02310  0.002267  0.02578  0.03211   \n",
      "\n",
      "          x9      x10  sign  \n",
      "0    0.21510  0.12510     1  \n",
      "1    0.05307  0.05890     1  \n",
      "2    0.25000  0.08405     1  \n",
      "3    0.84890  0.25070    -1  \n",
      "4    0.53080  0.21730    -1  \n",
      "..       ...      ...   ...  \n",
      "251  0.31690  0.11840    -1  \n",
      "252  0.30920  0.16130    -1  \n",
      "253  0.26780  0.15560    -1  \n",
      "254  0.08434  0.06528     1  \n",
      "255  0.13770  0.09532     1  \n",
      "\n",
      "[256 rows x 11 columns]\n"
     ]
    }
   ],
   "source": [
    "import matplotlib.pyplot as plt\n",
    "import numpy as np\n",
    "import pandas as pd\n",
    "\n",
    "dat_file = r\"ML_HW1_data.dat\"\n",
    "with open(dat_file, 'r') as file:\n",
    "    text = file.read()\n",
    "    \n",
    "df = pd.read_csv(\"ML_HW1_data.dat\", sep = \"\\t\", header = None)\n",
    "df.columns =['x1', 'x2', 'x3', 'x4', 'x5', 'x6', 'x7', 'x8', 'x9', 'x10', 'sign']\n",
    "print(df)\n",
    "arr = df.to_numpy()\n",
    "x_arr = X.to_numpy()\n",
    "y_arr = Y.to_numpy(dtype = \"int64\")\n",
    "\n",
    "rng = np.random.default_rng(42)"
   ]
  },
  {
   "attachments": {},
   "cell_type": "markdown",
   "metadata": {},
   "source": [
    "#### PLA"
   ]
  },
  {
   "cell_type": "code",
   "execution_count": 42,
   "metadata": {},
   "outputs": [],
   "source": [
    "#判斷有沒有分類錯誤，並列印錯誤率\n",
    "def check_error(w, train_dataset):\n",
    "    result = None\n",
    "    error = 0\n",
    "    for x, y in dataset:\n",
    "        x = np.array(x)\n",
    "        if int(np.sign(w.T.dot(x))) != y:\n",
    "            result =  x, y\n",
    "            error += 1\n",
    "    print(\"error %s/%s\" % (error, len(dataset)))\n",
    "    return result\n",
    "\n",
    "#PLA演算法實作\n",
    "def pla(train_dataset):\n",
    "    w = np.zeros(10)\n",
    "    while check_error(w, dataset) is not None:\n",
    "        x, y = check_error(w, dataset)\n",
    "        w += y * x\n",
    "    return w\n"
   ]
  },
  {
   "attachments": {},
   "cell_type": "markdown",
   "metadata": {},
   "source": [
    "##### 13"
   ]
  },
  {
   "cell_type": "code",
   "execution_count": 67,
   "metadata": {},
   "outputs": [
    {
     "name": "stdout",
     "output_type": "stream",
     "text": [
      "[-184.99153122  247.72         95.45         31.77          1.099402\n",
      "    1.012391      1.11969       1.248655      2.03372       1.23922   ]\n"
     ]
    }
   ],
   "source": [
    "dfs = df.sample(n=10)\n",
    "w = np.zeros(10)\n",
    "dfsx = dfs.iloc[:, 0:10]\n",
    "dfsy = dfs.iloc[:, 10]\n",
    "x_array = dfsx.to_numpy()\n",
    "y_array = dfsy.to_numpy()\n",
    "\n",
    "for rows in range(11):\n",
    "    if rows == 0:\n",
    "        if w.T.dot([1, 1, 1, 1 ,1 ,1 ,1 ,1 ,1 ,1]) != 1:\n",
    "            w += [1, 1, 1, 1 ,1 ,1 ,1 ,1 ,1 ,1]\n",
    "        else:\n",
    "            continue\n",
    "    else:\n",
    "        if w.T.dot(x_array[rows-1]) != y_array[rows-1]:\n",
    "            w += x_array[rows-1] * y_array[rows-1]\n",
    "        else:\n",
    "            continue\n",
    "print(w)"
   ]
  },
  {
   "cell_type": "code",
   "execution_count": 73,
   "metadata": {},
   "outputs": [
    {
     "data": {
      "text/plain": [
       "array([[ 1],\n",
       "       [ 1],\n",
       "       [ 1],\n",
       "       [ 1],\n",
       "       [ 1],\n",
       "       [ 1],\n",
       "       [ 1],\n",
       "       [-1],\n",
       "       [-1],\n",
       "       [-1]], dtype=int64)"
      ]
     },
     "execution_count": 73,
     "metadata": {},
     "output_type": "execute_result"
    }
   ],
   "source": [
    "dfs = df.sample(n=10)\n",
    "X_train = dfs[['x1', 'x2', 'x3', 'x4', 'x5', 'x6', 'x7', 'x8', 'x9', 'x10']].values\n",
    "Y_train = dfs[['sign']].values\n"
   ]
  }
 ],
 "metadata": {
  "kernelspec": {
   "display_name": "Python 3",
   "language": "python",
   "name": "python3"
  },
  "language_info": {
   "codemirror_mode": {
    "name": "ipython",
    "version": 3
   },
   "file_extension": ".py",
   "mimetype": "text/x-python",
   "name": "python",
   "nbconvert_exporter": "python",
   "pygments_lexer": "ipython3",
   "version": "3.9.2"
  },
  "orig_nbformat": 4
 },
 "nbformat": 4,
 "nbformat_minor": 2
}
