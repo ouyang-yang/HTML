{
 "cells": [
  {
   "cell_type": "code",
   "execution_count": null,
   "metadata": {},
   "outputs": [],
   "source": [
    "import matplotlib.pyplot as plt\n",
    "import numpy as np\n",
    "import pandas as pd\n",
    "\n",
    "dat_file = r\"ML_HW1_data.dat\"\n",
    "with open(dat_file, 'r') as file:\n",
    "    text = file.read()\n",
    "    \n",
    "df = pd.read_csv(\"ML_HW1_data.dat\", sep = \"\\t\", header = None)\n",
    "df.columns =['x1', 'x2', 'x3', 'x4', 'x5', 'x6', 'x7', 'x8', 'x9', 'x10', 'sign']\n",
    "print(df)"
   ]
  },
  {
   "attachments": {},
   "cell_type": "markdown",
   "metadata": {},
   "source": [
    "#### PLA"
   ]
  },
  {
   "attachments": {},
   "cell_type": "markdown",
   "metadata": {},
   "source": [
    "##### 13"
   ]
  },
  {
   "cell_type": "code",
   "execution_count": 1,
   "metadata": {},
   "outputs": [
    {
     "name": "stdout",
     "output_type": "stream",
     "text": [
      "Average error rate: 0.02734\n",
      "Median number of updates = 327.0\n",
      "Median of w_0 = 29.0\n"
     ]
    },
    {
     "data": {
      "text/plain": [
       "(0.02734375, 327.0, 29.0)"
      ]
     },
     "execution_count": 1,
     "metadata": {},
     "output_type": "execute_result"
    }
   ],
   "source": [
    "import pandas as pd\n",
    "import numpy as np\n",
    "\n",
    "def perceptron_algorithm(data_file_path, num_samples=256, num_iterations=1000):\n",
    "    \n",
    "    M = int(num_samples / 2)\n",
    "    df = pd.read_csv(data_file_path, sep=\"\\t\", header=None)\n",
    "    df.insert(loc=0, column=\"x0\", value=1)\n",
    "    df.columns = ['x0','x1', 'x2', 'x3', 'x4', 'x5', 'x6', 'x7', 'x8', 'x9', 'x10', 'sign']\n",
    "    \n",
    "    # Extract features and labels\n",
    "    X = df.iloc[:, :-1].to_numpy()\n",
    "    y = df.iloc[:, -1].to_numpy()\n",
    "    \n",
    "    # Initialize weights to zeros(w0=0)\n",
    "    w = np.zeros(11)\n",
    "    num_updates = 0\n",
    "    num_consecutive_correct = 0\n",
    "    \n",
    "    errors = [] # Track errors for each iteration\n",
    "    update_lst = []  # add an empty list to store the number of updates\n",
    "    w0_lst = []  # create an empty list to store w_0\n",
    "    \n",
    "    for t in range(num_iterations):\n",
    "        rng = np.random.default_rng()\n",
    "\n",
    "        while num_consecutive_correct < M:\n",
    "            # Sample random points from the dataset\n",
    "            idx = rng.choice(X.shape[0], replace=True)\n",
    "            X_sample = X[idx]\n",
    "            y_sample = y[idx]\n",
    "            \n",
    "            # Update weight\n",
    "            if np.sign(X_sample @ w) != y_sample:\n",
    "                w += y_sample * X_sample\n",
    "                num_updates += 1  # increment the number of updates\n",
    "                num_consecutive_correct = 0\n",
    "            else: \n",
    "                num_consecutive_correct += 1\n",
    "        \n",
    "        # Calculate error on full dataset\n",
    "        y_pred = np.sign(X @ w)\n",
    "        error_rate = np.mean(y_pred != y)\n",
    "        errors.append(error_rate)   \n",
    "\n",
    "        # append the number of updates\n",
    "        update_lst.append(num_updates)  \n",
    "        \n",
    "        # append w_0 to the list\n",
    "        w0_lst.append(w[0])  \n",
    "    \n",
    "    # Return average error rate\n",
    "    avg_error = np.mean(errors)\n",
    "    print(f\"Average error rate: {avg_error:.5f}\")\n",
    "\n",
    "    # calculate the median of updates\n",
    "    median_updates = np.median(update_lst)\n",
    "    print(\"Median number of updates =\", median_updates)\n",
    "\n",
    "    # calculate the median of w_0\n",
    "    median_w0 = np.median(w0_lst)  \n",
    "    print(\"Median of w_0 =\", median_w0)\n",
    "\n",
    "    return avg_error, median_updates, median_w0\n",
    "\n",
    "perceptron_algorithm('ML_HW1_data.dat', num_samples=256, num_iterations=1000)\n"
   ]
  },
  {
   "attachments": {},
   "cell_type": "markdown",
   "metadata": {},
   "source": [
    "##### 14, 15, 16"
   ]
  },
  {
   "cell_type": "code",
   "execution_count": 5,
   "metadata": {},
   "outputs": [
    {
     "name": "stdout",
     "output_type": "stream",
     "text": [
      "Average error rate: 0.00000\n",
      "Median number of updates = 583.0\n",
      "Median of w_0 = 39.0\n"
     ]
    },
    {
     "data": {
      "text/plain": [
       "(0.0, 583.0, 39.0)"
      ]
     },
     "execution_count": 5,
     "metadata": {},
     "output_type": "execute_result"
    }
   ],
   "source": [
    "import pandas as pd\n",
    "import numpy as np\n",
    "\n",
    "def perceptron_algorithm(data_file_path, num_samples=256, num_iterations=1000):\n",
    "    \n",
    "    M = int(num_samples * 4)\n",
    "    df = pd.read_csv(data_file_path, sep=\"\\t\", header=None)\n",
    "    df.insert(loc=0, column=\"x0\", value=1)\n",
    "    df.columns = ['x0','x1', 'x2', 'x3', 'x4', 'x5', 'x6', 'x7', 'x8', 'x9', 'x10', 'sign']\n",
    "    \n",
    "    # Extract features and labels\n",
    "    X = df.iloc[:, :-1].to_numpy()\n",
    "    y = df.iloc[:, -1].to_numpy()\n",
    "    \n",
    "    # Initialize weights to zeros(w0=0)\n",
    "    w = np.zeros(11)\n",
    "    num_updates = 0\n",
    "    num_consecutive_correct = 0\n",
    "    \n",
    "    errors = [] # Track errors for each iteration\n",
    "    update_lst = []  # add an empty list to store the number of updates\n",
    "    w0_lst = []  # create an empty list to store w_0\n",
    "    \n",
    "    for t in range(num_iterations):\n",
    "        rng = np.random.default_rng()\n",
    "\n",
    "        while num_consecutive_correct < M:\n",
    "            # Sample random points from the dataset\n",
    "            idx = rng.choice(X.shape[0], replace=True)\n",
    "            X_sample = X[idx]\n",
    "            y_sample = y[idx]\n",
    "            \n",
    "            # Update weight\n",
    "            if np.sign(X_sample @ w) != y_sample:\n",
    "                w += y_sample * X_sample\n",
    "                num_updates += 1  # increment the number of updates\n",
    "                num_consecutive_correct = 0\n",
    "            else: \n",
    "                num_consecutive_correct += 1\n",
    "        \n",
    "        # Calculate error on full dataset\n",
    "        y_pred = np.sign(X @ w)\n",
    "        error_rate = np.mean(y_pred != y)\n",
    "        errors.append(error_rate)   \n",
    "\n",
    "        # append the number of updates\n",
    "        update_lst.append(num_updates)  \n",
    "        \n",
    "        # append w_0 to the list\n",
    "        w0_lst.append(w[0])  \n",
    "    \n",
    "    # Return average error rate\n",
    "    avg_error = np.mean(errors)\n",
    "    print(f\"Average error rate: {avg_error:.5f}\")\n",
    "\n",
    "    # calculate the median of updates\n",
    "    median_updates = np.median(update_lst)\n",
    "    print(\"Median number of updates =\", median_updates)\n",
    "\n",
    "    # calculate the median of w_0\n",
    "    median_w0 = np.median(w0_lst)  \n",
    "    print(\"Median of w_0 =\", median_w0)\n",
    "\n",
    "    return avg_error, median_updates, median_w0\n",
    "\n",
    "perceptron_algorithm('ML_HW1_data.dat', num_samples=256, num_iterations=1000)\n"
   ]
  },
  {
   "attachments": {},
   "cell_type": "markdown",
   "metadata": {},
   "source": [
    "##### 17: scale down by 2; x0=0.5"
   ]
  },
  {
   "cell_type": "code",
   "execution_count": 6,
   "metadata": {},
   "outputs": [
    {
     "name": "stdout",
     "output_type": "stream",
     "text": [
      "Average error rate: 0.00000\n",
      "Median number of updates = 413.0\n",
      "Median of w_0 = 16.5\n"
     ]
    },
    {
     "data": {
      "text/plain": [
       "(0.0, 413.0, 16.5)"
      ]
     },
     "execution_count": 6,
     "metadata": {},
     "output_type": "execute_result"
    }
   ],
   "source": [
    "import pandas as pd\n",
    "import numpy as np\n",
    "\n",
    "def perceptron_algorithm(data_file_path, num_samples=256, num_iterations=1000):\n",
    "    \n",
    "    M = int(num_samples * 4)\n",
    "    df = pd.read_csv(data_file_path, sep=\"\\t\", header=None)\n",
    "    df.columns = ['x1', 'x2', 'x3', 'x4', 'x5', 'x6', 'x7', 'x8', 'x9', 'x10', 'sign']\n",
    "\n",
    "    df_scaled = df.iloc[:, :-1] /2\n",
    "    df_scaled.insert(loc=0, column=\"x0\", value=0.5)\n",
    "    df_scaled['sign'] = df['sign']\n",
    "    df_scaled.columns = ['x0','x1', 'x2', 'x3', 'x4', 'x5', 'x6', 'x7', 'x8', 'x9', 'x10', 'sign']\n",
    "    \n",
    "    # Extract features and labels\n",
    "    X = df_scaled.iloc[:, :-1].to_numpy()\n",
    "    y = df_scaled.iloc[:, -1].to_numpy()\n",
    "    \n",
    "    # Initialize weights to zeros(w0=0)\n",
    "    w = np.zeros(11)\n",
    "    num_updates = 0\n",
    "    num_consecutive_correct = 0\n",
    "    \n",
    "    errors = [] # Track errors for each iteration\n",
    "    update_lst = []  # add an empty list to store the number of updates\n",
    "    w0_lst = []  # create an empty list to store w_0\n",
    "    \n",
    "    for t in range(num_iterations):\n",
    "        rng = np.random.default_rng()\n",
    "\n",
    "        while num_consecutive_correct < M:\n",
    "            # Sample random points from the dataset\n",
    "            idx = rng.choice(X.shape[0], replace=True)\n",
    "            X_sample = X[idx]\n",
    "            y_sample = y[idx]\n",
    "            \n",
    "            # Update weight\n",
    "            if np.sign(X_sample @ w) != y_sample:\n",
    "                w += y_sample * X_sample\n",
    "                num_updates += 1  # increment the number of updates\n",
    "                num_consecutive_correct = 0\n",
    "            else: \n",
    "                num_consecutive_correct += 1\n",
    "        \n",
    "        # Calculate error on full dataset\n",
    "        y_pred = np.sign(X @ w)\n",
    "        error_rate = np.mean(y_pred != y)\n",
    "        errors.append(error_rate)   \n",
    "\n",
    "        # append the number of updates\n",
    "        update_lst.append(num_updates)  \n",
    "        \n",
    "        # append w_0 to the list\n",
    "        w0_lst.append(w[0])  \n",
    "    \n",
    "    # Return average error rate\n",
    "    avg_error = np.mean(errors)\n",
    "    print(f\"Average error rate: {avg_error:.5f}\")\n",
    "\n",
    "    # calculate the median of updates\n",
    "    median_updates = np.median(update_lst)\n",
    "    print(\"Median number of updates =\", median_updates)\n",
    "\n",
    "    # calculate the median of w_0\n",
    "    median_w0 = np.median(w0_lst)  \n",
    "    print(\"Median of w_0 =\", median_w0)\n",
    "\n",
    "    return avg_error, median_updates, median_w0\n",
    "\n",
    "perceptron_algorithm('ML_HW1_data.dat', num_samples=256, num_iterations=1000)\n"
   ]
  },
  {
   "attachments": {},
   "cell_type": "markdown",
   "metadata": {},
   "source": [
    "##### 18: x0=0"
   ]
  },
  {
   "cell_type": "code",
   "execution_count": 8,
   "metadata": {},
   "outputs": [
    {
     "name": "stdout",
     "output_type": "stream",
     "text": [
      "Average error rate: 0.00000\n",
      "Median number of updates = 414.0\n",
      "Median of w_0 = 0.0\n"
     ]
    },
    {
     "data": {
      "text/plain": [
       "(0.0, 414.0, 0.0)"
      ]
     },
     "execution_count": 8,
     "metadata": {},
     "output_type": "execute_result"
    }
   ],
   "source": [
    "import pandas as pd\n",
    "import numpy as np\n",
    "\n",
    "def perceptron_algorithm(data_file_path, num_samples=256, num_iterations=1000):\n",
    "    \n",
    "    M = int(num_samples * 4)\n",
    "    df = pd.read_csv(data_file_path, sep=\"\\t\", header=None)\n",
    "    df.insert(loc=0, column=\"x0\", value=0)\n",
    "    df.columns = ['x0','x1', 'x2', 'x3', 'x4', 'x5', 'x6', 'x7', 'x8', 'x9', 'x10', 'sign']\n",
    "    \n",
    "    # Extract features and labels\n",
    "    X = df.iloc[:, :-1].to_numpy()\n",
    "    y = df.iloc[:, -1].to_numpy()\n",
    "    \n",
    "    # Initialize weights to zeros(w0=0)\n",
    "    w = np.zeros(11)\n",
    "    num_updates = 0\n",
    "    num_consecutive_correct = 0\n",
    "    \n",
    "    errors = [] # Track errors for each iteration\n",
    "    update_lst = []  # add an empty list to store the number of updates\n",
    "    w0_lst = []  # create an empty list to store w_0\n",
    "    \n",
    "    for t in range(num_iterations):\n",
    "        rng = np.random.default_rng()\n",
    "\n",
    "        while num_consecutive_correct < M:\n",
    "            # Sample random points from the dataset\n",
    "            idx = rng.choice(X.shape[0], replace=True)\n",
    "            X_sample = X[idx]\n",
    "            y_sample = y[idx]\n",
    "            \n",
    "            # Update weight\n",
    "            if np.sign(X_sample @ w) != y_sample:\n",
    "                w += y_sample * X_sample\n",
    "                num_updates += 1  # increment the number of updates\n",
    "                num_consecutive_correct = 0\n",
    "            else: \n",
    "                num_consecutive_correct += 1\n",
    "        \n",
    "        # Calculate error on full dataset\n",
    "        y_pred = np.sign(X @ w)\n",
    "        error_rate = np.mean(y_pred != y)\n",
    "        errors.append(error_rate)   \n",
    "\n",
    "        # append the number of updates\n",
    "        update_lst.append(num_updates)  \n",
    "        \n",
    "        # append w_0 to the list\n",
    "        w0_lst.append(w[0])  \n",
    "    \n",
    "    # Return average error rate\n",
    "    avg_error = np.mean(errors)\n",
    "    print(f\"Average error rate: {avg_error:.5f}\")\n",
    "\n",
    "    # calculate the median of updates\n",
    "    median_updates = np.median(update_lst)\n",
    "    print(\"Median number of updates =\", median_updates)\n",
    "\n",
    "    # calculate the median of w_0\n",
    "    median_w0 = np.median(w0_lst)  \n",
    "    print(\"Median of w_0 =\", median_w0)\n",
    "\n",
    "    return avg_error, median_updates, median_w0\n",
    "\n",
    "perceptron_algorithm('ML_HW1_data.dat', num_samples=256, num_iterations=1000)\n"
   ]
  },
  {
   "attachments": {},
   "cell_type": "markdown",
   "metadata": {},
   "source": [
    "##### 19: x0=-1"
   ]
  },
  {
   "cell_type": "code",
   "execution_count": 9,
   "metadata": {},
   "outputs": [
    {
     "name": "stdout",
     "output_type": "stream",
     "text": [
      "Average error rate: 0.00000\n",
      "Median number of updates = 531.0\n",
      "Median of w_0*x_0 = 39.0\n"
     ]
    },
    {
     "data": {
      "text/plain": [
       "(0.0, 531.0, 39.0)"
      ]
     },
     "execution_count": 9,
     "metadata": {},
     "output_type": "execute_result"
    }
   ],
   "source": [
    "import pandas as pd\n",
    "import numpy as np\n",
    "\n",
    "def perceptron_algorithm(data_file_path, num_samples=256, num_iterations=1000):\n",
    "    \n",
    "    M = int(num_samples * 4)\n",
    "    df = pd.read_csv(data_file_path, sep=\"\\t\", header=None)\n",
    "    df.insert(loc=0, column=\"x0\", value=-1)\n",
    "    df.columns = ['x0','x1', 'x2', 'x3', 'x4', 'x5', 'x6', 'x7', 'x8', 'x9', 'x10', 'sign']\n",
    "    \n",
    "    # Extract features and labels\n",
    "    X = df.iloc[:, :-1].to_numpy()\n",
    "    y = df.iloc[:, -1].to_numpy()\n",
    "    \n",
    "    # Initialize weights to zeros(w0=0)\n",
    "    w = np.zeros(11)\n",
    "    num_updates = 0\n",
    "    num_consecutive_correct = 0\n",
    "    \n",
    "    errors = [] # Track errors for each iteration\n",
    "    update_lst = []  # add an empty list to store the number of updates\n",
    "    w0x0_lst = []  # create an empty list to store w_0*x_0\n",
    "    \n",
    "    for t in range(num_iterations):\n",
    "        rng = np.random.default_rng()\n",
    "\n",
    "        while num_consecutive_correct < M:\n",
    "            # Sample random points from the dataset\n",
    "            idx = rng.choice(X.shape[0], replace=True)\n",
    "            X_sample = X[idx]\n",
    "            y_sample = y[idx]\n",
    "            \n",
    "            # Update weight\n",
    "            if np.sign(X_sample @ w) != y_sample:\n",
    "                w += y_sample * X_sample\n",
    "                num_updates += 1  # increment the number of updates\n",
    "                num_consecutive_correct = 0\n",
    "            else: \n",
    "                num_consecutive_correct += 1\n",
    "        \n",
    "        # Calculate error on full dataset\n",
    "        y_pred = np.sign(X @ w)\n",
    "        error_rate = np.mean(y_pred != y)\n",
    "        errors.append(error_rate)   \n",
    "\n",
    "        # append the number of updates\n",
    "        update_lst.append(num_updates)  \n",
    "        \n",
    "        # append w_0 to the list\n",
    "        w0x0_lst.append(w[0]*(-1))  \n",
    "    \n",
    "    # Return average error rate\n",
    "    avg_error = np.mean(errors)\n",
    "    print(f\"Average error rate: {avg_error:.5f}\")\n",
    "\n",
    "    # calculate the median of updates\n",
    "    median_updates = np.median(update_lst)\n",
    "    print(\"Median number of updates =\", median_updates)\n",
    "\n",
    "    # calculate the median of w_0*x_0\n",
    "    median_w0x0 = np.median(w0x0_lst)  \n",
    "    print(\"Median of w_0*x_0 =\", median_w0x0)\n",
    "\n",
    "    return avg_error, median_updates, median_w0x0\n",
    "\n",
    "perceptron_algorithm('ML_HW1_data.dat', num_samples=256, num_iterations=1000)\n"
   ]
  },
  {
   "attachments": {},
   "cell_type": "markdown",
   "metadata": {},
   "source": [
    "##### 20: x0=0.1126"
   ]
  },
  {
   "cell_type": "code",
   "execution_count": 11,
   "metadata": {},
   "outputs": [
    {
     "name": "stdout",
     "output_type": "stream",
     "text": [
      "Average error rate: 0.00000\n",
      "Median number of updates = 431.0\n",
      "Median of w_0*x_0 = 0.4183990800000001\n"
     ]
    },
    {
     "data": {
      "text/plain": [
       "(0.0, 431.0, 0.4183990800000001)"
      ]
     },
     "execution_count": 11,
     "metadata": {},
     "output_type": "execute_result"
    }
   ],
   "source": [
    "import pandas as pd\n",
    "import numpy as np\n",
    "\n",
    "def perceptron_algorithm(data_file_path, num_samples=256, num_iterations=1000):\n",
    "    \n",
    "    M = int(num_samples * 4)\n",
    "    df = pd.read_csv(data_file_path, sep=\"\\t\", header=None)\n",
    "    df.insert(loc=0, column=\"x0\", value=0.1126)\n",
    "    df.columns = ['x0','x1', 'x2', 'x3', 'x4', 'x5', 'x6', 'x7', 'x8', 'x9', 'x10', 'sign']\n",
    "    \n",
    "    # Extract features and labels\n",
    "    X = df.iloc[:, :-1].to_numpy()\n",
    "    y = df.iloc[:, -1].to_numpy()\n",
    "    \n",
    "    # Initialize weights to zeros(w0=0)\n",
    "    w = np.zeros(11)\n",
    "    num_updates = 0\n",
    "    num_consecutive_correct = 0\n",
    "    \n",
    "    errors = [] # Track errors for each iteration\n",
    "    update_lst = []  # add an empty list to store the number of updates\n",
    "    w0x0_lst = []  # create an empty list to store w_0*x_0\n",
    "    \n",
    "    for t in range(num_iterations):\n",
    "        rng = np.random.default_rng()\n",
    "\n",
    "        while num_consecutive_correct < M:\n",
    "            # Sample random points from the dataset\n",
    "            idx = rng.choice(X.shape[0], replace=True)\n",
    "            X_sample = X[idx]\n",
    "            y_sample = y[idx]\n",
    "            \n",
    "            # Update weight\n",
    "            if np.sign(X_sample @ w) != y_sample:\n",
    "                w += y_sample * X_sample\n",
    "                num_updates += 1  # increment the number of updates\n",
    "                num_consecutive_correct = 0\n",
    "            else: \n",
    "                num_consecutive_correct += 1\n",
    "        \n",
    "        # Calculate error on full dataset\n",
    "        y_pred = np.sign(X @ w)\n",
    "        error_rate = np.mean(y_pred != y)\n",
    "        errors.append(error_rate)   \n",
    "\n",
    "        # append the number of updates\n",
    "        update_lst.append(num_updates)  \n",
    "        \n",
    "        # append w_0 to the list\n",
    "        w0x0_lst.append(w[0]*(0.1126))  \n",
    "    \n",
    "    # Return average error rate\n",
    "    avg_error = np.mean(errors)\n",
    "    print(f\"Average error rate: {avg_error:.5f}\")\n",
    "\n",
    "    # calculate the median of updates\n",
    "    median_updates = np.median(update_lst)\n",
    "    print(\"Median number of updates =\", median_updates)\n",
    "\n",
    "    # calculate the median of w_0*x_0\n",
    "    median_w0x0 = np.median(w0x0_lst)  \n",
    "    print(\"Median of w_0*x_0 =\", median_w0x0)\n",
    "\n",
    "    return avg_error, median_updates, median_w0x0\n",
    "\n",
    "perceptron_algorithm('ML_HW1_data.dat', num_samples=256, num_iterations=1000)\n"
   ]
  },
  {
   "cell_type": "code",
   "execution_count": null,
   "metadata": {},
   "outputs": [],
   "source": []
  },
  {
   "cell_type": "code",
   "execution_count": null,
   "metadata": {},
   "outputs": [],
   "source": []
  }
 ],
 "metadata": {
  "kernelspec": {
   "display_name": "Python 3",
   "language": "python",
   "name": "python3"
  },
  "language_info": {
   "codemirror_mode": {
    "name": "ipython",
    "version": 3
   },
   "file_extension": ".py",
   "mimetype": "text/x-python",
   "name": "python",
   "nbconvert_exporter": "python",
   "pygments_lexer": "ipython3",
   "version": "3.9.2"
  },
  "orig_nbformat": 4,
  "vscode": {
   "interpreter": {
    "hash": "763f68cfa77970155ad89d3b4c80e7422a8146a69ef8ea19132efe5c9f58c579"
   }
  }
 },
 "nbformat": 4,
 "nbformat_minor": 2
}
