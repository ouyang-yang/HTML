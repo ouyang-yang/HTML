{
 "cells": [
  {
   "cell_type": "code",
   "execution_count": 37,
   "metadata": {},
   "outputs": [],
   "source": [
    "import matplotlib.pyplot as plt\n",
    "import numpy as np"
   ]
  },
  {
   "cell_type": "code",
   "execution_count": 38,
   "metadata": {},
   "outputs": [
    {
     "name": "stderr",
     "output_type": "stream",
     "text": [
      "<ipython-input-38-7b3fa19fb475>:3: VisibleDeprecationWarning: Creating an ndarray from ragged nested sequences (which is a list-or-tuple of lists-or-tuples-or ndarrays with different lengths or shapes) is deprecated. If you meant to do this, you must specify 'dtype=object' when creating the ndarray\n",
      "  train_dataset = np.array([\n",
      "<ipython-input-38-7b3fa19fb475>:10: VisibleDeprecationWarning: Creating an ndarray from ragged nested sequences (which is a list-or-tuple of lists-or-tuples-or ndarrays with different lengths or shapes) is deprecated. If you meant to do this, you must specify 'dtype=object' when creating the ndarray\n",
      "  test_dataset = np.array([\n"
     ]
    }
   ],
   "source": [
    "\n",
    "#train_dataset 可以線性分割\n",
    "\n",
    "train_dataset = np.array([\n",
    "((1, -2, 2), -1),\n",
    "((1, -1, 2), -1),\n",
    "((1, -1, 0), -1),\n",
    "((1, 2, 0), 1),\n",
    "((1, 1, 1), 1)])\n",
    "\n",
    "test_dataset = np.array([\n",
    "((1, 1/2, 2), 1),\n",
    "((1, 1/4, 1), 1),\n",
    "((1, 1/2, 0), 1),\n",
    "((1, -1/2, 1), -1)])\n"
   ]
  },
  {
   "cell_type": "code",
   "execution_count": 39,
   "metadata": {},
   "outputs": [],
   "source": [
    "#判斷有沒有分類錯誤，並列印錯誤率\n",
    "\n",
    "def check_error(w, train_dataset):\n",
    "    result = None\n",
    "    error = 0\n",
    "    for x, s in dataset:\n",
    "        x = np.array(x)\n",
    "        if int(np.sign(w.T.dot(x))) != s:\n",
    "            result =  x, s\n",
    "            error += 1\n",
    "    print(\"error %s/%s\" % (error, len(dataset)))\n",
    "    return result\n"
   ]
  },
  {
   "cell_type": "code",
   "execution_count": 40,
   "metadata": {},
   "outputs": [],
   "source": [
    "#PLA演算法實作\n",
    "def pla(train_dataset):\n",
    "    w = np.zeros(3)\n",
    "    while check_error(w, dataset) is not None:\n",
    "        x, s = check_error(w, dataset)\n",
    "        w += s * x\n",
    "    return w\n"
   ]
  },
  {
   "cell_type": "code",
   "execution_count": 47,
   "metadata": {},
   "outputs": [
    {
     "name": "stdout",
     "output_type": "stream",
     "text": [
      "error 5/5\n",
      "error 5/5\n",
      "error 3/5\n",
      "error 3/5\n",
      "error 1/5\n",
      "error 1/5\n",
      "error 0/5\n"
     ]
    },
    {
     "data": {
      "image/png": "[encoded data removed]",
      "text/plain": [
       "<Figure size 432x288 with 1 Axes>"
      ]
     },
     "metadata": {
      "needs_background": "light"
     },
     "output_type": "display_data"
    }
   ],
   "source": [
    "#執行\n",
    "w = pla(train_dataset)\n",
    "\n",
    "#畫圖\n",
    "ps = [v[0] for v in train_dataset]\n",
    "ts = [n[0] for n in test_dataset]\n",
    "fig = plt.figure()\n",
    "ax1 = fig.add_subplot(111)\n",
    "#dataset前半後半已經分割好 直接畫就是\n",
    "\n",
    "ax1.scatter([v[1] for v in ps[:3]], [v[2] for v in ps[:3]], s=10, c='b', marker=\"o\", label='O')\n",
    "ax1.scatter([v[1] for v in ps[3:]], [v[2] for v in ps[3:]], s=10, c='r', marker=\"x\", label='X')\n",
    "ax1.scatter([n[1] for n in ts[:4]], [n[2] for n in ts[:4]], s=10, c='y', marker=\"^\", label='?')\n",
    "l = np.linspace(-2,2)\n",
    "a,b = -w[1]/w[2], -w[0]/w[2]\n",
    "ax1.plot(l, a*l + b, 'b-')\n",
    "plt.legend(loc='upper left');\n",
    "plt.show()"
   ]
  }
 ],
 "metadata": {
  "kernelspec": {
   "display_name": "Python 3",
   "language": "python",
   "name": "python3"
  },
  "language_info": {
   "codemirror_mode": {
    "name": "ipython",
    "version": 3
   },
   "file_extension": ".py",
   "mimetype": "text/x-python",
   "name": "python",
   "nbconvert_exporter": "python",
   "pygments_lexer": "ipython3",
   "version": "3.9.2"
  },
  "orig_nbformat": 4
 },
 "nbformat": 4,
 "nbformat_minor": 2
}
