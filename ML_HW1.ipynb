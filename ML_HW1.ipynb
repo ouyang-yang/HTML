{
 "cells": [
  {
   "cell_type": "code",
   "execution_count": 92,
   "metadata": {},
   "outputs": [
    {
     "name": "stdout",
     "output_type": "stream",
     "text": [
      "            x1      x2     x3      x4       x5        x6       x7       x8  \\\n",
      "0   -46.540308  114.20  17.93   29.06  0.01506  0.002783  0.02163  0.04608   \n",
      "1   -46.641208   98.40  18.00   23.92  0.01132  0.002476  0.01416  0.01765   \n",
      "2   -46.566008  107.10  25.47   39.43  0.04877  0.009368  0.03356  0.09050   \n",
      "3   -46.576308  159.80  25.59   92.81  0.05057  0.007259  0.01467  0.24170   \n",
      "4   -46.548008  146.00  25.07   52.49  0.02715  0.004005  0.02451  0.21330   \n",
      "..         ...     ...    ...     ...      ...       ...      ...      ...   \n",
      "251 -46.586108  108.60  35.27   43.14  0.01488  0.002355  0.01465  0.08625   \n",
      "252 -46.529208  152.00  27.15  100.40  0.03089  0.002719  0.02816  0.15230   \n",
      "253 -46.531608  110.60  28.14   50.96  0.03029  0.005412  0.01486  0.09366   \n",
      "254 -46.601008   74.32  22.99   15.24  0.02042  0.003494  0.01824  0.02330   \n",
      "255 -46.505708   89.00  28.88   25.79  0.02310  0.002267  0.02578  0.03211   \n",
      "\n",
      "          x9      x10  sign  \n",
      "0    0.21510  0.12510     1  \n",
      "1    0.05307  0.05890     1  \n",
      "2    0.25000  0.08405     1  \n",
      "3    0.84890  0.25070    -1  \n",
      "4    0.53080  0.21730    -1  \n",
      "..       ...      ...   ...  \n",
      "251  0.31690  0.11840    -1  \n",
      "252  0.30920  0.16130    -1  \n",
      "253  0.26780  0.15560    -1  \n",
      "254  0.08434  0.06528     1  \n",
      "255  0.13770  0.09532     1  \n",
      "\n",
      "[256 rows x 11 columns]\n"
     ]
    }
   ],
   "source": [
    "import matplotlib.pyplot as plt\n",
    "import numpy as np\n",
    "import pandas as pd\n",
    "\n",
    "dat_file = r\"ML_HW1_data.dat\"\n",
    "with open(dat_file, 'r') as file:\n",
    "    text = file.read()\n",
    "    \n",
    "df = pd.read_csv(\"ML_HW1_data.dat\", sep = \"\\t\", header = None)\n",
    "df.columns =['x1', 'x2', 'x3', 'x4', 'x5', 'x6', 'x7', 'x8', 'x9', 'x10', 'sign']\n",
    "print(df)\n",
    "arr = df.to_numpy()\n",
    "x_arr = X.to_numpy()\n",
    "y_arr = Y.to_numpy(dtype = \"int64\")\n",
    "\n",
    "rng = np.random.default_rng(42)"
   ]
  },
  {
   "attachments": {},
   "cell_type": "markdown",
   "metadata": {},
   "source": [
    "#### PLA"
   ]
  },
  {
   "attachments": {},
   "cell_type": "markdown",
   "metadata": {},
   "source": [
    "##### 13"
   ]
  },
  {
   "cell_type": "code",
   "execution_count": null,
   "metadata": {},
   "outputs": [],
   "source": [
    "def Average(lst):\n",
    "    return sum(lst) / len(lst)\n",
    "N = 256\n",
    "M = int(256 / 2)\n",
    "count = 0\n",
    "inError_lst = []\n",
    "w_lst = []\n",
    "df = pd.read_csv(\"ML_HW1_data.dat\", sep = \"\\t\", header = None)\n",
    "df.columns =['x1', 'x2', 'x3', 'x4', 'x5', 'x6', 'x7', 'x8', 'x9', 'x10', 'sign']\n",
    "\n",
    "while count < 1000:\n",
    "    rng = np.random.default_rng(42)\n",
    "    dfs = df.sample(n=M, replace = True)\n",
    "    \n",
    "    dfx = df.iloc[:, 0:10]\n",
    "    dfy = df.iloc[:, 10]    \n",
    "    dfsx = dfs.iloc[:, 0:10]\n",
    "    dfsy = dfs.iloc[:, 10]\n",
    "    x_array = dfx.to_numpy()\n",
    "    y_array = dfy.to_numpy()\n",
    "    sx_array = dfsx.to_numpy()\n",
    "    sy_array = dfsy.to_numpy()\n",
    "\n",
    "    w = np.zeros(10)   \n",
    "    w = np.zeros(10) + [1, 1, 1, 1 ,1 ,1 ,1 ,1 ,1 ,1] \n",
    "    while any(w.T.dot(sx_array[rows]) != sy_array[rows] for rows in range(M)):       \n",
    "        for rows in range(M):            \n",
    "            if w.T.dot(sx_array[rows]) != sy_array[rows]:\n",
    "                w += sx_array[rows] * sy_array[rows]   \n",
    "    \n",
    "    Ein = 0\n",
    "    error_num = 0\n",
    "    for rows in range(M):\n",
    "        if w.T.dot(x_array[rows]) != y_array[rows]:\n",
    "            error_num += 1\n",
    "\n",
    "    Ein = error_num / M\n",
    "    inError_lst.append(Ein)\n",
    "    count+=1\n",
    "\n",
    "print(inError_lst)\n",
    "average = Average(inError_lst)\n",
    "print(\"Average of Ein =\", average)"
   ]
  },
  {
   "cell_type": "code",
   "execution_count": 101,
   "metadata": {},
   "outputs": [],
   "source": [
    "dfs = df.sample(n=M, random_state=1)\n",
    "X_train = dfs[['x1', 'x2', 'x3', 'x4', 'x5', 'x6', 'x7', 'x8', 'x9', 'x10']].values\n",
    "Y_train = dfs[['sign']].values\n"
   ]
  },
  {
   "cell_type": "code",
   "execution_count": 161,
   "metadata": {},
   "outputs": [
    {
     "ename": "KeyboardInterrupt",
     "evalue": "",
     "output_type": "error",
     "traceback": [
      "\u001b[1;31m---------------------------------------------------------------------------\u001b[0m",
      "\u001b[1;31mKeyboardInterrupt\u001b[0m                         Traceback (most recent call last)",
      "\u001b[1;32m<ipython-input-161-402abe7a5e90>\u001b[0m in \u001b[0;36m<module>\u001b[1;34m\u001b[0m\n\u001b[0;32m     51\u001b[0m     \u001b[1;32mreturn\u001b[0m \u001b[0maverage\u001b[0m\u001b[1;33m\u001b[0m\u001b[1;33m\u001b[0m\u001b[0m\n\u001b[0;32m     52\u001b[0m \u001b[1;33m\u001b[0m\u001b[0m\n\u001b[1;32m---> 53\u001b[1;33m \u001b[0mperceptron_algorithm\u001b[0m\u001b[1;33m(\u001b[0m\u001b[1;34m'ML_HW1_data.dat'\u001b[0m\u001b[1;33m,\u001b[0m \u001b[0mnum_samples\u001b[0m\u001b[1;33m=\u001b[0m\u001b[1;36m256\u001b[0m\u001b[1;33m,\u001b[0m \u001b[0mnum_iterations\u001b[0m\u001b[1;33m=\u001b[0m\u001b[1;36m1000\u001b[0m\u001b[1;33m)\u001b[0m\u001b[1;33m\u001b[0m\u001b[1;33m\u001b[0m\u001b[0m\n\u001b[0m",
      "\u001b[1;32m<ipython-input-161-402abe7a5e90>\u001b[0m in \u001b[0;36mperceptron_algorithm\u001b[1;34m(data_file_path, num_samples, num_iterations)\u001b[0m\n\u001b[0;32m     30\u001b[0m             \u001b[0mw\u001b[0m \u001b[1;33m=\u001b[0m \u001b[0mnp\u001b[0m\u001b[1;33m.\u001b[0m\u001b[0mzeros\u001b[0m\u001b[1;33m(\u001b[0m\u001b[1;36m10\u001b[0m\u001b[1;33m)\u001b[0m \u001b[1;33m+\u001b[0m \u001b[1;33m[\u001b[0m\u001b[1;36m1\u001b[0m\u001b[1;33m,\u001b[0m \u001b[1;36m1\u001b[0m\u001b[1;33m,\u001b[0m \u001b[1;36m1\u001b[0m\u001b[1;33m,\u001b[0m \u001b[1;36m1\u001b[0m\u001b[1;33m,\u001b[0m \u001b[1;36m1\u001b[0m\u001b[1;33m,\u001b[0m \u001b[1;36m1\u001b[0m\u001b[1;33m,\u001b[0m \u001b[1;36m1\u001b[0m\u001b[1;33m,\u001b[0m \u001b[1;36m1\u001b[0m\u001b[1;33m,\u001b[0m \u001b[1;36m1\u001b[0m\u001b[1;33m,\u001b[0m \u001b[1;36m1\u001b[0m\u001b[1;33m]\u001b[0m\u001b[1;33m\u001b[0m\u001b[1;33m\u001b[0m\u001b[0m\n\u001b[0;32m     31\u001b[0m             \u001b[1;32mfor\u001b[0m \u001b[0mrows\u001b[0m \u001b[1;32min\u001b[0m \u001b[0mrange\u001b[0m\u001b[1;33m(\u001b[0m\u001b[0mM\u001b[0m\u001b[1;33m)\u001b[0m\u001b[1;33m:\u001b[0m\u001b[1;33m\u001b[0m\u001b[1;33m\u001b[0m\u001b[0m\n\u001b[1;32m---> 32\u001b[1;33m                 \u001b[1;32mif\u001b[0m \u001b[0mw\u001b[0m\u001b[1;33m.\u001b[0m\u001b[0mT\u001b[0m\u001b[1;33m.\u001b[0m\u001b[0mdot\u001b[0m\u001b[1;33m(\u001b[0m\u001b[0msx_array\u001b[0m\u001b[1;33m[\u001b[0m\u001b[0mrows\u001b[0m\u001b[1;33m]\u001b[0m\u001b[1;33m)\u001b[0m \u001b[1;33m!=\u001b[0m \u001b[0msy_array\u001b[0m\u001b[1;33m[\u001b[0m\u001b[0mrows\u001b[0m\u001b[1;33m]\u001b[0m\u001b[1;33m:\u001b[0m\u001b[1;33m\u001b[0m\u001b[1;33m\u001b[0m\u001b[0m\n\u001b[0m\u001b[0;32m     33\u001b[0m                     \u001b[0mw\u001b[0m \u001b[1;33m+=\u001b[0m \u001b[0msx_array\u001b[0m\u001b[1;33m[\u001b[0m\u001b[0mrows\u001b[0m\u001b[1;33m]\u001b[0m \u001b[1;33m*\u001b[0m \u001b[0msy_array\u001b[0m\u001b[1;33m[\u001b[0m\u001b[0mrows\u001b[0m\u001b[1;33m]\u001b[0m\u001b[1;33m\u001b[0m\u001b[1;33m\u001b[0m\u001b[0m\n\u001b[0;32m     34\u001b[0m                     \u001b[0mmisclassify\u001b[0m \u001b[1;33m+=\u001b[0m \u001b[1;36m1\u001b[0m\u001b[1;33m\u001b[0m\u001b[1;33m\u001b[0m\u001b[0m\n",
      "\u001b[1;31mKeyboardInterrupt\u001b[0m: "
     ]
    }
   ],
   "source": [
    "import pandas as pd\n",
    "import numpy as np\n",
    "\n",
    "def Average(lst):\n",
    "    return sum(lst) / len(lst)\n",
    "\n",
    "def perceptron_algorithm(data_file_path, num_samples=256, num_iterations=1000):\n",
    "    M = int(num_samples / 2)\n",
    "    count = 0\n",
    "    inError_lst = []\n",
    "    w_lst = []\n",
    "    df = pd.read_csv(data_file_path, sep=\"\\t\", header=None)\n",
    "    df.columns = ['x1', 'x2', 'x3', 'x4', 'x5', 'x6', 'x7', 'x8', 'x9', 'x10', 'sign']\n",
    "    \n",
    "    while count < num_iterations:\n",
    "        dfs = df.sample(n=M, replace=True)\n",
    "\n",
    "        dfx = df.iloc[:, 0:10]\n",
    "        dfy = df.iloc[:, 10]\n",
    "        dfsx = dfs.iloc[:, 0:10]\n",
    "        dfsy = dfs.iloc[:, 10]\n",
    "        x_array = dfx.to_numpy()\n",
    "        y_array = dfy.to_numpy()\n",
    "        sx_array = dfsx.to_numpy()\n",
    "        sy_array = dfsy.to_numpy()\n",
    "\n",
    "        w = np.zeros(10)\n",
    "        while True:\n",
    "            misclassify = 0\n",
    "            w = np.zeros(10) + [1, 1, 1, 1, 1, 1, 1, 1, 1, 1]\n",
    "            for rows in range(M):\n",
    "                if w.T.dot(sx_array[rows]) != sy_array[rows]:\n",
    "                    w += sx_array[rows] * sy_array[rows]\n",
    "                    misclassify += 1\n",
    "            if misclassify == 0:\n",
    "                break\n",
    "\n",
    "        Ein = 0\n",
    "        error_num = 0\n",
    "        for rows in range(M):\n",
    "            if w.T.dot(x_array[rows]) != y_array[rows]:\n",
    "                error_num += 1\n",
    "\n",
    "        Ein = error_num / M\n",
    "        inError_lst.append(Ein)\n",
    "        count += 1\n",
    "\n",
    "    print(inError_lst)\n",
    "    average = Average(inError_lst)\n",
    "    print(\"Average of Ein =\", average)\n",
    "    return average\n",
    "\n",
    "perceptron_algorithm('ML_HW1_data.dat', num_samples=256, num_iterations=1000)\n"
   ]
  },
  {
   "attachments": {},
   "cell_type": "markdown",
   "metadata": {},
   "source": [
    "##### 13"
   ]
  },
  {
   "cell_type": "code",
   "execution_count": 1,
   "metadata": {},
   "outputs": [
    {
     "name": "stdout",
     "output_type": "stream",
     "text": [
      "Average error rate: 0.00498\n",
      "Median number of updates = 716.0\n",
      "Median of w_0 = 44.0\n"
     ]
    },
    {
     "data": {
      "text/plain": [
       "(0.00498046875, 716.0, 44.0)"
      ]
     },
     "execution_count": 1,
     "metadata": {},
     "output_type": "execute_result"
    }
   ],
   "source": [
    "import pandas as pd\n",
    "import numpy as np\n",
    "\n",
    "def perceptron_algorithm(data_file_path, num_samples=256, num_iterations=1000):\n",
    "    rng = np.random.default_rng(42)\n",
    "    M = int(num_samples / 2)\n",
    "    df = pd.read_csv(data_file_path, sep=\"\\t\", header=None)\n",
    "    df.insert(loc=0, column=\"x0\", value=1)\n",
    "    df.columns = ['x0','x1', 'x2', 'x3', 'x4', 'x5', 'x6', 'x7', 'x8', 'x9', 'x10', 'sign']\n",
    "    \n",
    "    # Extract features and labels\n",
    "    X = df.iloc[:, :-1].to_numpy()\n",
    "    y = df.iloc[:, -1].to_numpy()\n",
    "    \n",
    "    # Initialize weights to zeros\n",
    "    w = np.zeros(11)\n",
    "    num_updates = 0\n",
    "    \n",
    "    errors = [] # Track errors for each iteration\n",
    "    update_lst = []  # add an empty list to store the number of updates\n",
    "    w0_lst = []  # create an empty list to store w_0\n",
    "    \n",
    "    for i in range(num_iterations):\n",
    "        # Sample random points from the dataset\n",
    "        idx = rng.choice(X.shape[0], M, replace=True)\n",
    "        X_sample = X[idx]\n",
    "        y_sample = y[idx]\n",
    "        \n",
    "        # Update weights\n",
    "        for j in range(M):\n",
    "            if np.sign(X_sample[j] @ w) != y_sample[j]:\n",
    "                w += y_sample[j] * X_sample[j]\n",
    "                num_updates += 1  # increment the number of updates\n",
    "        \n",
    "        # Calculate error on full dataset\n",
    "        y_pred = np.sign(X @ w)\n",
    "        error_rate = np.mean(y_pred != y)\n",
    "        update_lst.append(num_updates)  # append the number of updates\n",
    "        errors.append(error_rate)\n",
    "        w0_lst.append(w[0])  # append w_0 to the list\n",
    "    \n",
    "    # Return average error rate\n",
    "    avg_error = np.mean(errors)\n",
    "    print(f\"Average error rate: {avg_error:.5f}\")\n",
    "\n",
    "    # calculate the median of updates\n",
    "    median_updates = np.median(update_lst)\n",
    "    print(\"Median number of updates =\", median_updates)\n",
    "\n",
    "    # calculate the median of w_0\n",
    "    median_w0 = np.median(w0_lst)  \n",
    "    print(\"Median of w_0 =\", median_w0)\n",
    "\n",
    "    return avg_error, median_updates, median_w0\n",
    "\n",
    "perceptron_algorithm('ML_HW1_data.dat', num_samples=256, num_iterations=1000)\n"
   ]
  },
  {
   "attachments": {},
   "cell_type": "markdown",
   "metadata": {},
   "source": [
    "##### 14, 15, 16"
   ]
  },
  {
   "cell_type": "code",
   "execution_count": 2,
   "metadata": {},
   "outputs": [
    {
     "name": "stdout",
     "output_type": "stream",
     "text": [
      "Average error rate: 0.00035\n",
      "Median number of updates = 716.0\n",
      "Median of w_0 = 44.0\n"
     ]
    },
    {
     "data": {
      "text/plain": [
       "(0.00034765625, 716.0, 44.0)"
      ]
     },
     "execution_count": 2,
     "metadata": {},
     "output_type": "execute_result"
    }
   ],
   "source": [
    "import pandas as pd\n",
    "import numpy as np\n",
    "\n",
    "def perceptron_algorithm(data_file_path, num_samples=256, num_iterations=1000):\n",
    "    rng = np.random.default_rng(42)\n",
    "    M = int(num_samples * 4)\n",
    "    df = pd.read_csv(data_file_path, sep=\"\\t\", header=None)\n",
    "    df.insert(loc=0, column=\"x0\", value=1)\n",
    "    df.columns = ['x0','x1', 'x2', 'x3', 'x4', 'x5', 'x6', 'x7', 'x8', 'x9', 'x10', 'sign']\n",
    "    \n",
    "    # Extract features and labels\n",
    "    X = df.iloc[:, :-1].to_numpy()\n",
    "    y = df.iloc[:, -1].to_numpy()\n",
    "    \n",
    "    # Initialize weights to zeros\n",
    "    w = np.zeros(11)\n",
    "    num_updates = 0\n",
    "    \n",
    "    errors = [] # Track errors for each iteration\n",
    "    update_lst = []  # add an empty list to store the number of updates\n",
    "    w0_lst = []  # create an empty list to store w_0\n",
    "    \n",
    "    for i in range(num_iterations):\n",
    "        # Sample random points from the dataset\n",
    "        idx = rng.choice(X.shape[0], M, replace=True)\n",
    "        X_sample = X[idx]\n",
    "        y_sample = y[idx]\n",
    "        \n",
    "        # Update weights\n",
    "        for j in range(M):\n",
    "            if np.sign(X_sample[j] @ w) != y_sample[j]:\n",
    "                w += y_sample[j] * X_sample[j]\n",
    "                num_updates += 1  # increment the number of updates\n",
    "        \n",
    "        # Calculate error on full dataset\n",
    "        y_pred = np.sign(X @ w)\n",
    "        error_rate = np.mean(y_pred != y)\n",
    "        update_lst.append(num_updates)  # append the number of updates\n",
    "        errors.append(error_rate)\n",
    "        w0_lst.append(w[0])  # append w_0 to the list\n",
    "    \n",
    "    # Return average error rate\n",
    "    avg_error = np.mean(errors)\n",
    "    print(f\"Average error rate: {avg_error:.5f}\")\n",
    "\n",
    "    # calculate the median of updates\n",
    "    median_updates = np.median(update_lst)\n",
    "    print(\"Median number of updates =\", median_updates)\n",
    "\n",
    "    # calculate the median of w_0\n",
    "    median_w0 = np.median(w0_lst)  \n",
    "    print(\"Median of w_0 =\", median_w0)\n",
    "\n",
    "    return avg_error, median_updates, median_w0\n",
    "\n",
    "perceptron_algorithm('ML_HW1_data.dat', num_samples=256, num_iterations=1000)\n"
   ]
  },
  {
   "attachments": {},
   "cell_type": "markdown",
   "metadata": {},
   "source": [
    "##### 17: scale down by 2; x0=0.5"
   ]
  },
  {
   "cell_type": "code",
   "execution_count": 3,
   "metadata": {},
   "outputs": [
    {
     "name": "stdout",
     "output_type": "stream",
     "text": [
      "Average error rate: 0.00035\n",
      "Median number of updates = 716.0\n",
      "Median of w_0 = 22.0\n"
     ]
    },
    {
     "data": {
      "text/plain": [
       "(0.00034765625, 716.0, 22.0)"
      ]
     },
     "execution_count": 3,
     "metadata": {},
     "output_type": "execute_result"
    }
   ],
   "source": [
    "import pandas as pd\n",
    "import numpy as np\n",
    "\n",
    "def perceptron_algorithm(data_file_path, num_samples=256, num_iterations=1000):\n",
    "    rng = np.random.default_rng(42)\n",
    "    M = int(num_samples * 4)\n",
    "    df = pd.read_csv(data_file_path, sep=\"\\t\", header=None)\n",
    "    df.columns = ['x1', 'x2', 'x3', 'x4', 'x5', 'x6', 'x7', 'x8', 'x9', 'x10', 'sign']\n",
    "\n",
    "    df_scaled = df.iloc[:, :-1] /2\n",
    "    df_scaled.insert(loc=0, column=\"x0\", value=0.5)\n",
    "    df_scaled['sign'] = df['sign']\n",
    "    df_scaled.columns = ['x0','x1', 'x2', 'x3', 'x4', 'x5', 'x6', 'x7', 'x8', 'x9', 'x10', 'sign']\n",
    "    \n",
    "    # Extract features and labels\n",
    "    X = df_scaled.iloc[:, :-1].to_numpy()\n",
    "    y = df_scaled.iloc[:, -1].to_numpy()\n",
    "    \n",
    "    # Initialize weights to zeros\n",
    "    w = np.zeros(11)\n",
    "    num_updates = 0\n",
    "    \n",
    "    errors = [] # Track errors for each iteration\n",
    "    update_lst = []  # add an empty list to store the number of updates\n",
    "    w0_lst = []  # create an empty list to store w_0\n",
    "    \n",
    "    for i in range(num_iterations):\n",
    "        # Sample random points from the dataset\n",
    "        idx = rng.choice(X.shape[0], M, replace=True)\n",
    "        X_sample = X[idx]\n",
    "        y_sample = y[idx]\n",
    "        \n",
    "        # Update weights\n",
    "        for j in range(M):\n",
    "            if np.sign(X_sample[j] @ w) != y_sample[j]:\n",
    "                w += y_sample[j] * X_sample[j]\n",
    "                num_updates += 1  # increment the number of updates\n",
    "        \n",
    "        # Calculate error on full dataset\n",
    "        y_pred = np.sign(X @ w)\n",
    "        error_rate = np.mean(y_pred != y)\n",
    "        update_lst.append(num_updates)  # append the number of updates\n",
    "        errors.append(error_rate)\n",
    "        w0_lst.append(w[0])  # append w_0 to the list\n",
    "    \n",
    "    # Return average error rate\n",
    "    avg_error = np.mean(errors)\n",
    "    print(f\"Average error rate: {avg_error:.5f}\")\n",
    "\n",
    "    # calculate the median of updates\n",
    "    median_updates = np.median(update_lst)\n",
    "    print(\"Median number of updates =\", median_updates)\n",
    "\n",
    "    # calculate the median of w_0\n",
    "    median_w0 = np.median(w0_lst)  \n",
    "    print(\"Median of w_0 =\", median_w0)\n",
    "\n",
    "    return avg_error, median_updates, median_w0\n",
    "\n",
    "perceptron_algorithm('ML_HW1_data.dat', num_samples=256, num_iterations=1000)\n"
   ]
  },
  {
   "attachments": {},
   "cell_type": "markdown",
   "metadata": {},
   "source": [
    "##### 18: x0=0"
   ]
  },
  {
   "cell_type": "code",
   "execution_count": 4,
   "metadata": {},
   "outputs": [
    {
     "name": "stdout",
     "output_type": "stream",
     "text": [
      "Average error rate: 0.00028\n",
      "Median number of updates = 583.0\n",
      "Median of w_0 = 0.0\n"
     ]
    },
    {
     "data": {
      "text/plain": [
       "(0.00027734375, 583.0, 0.0)"
      ]
     },
     "execution_count": 4,
     "metadata": {},
     "output_type": "execute_result"
    }
   ],
   "source": [
    "import pandas as pd\n",
    "import numpy as np\n",
    "\n",
    "def perceptron_algorithm(data_file_path, num_samples=256, num_iterations=1000):\n",
    "    rng = np.random.default_rng(42)\n",
    "    M = int(num_samples * 4)\n",
    "    df = pd.read_csv(data_file_path, sep=\"\\t\", header=None)\n",
    "    df.insert(loc=0, column=\"x0\", value=0)\n",
    "    df.columns = ['x0','x1', 'x2', 'x3', 'x4', 'x5', 'x6', 'x7', 'x8', 'x9', 'x10', 'sign']\n",
    "    \n",
    "    # Extract features and labels\n",
    "    X = df.iloc[:, :-1].to_numpy()\n",
    "    y = df.iloc[:, -1].to_numpy()\n",
    "    \n",
    "    # Initialize weights to zeros\n",
    "    w = np.zeros(11)\n",
    "    num_updates = 0\n",
    "    \n",
    "    errors = [] # Track errors for each iteration\n",
    "    update_lst = []  # add an empty list to store the number of updates\n",
    "    w0_lst = []  # create an empty list to store w_0\n",
    "    \n",
    "    for i in range(num_iterations):\n",
    "        # Sample random points from the dataset\n",
    "        idx = rng.choice(X.shape[0], M, replace=True)\n",
    "        X_sample = X[idx]\n",
    "        y_sample = y[idx]\n",
    "        \n",
    "        # Update weights\n",
    "        for j in range(M):\n",
    "            if np.sign(X_sample[j] @ w) != y_sample[j]:\n",
    "                w += y_sample[j] * X_sample[j]\n",
    "                num_updates += 1  # increment the number of updates\n",
    "        \n",
    "        # Calculate error on full dataset\n",
    "        y_pred = np.sign(X @ w)\n",
    "        error_rate = np.mean(y_pred != y)\n",
    "        update_lst.append(num_updates)  # append the number of updates\n",
    "        errors.append(error_rate)\n",
    "        w0_lst.append(w[0])  # append w_0 to the list\n",
    "    \n",
    "    # Return average error rate\n",
    "    avg_error = np.mean(errors)\n",
    "    print(f\"Average error rate: {avg_error:.5f}\")\n",
    "\n",
    "    # calculate the median of updates\n",
    "    median_updates = np.median(update_lst)\n",
    "    print(\"Median number of updates =\", median_updates)\n",
    "\n",
    "    # calculate the median of w_0\n",
    "    median_w0 = np.median(w0_lst)  \n",
    "    print(\"Median of w_0 =\", median_w0)\n",
    "\n",
    "    return avg_error, median_updates, median_w0\n",
    "\n",
    "perceptron_algorithm('ML_HW1_data.dat', num_samples=256, num_iterations=1000)\n"
   ]
  },
  {
   "attachments": {},
   "cell_type": "markdown",
   "metadata": {},
   "source": [
    "##### 19: x0=-1"
   ]
  },
  {
   "cell_type": "code",
   "execution_count": 5,
   "metadata": {},
   "outputs": [
    {
     "name": "stdout",
     "output_type": "stream",
     "text": [
      "Average error rate: 0.00035\n",
      "Median number of updates = 716.0\n",
      "Median of w_0*x_0 = 44.0\n"
     ]
    },
    {
     "data": {
      "text/plain": [
       "(0.00034765625, 716.0, 44.0)"
      ]
     },
     "execution_count": 5,
     "metadata": {},
     "output_type": "execute_result"
    }
   ],
   "source": [
    "import pandas as pd\n",
    "import numpy as np\n",
    "\n",
    "\n",
    "def perceptron_algorithm(data_file_path, num_samples=256, num_iterations=1000):\n",
    "    rng = np.random.default_rng(42)\n",
    "    M = int(num_samples * 4)\n",
    "    df = pd.read_csv(data_file_path, sep=\"\\t\", header=None)\n",
    "    df.insert(loc=0, column=\"x0\", value=-1)\n",
    "    df.columns = ['x0','x1', 'x2', 'x3', 'x4', 'x5', 'x6', 'x7', 'x8', 'x9', 'x10', 'sign']\n",
    "    \n",
    "    # Extract features and labels\n",
    "    X = df.iloc[:, :-1].to_numpy()\n",
    "    y = df.iloc[:, -1].to_numpy()\n",
    "    \n",
    "    # Initialize weights to zeros\n",
    "    w = np.zeros(11)\n",
    "    num_updates = 0\n",
    "    \n",
    "    errors = [] # Track errors for each iteration\n",
    "    update_lst = []  # add an empty list to store the number of updates\n",
    "    w0x0_lst = []  # create an empty list to store w_0*x_0\n",
    "    \n",
    "    for i in range(num_iterations):\n",
    "        # Sample random points from the dataset\n",
    "        idx = rng.choice(X.shape[0], M, replace=True)\n",
    "        X_sample = X[idx]\n",
    "        y_sample = y[idx]\n",
    "        \n",
    "        # Update weights\n",
    "        for j in range(M):\n",
    "            if np.sign(X_sample[j] @ w) != y_sample[j]:\n",
    "                w += y_sample[j] * X_sample[j]\n",
    "                num_updates += 1  # increment the number of updates\n",
    "        \n",
    "        # Calculate error on full dataset\n",
    "        y_pred = np.sign(X @ w)\n",
    "        error_rate = np.mean(y_pred != y)\n",
    "        update_lst.append(num_updates)  # append the number of updates\n",
    "        errors.append(error_rate)\n",
    "        w0x0_lst.append(w[0]*-1)  # append w_0*x_0 to the list\n",
    "    \n",
    "    # Return average error rate\n",
    "    avg_error = np.mean(errors)\n",
    "    print(f\"Average error rate: {avg_error:.5f}\")\n",
    "\n",
    "    # calculate the median of updates\n",
    "    median_updates = np.median(update_lst)\n",
    "    print(\"Median number of updates =\", median_updates)\n",
    "\n",
    "    # calculate the median of w_0*x_0\n",
    "    median_w0x0 = np.median(w0x0_lst)  \n",
    "    print(\"Median of w_0*x_0 =\", median_w0x0)\n",
    "\n",
    "    return avg_error, median_updates, median_w0x0\n",
    "\n",
    "perceptron_algorithm('ML_HW1_data.dat', num_samples=256, num_iterations=1000)\n"
   ]
  },
  {
   "attachments": {},
   "cell_type": "markdown",
   "metadata": {},
   "source": [
    "##### 20: x0=0.1126"
   ]
  },
  {
   "cell_type": "code",
   "execution_count": 7,
   "metadata": {},
   "outputs": [
    {
     "name": "stdout",
     "output_type": "stream",
     "text": [
      "Average error rate: 0.00028\n",
      "Median number of updates = 583.0\n",
      "Median of w_0*x_0 = 0.49447163999999993\n"
     ]
    },
    {
     "data": {
      "text/plain": [
       "(0.00027734375, 583.0, 0.49447163999999993)"
      ]
     },
     "execution_count": 7,
     "metadata": {},
     "output_type": "execute_result"
    }
   ],
   "source": [
    "import pandas as pd\n",
    "import numpy as np\n",
    "np.random.seed(42)\n",
    "\n",
    "def perceptron_algorithm(data_file_path, num_samples=256, num_iterations=1000):\n",
    "    rng = np.random.default_rng(42)\n",
    "    M = int(num_samples * 4)\n",
    "    df = pd.read_csv(data_file_path, sep=\"\\t\", header=None)\n",
    "    df.insert(loc=0, column=\"x0\", value=0.1126)\n",
    "    df.columns = ['x0','x1', 'x2', 'x3', 'x4', 'x5', 'x6', 'x7', 'x8', 'x9', 'x10', 'sign']\n",
    "    \n",
    "    # Extract features and labels\n",
    "    X = df.iloc[:, :-1].to_numpy()\n",
    "    y = df.iloc[:, -1].to_numpy()\n",
    "    \n",
    "    # Initialize weights to zeros\n",
    "    w = np.zeros(11)\n",
    "    num_updates = 0\n",
    "    \n",
    "    errors = [] # Track errors for each iteration\n",
    "    update_lst = []  # add an empty list to store the number of updates\n",
    "    w0x0_lst = []  # create an empty list to store w_0*x_0\n",
    "    \n",
    "    for i in range(num_iterations):\n",
    "        # Sample random points from the dataset\n",
    "        idx = rng.choice(X.shape[0], M, replace=True)\n",
    "        X_sample = X[idx]\n",
    "        y_sample = y[idx]\n",
    "        \n",
    "        # Update weights\n",
    "        for j in range(M):\n",
    "            if np.sign(X_sample[j] @ w) != y_sample[j]:\n",
    "                w += y_sample[j] * X_sample[j]\n",
    "                num_updates += 1  # increment the number of updates\n",
    "        \n",
    "        # Calculate error on full dataset\n",
    "        y_pred = np.sign(X @ w)\n",
    "        error_rate = np.mean(y_pred != y)\n",
    "        update_lst.append(num_updates)  # append the number of updates\n",
    "        errors.append(error_rate)\n",
    "        w0x0_lst.append(w[0]*0.1126)  # append w_0*x_0 to the list\n",
    "    \n",
    "    # Return average error rate\n",
    "    avg_error = np.mean(errors)\n",
    "    print(f\"Average error rate: {avg_error:.5f}\")\n",
    "\n",
    "    # calculate the median of updates\n",
    "    median_updates = np.median(update_lst)\n",
    "    print(\"Median number of updates =\", median_updates)\n",
    "\n",
    "    # calculate the median of w_0*x_0\n",
    "    median_w0x0 = np.median(w0x0_lst)  \n",
    "    print(\"Median of w_0*x_0 =\", median_w0x0)\n",
    "\n",
    "    return avg_error, median_updates, median_w0x0\n",
    "\n",
    "perceptron_algorithm('ML_HW1_data.dat', num_samples=256, num_iterations=1000)\n"
   ]
  }
 ],
 "metadata": {
  "kernelspec": {
   "display_name": "Python 3",
   "language": "python",
   "name": "python3"
  },
  "language_info": {
   "codemirror_mode": {
    "name": "ipython",
    "version": 3
   },
   "file_extension": ".py",
   "mimetype": "text/x-python",
   "name": "python",
   "nbconvert_exporter": "python",
   "pygments_lexer": "ipython3",
   "version": "3.9.2"
  },
  "orig_nbformat": 4
 },
 "nbformat": 4,
 "nbformat_minor": 2
}
