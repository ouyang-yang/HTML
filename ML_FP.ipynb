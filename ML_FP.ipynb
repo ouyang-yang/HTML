{
 "cells": [
  {
   "attachments": {},
   "cell_type": "markdown",
   "metadata": {},
   "source": [
    "#### Packages"
   ]
  },
  {
   "cell_type": "code",
   "execution_count": 2,
   "metadata": {},
   "outputs": [],
   "source": [
    "from libsvm.svmutil import *\n",
    "from liblinear.liblinearutil import *\n",
    "from sklearn import linear_model\n",
    "from sklearn.model_selection import KFold\n",
    "from sklearn.preprocessing import StandardScaler\n",
    "import matplotlib.pyplot as plt\n",
    "import statsmodels.api as sm\n",
    "import seaborn as sns\n",
    "import pandas as pd\n",
    "import numpy as np\n",
    "import itertools\n",
    "import random\n",
    "import math\n",
    "import sys"
   ]
  },
  {
   "attachments": {},
   "cell_type": "markdown",
   "metadata": {},
   "source": [
    "#### Read Data"
   ]
  },
  {
   "cell_type": "code",
   "execution_count": 3,
   "metadata": {},
   "outputs": [
    {
     "name": "stdout",
     "output_type": "stream",
     "text": [
      "Index(['Danceability', 'Energy', 'Key', 'Loudness', 'Speechiness',\n",
      "       'Acousticness', 'Instrumentalness', 'Liveness', 'Valence', 'Tempo',\n",
      "       'Duration_ms', 'Views', 'Likes', 'Stream'],\n",
      "      dtype='object')\n",
      "Number of rows with at least one NaN value in train data: 12045\n",
      "Number of rows with at least one NaN value in test data: 6087\n"
     ]
    }
   ],
   "source": [
    "df_tr = pd.read_csv(\"ML_FP_train_updated_v3.csv\")\n",
    "df_tr = df_tr.drop(['Composer'], axis=1)\n",
    "df_t = pd.read_csv(\"ML_FP_test_updated_v3_com.csv\")\n",
    "df_t = df_t.drop(['Composer'], axis=1)\n",
    "\n",
    "# df_tr.shape (17170, 29)\n",
    "# random_rows = df_tr.sample(n=10)\n",
    "# print(random_rows)\n",
    "print(df_tr.columns)\n",
    "\n",
    "count_tr = df_tr.isna().any(axis=1).sum()\n",
    "count_t = df_t.isna().any(axis=1).sum()\n",
    "print(\"Number of rows with at least one NaN value in train data:\", count_tr)\n",
    "print(\"Number of rows with at least one NaN value in test data:\", count_t)\n"
   ]
  },
  {
   "cell_type": "code",
   "execution_count": 4,
   "metadata": {},
   "outputs": [
    {
     "data": {
      "text/html": [
       "<div>\n",
       "<style scoped>\n",
       "    .dataframe tbody tr th:only-of-type {\n",
       "        vertical-align: middle;\n",
       "    }\n",
       "\n",
       "    .dataframe tbody tr th {\n",
       "        vertical-align: top;\n",
       "    }\n",
       "\n",
       "    .dataframe thead th {\n",
       "        text-align: right;\n",
       "    }\n",
       "</style>\n",
       "<table border=\"1\" class=\"dataframe\">\n",
       "  <thead>\n",
       "    <tr style=\"text-align: right;\">\n",
       "      <th></th>\n",
       "      <th>Danceability</th>\n",
       "      <th>Energy</th>\n",
       "      <th>Key</th>\n",
       "      <th>Loudness</th>\n",
       "      <th>Speechiness</th>\n",
       "      <th>Acousticness</th>\n",
       "      <th>Instrumentalness</th>\n",
       "      <th>Liveness</th>\n",
       "      <th>Valence</th>\n",
       "      <th>Tempo</th>\n",
       "      <th>Duration_ms</th>\n",
       "      <th>Views</th>\n",
       "      <th>Likes</th>\n",
       "      <th>Stream</th>\n",
       "    </tr>\n",
       "  </thead>\n",
       "  <tbody>\n",
       "    <tr>\n",
       "      <th>count</th>\n",
       "      <td>17170.000000</td>\n",
       "      <td>16794.000000</td>\n",
       "      <td>14568.000000</td>\n",
       "      <td>16758.000000</td>\n",
       "      <td>14655.000000</td>\n",
       "      <td>1.675800e+04</td>\n",
       "      <td>14569.000000</td>\n",
       "      <td>14635.000000</td>\n",
       "      <td>14596.000000</td>\n",
       "      <td>14608.000000</td>\n",
       "      <td>1.456700e+04</td>\n",
       "      <td>1.677200e+04</td>\n",
       "      <td>1.677200e+04</td>\n",
       "      <td>1.460200e+04</td>\n",
       "    </tr>\n",
       "    <tr>\n",
       "      <th>mean</th>\n",
       "      <td>4.586022</td>\n",
       "      <td>0.335793</td>\n",
       "      <td>5.231604</td>\n",
       "      <td>-7.553714</td>\n",
       "      <td>0.095462</td>\n",
       "      <td>1.154138e-01</td>\n",
       "      <td>0.054934</td>\n",
       "      <td>0.033745</td>\n",
       "      <td>0.525842</td>\n",
       "      <td>120.937819</td>\n",
       "      <td>2.228307e+05</td>\n",
       "      <td>8.825005e+07</td>\n",
       "      <td>6.475923e+05</td>\n",
       "      <td>1.290426e+08</td>\n",
       "    </tr>\n",
       "    <tr>\n",
       "      <th>std</th>\n",
       "      <td>2.858980</td>\n",
       "      <td>0.234146</td>\n",
       "      <td>3.456986</td>\n",
       "      <td>4.381722</td>\n",
       "      <td>0.103068</td>\n",
       "      <td>2.145250e-01</td>\n",
       "      <td>0.191392</td>\n",
       "      <td>0.114862</td>\n",
       "      <td>0.244912</td>\n",
       "      <td>29.665225</td>\n",
       "      <td>1.211659e+05</td>\n",
       "      <td>2.462447e+08</td>\n",
       "      <td>1.644600e+06</td>\n",
       "      <td>2.417681e+08</td>\n",
       "    </tr>\n",
       "    <tr>\n",
       "      <th>min</th>\n",
       "      <td>0.000000</td>\n",
       "      <td>-0.038443</td>\n",
       "      <td>0.000000</td>\n",
       "      <td>-46.251000</td>\n",
       "      <td>0.000000</td>\n",
       "      <td>1.367631e-18</td>\n",
       "      <td>0.000000</td>\n",
       "      <td>0.000003</td>\n",
       "      <td>0.000000</td>\n",
       "      <td>0.000000</td>\n",
       "      <td>3.098500e+04</td>\n",
       "      <td>2.600000e+01</td>\n",
       "      <td>0.000000e+00</td>\n",
       "      <td>6.574000e+03</td>\n",
       "    </tr>\n",
       "    <tr>\n",
       "      <th>25%</th>\n",
       "      <td>2.000000</td>\n",
       "      <td>0.144703</td>\n",
       "      <td>2.000000</td>\n",
       "      <td>-8.492000</td>\n",
       "      <td>0.036100</td>\n",
       "      <td>2.106449e-04</td>\n",
       "      <td>0.000000</td>\n",
       "      <td>0.000836</td>\n",
       "      <td>0.336000</td>\n",
       "      <td>97.041000</td>\n",
       "      <td>1.793055e+05</td>\n",
       "      <td>2.809032e+06</td>\n",
       "      <td>3.163875e+04</td>\n",
       "      <td>1.628195e+07</td>\n",
       "    </tr>\n",
       "    <tr>\n",
       "      <th>50%</th>\n",
       "      <td>5.000000</td>\n",
       "      <td>0.302112</td>\n",
       "      <td>5.000000</td>\n",
       "      <td>-6.401412</td>\n",
       "      <td>0.051400</td>\n",
       "      <td>1.677722e-02</td>\n",
       "      <td>0.000002</td>\n",
       "      <td>0.001907</td>\n",
       "      <td>0.531000</td>\n",
       "      <td>119.995500</td>\n",
       "      <td>2.120300e+05</td>\n",
       "      <td>2.258264e+07</td>\n",
       "      <td>1.882330e+05</td>\n",
       "      <td>4.550224e+07</td>\n",
       "    </tr>\n",
       "    <tr>\n",
       "      <th>75%</th>\n",
       "      <td>7.000000</td>\n",
       "      <td>0.493039</td>\n",
       "      <td>8.000000</td>\n",
       "      <td>-5.128250</td>\n",
       "      <td>0.106000</td>\n",
       "      <td>1.092154e-01</td>\n",
       "      <td>0.000392</td>\n",
       "      <td>0.012487</td>\n",
       "      <td>0.722000</td>\n",
       "      <td>139.990250</td>\n",
       "      <td>2.495115e+05</td>\n",
       "      <td>7.367898e+07</td>\n",
       "      <td>5.548997e+05</td>\n",
       "      <td>1.256493e+08</td>\n",
       "    </tr>\n",
       "    <tr>\n",
       "      <th>max</th>\n",
       "      <td>9.000000</td>\n",
       "      <td>1.000000</td>\n",
       "      <td>10.000000</td>\n",
       "      <td>0.829000</td>\n",
       "      <td>0.964000</td>\n",
       "      <td>1.416748e+00</td>\n",
       "      <td>1.000000</td>\n",
       "      <td>1.000000</td>\n",
       "      <td>0.993000</td>\n",
       "      <td>243.372000</td>\n",
       "      <td>4.581483e+06</td>\n",
       "      <td>5.773798e+09</td>\n",
       "      <td>4.014762e+07</td>\n",
       "      <td>3.386520e+09</td>\n",
       "    </tr>\n",
       "  </tbody>\n",
       "</table>\n",
       "</div>"
      ],
      "text/plain": [
       "       Danceability        Energy           Key      Loudness   Speechiness  \\\n",
       "count  17170.000000  16794.000000  14568.000000  16758.000000  14655.000000   \n",
       "mean       4.586022      0.335793      5.231604     -7.553714      0.095462   \n",
       "std        2.858980      0.234146      3.456986      4.381722      0.103068   \n",
       "min        0.000000     -0.038443      0.000000    -46.251000      0.000000   \n",
       "25%        2.000000      0.144703      2.000000     -8.492000      0.036100   \n",
       "50%        5.000000      0.302112      5.000000     -6.401412      0.051400   \n",
       "75%        7.000000      0.493039      8.000000     -5.128250      0.106000   \n",
       "max        9.000000      1.000000     10.000000      0.829000      0.964000   \n",
       "\n",
       "       Acousticness  Instrumentalness      Liveness       Valence  \\\n",
       "count  1.675800e+04      14569.000000  14635.000000  14596.000000   \n",
       "mean   1.154138e-01          0.054934      0.033745      0.525842   \n",
       "std    2.145250e-01          0.191392      0.114862      0.244912   \n",
       "min    1.367631e-18          0.000000      0.000003      0.000000   \n",
       "25%    2.106449e-04          0.000000      0.000836      0.336000   \n",
       "50%    1.677722e-02          0.000002      0.001907      0.531000   \n",
       "75%    1.092154e-01          0.000392      0.012487      0.722000   \n",
       "max    1.416748e+00          1.000000      1.000000      0.993000   \n",
       "\n",
       "              Tempo   Duration_ms         Views         Likes        Stream  \n",
       "count  14608.000000  1.456700e+04  1.677200e+04  1.677200e+04  1.460200e+04  \n",
       "mean     120.937819  2.228307e+05  8.825005e+07  6.475923e+05  1.290426e+08  \n",
       "std       29.665225  1.211659e+05  2.462447e+08  1.644600e+06  2.417681e+08  \n",
       "min        0.000000  3.098500e+04  2.600000e+01  0.000000e+00  6.574000e+03  \n",
       "25%       97.041000  1.793055e+05  2.809032e+06  3.163875e+04  1.628195e+07  \n",
       "50%      119.995500  2.120300e+05  2.258264e+07  1.882330e+05  4.550224e+07  \n",
       "75%      139.990250  2.495115e+05  7.367898e+07  5.548997e+05  1.256493e+08  \n",
       "max      243.372000  4.581483e+06  5.773798e+09  4.014762e+07  3.386520e+09  "
      ]
     },
     "execution_count": 4,
     "metadata": {},
     "output_type": "execute_result"
    }
   ],
   "source": [
    "df_tr.describe()"
   ]
  },
  {
   "attachments": {},
   "cell_type": "markdown",
   "metadata": {},
   "source": [
    "##### Levels of Danceability, Barplot"
   ]
  },
  {
   "cell_type": "code",
   "execution_count": 5,
   "metadata": {},
   "outputs": [
    {
     "data": {
      "image/png": "[encoded data removed]",
      "text/plain": [
       "<Figure size 720x360 with 1 Axes>"
      ]
     },
     "metadata": {
      "needs_background": "light"
     },
     "output_type": "display_data"
    }
   ],
   "source": [
    "df_tr[\"Danceability\"] = df_tr[\"Danceability\"].astype(\"category\")\n",
    "# Target Variable Countplot\n",
    "plt.figure(figsize = (10, 5))\n",
    "sns.countplot(data=df_tr, x=\"Danceability\", alpha = .70, palette = \"BuPu\")\n",
    "plt.title(\"Levels of Danceability\")\n",
    "plt.ylabel(\"Number of Songs\")\n",
    "plt.show()\n",
    "\n",
    "df_tr[\"Danceability\"] = df_tr[\"Danceability\"].astype(\"int\")"
   ]
  },
  {
   "attachments": {},
   "cell_type": "markdown",
   "metadata": {},
   "source": [
    "##### Correlation Matrix, Heatmap"
   ]
  },
  {
   "cell_type": "code",
   "execution_count": 5,
   "metadata": {},
   "outputs": [
    {
     "data": {
      "image/png": "[encoded data removed]",
      "text/plain": [
       "<Figure size 864x648 with 2 Axes>"
      ]
     },
     "metadata": {
      "needs_background": "light"
     },
     "output_type": "display_data"
    }
   ],
   "source": [
    "# Heatmap\n",
    "plt.figure(figsize = (12, 9))\n",
    "sns.heatmap(df_tr.corr(), cmap = \"hot_r\")\n",
    "plt.show()"
   ]
  },
  {
   "cell_type": "code",
   "execution_count": 4,
   "metadata": {},
   "outputs": [
    {
     "data": {
      "image/png": "[encoded data removed]",
      "text/plain": [
       "<Figure size 432x288 with 1 Axes>"
      ]
     },
     "metadata": {
      "needs_background": "light"
     },
     "output_type": "display_data"
    }
   ],
   "source": [
    "# Danceability by key Visualization\n",
    "colors = sns.color_palette(\"Set2\")\n",
    "key = df_tr.groupby([\"Key\",\"Danceability\"]).Key.count().unstack()\n",
    "p1 = key.plot(kind = \"bar\", stacked = True, \n",
    "                   title = \"Danceability by key\", \n",
    "                   color = colors, alpha = .70)\n",
    "p1.set_xlabel(\"Key\")\n",
    "p1.set_ylabel(\"Number of Songs\")\n",
    "plt.legend(bbox_to_anchor=(1, 1), bbox_transform=plt.gcf().transFigure)\n",
    "plt.show()"
   ]
  },
  {
   "attachments": {},
   "cell_type": "markdown",
   "metadata": {},
   "source": [
    "### Model"
   ]
  },
  {
   "attachments": {},
   "cell_type": "markdown",
   "metadata": {},
   "source": [
    "#### OLS"
   ]
  },
  {
   "attachments": {},
   "cell_type": "markdown",
   "metadata": {},
   "source": [
    "##### OLS, self-choosing"
   ]
  },
  {
   "cell_type": "code",
   "execution_count": 8,
   "metadata": {},
   "outputs": [
    {
     "ename": "MissingDataError",
     "evalue": "exog contains inf or nans",
     "output_type": "error",
     "traceback": [
      "\u001b[1;31m---------------------------------------------------------------------------\u001b[0m",
      "\u001b[1;31mMissingDataError\u001b[0m                          Traceback (most recent call last)",
      "\u001b[1;32m<ipython-input-8-38eecd9570c0>\u001b[0m in \u001b[0;36m<module>\u001b[1;34m\u001b[0m\n\u001b[0;32m      9\u001b[0m \u001b[0mX_tr\u001b[0m \u001b[1;33m=\u001b[0m \u001b[0msm\u001b[0m\u001b[1;33m.\u001b[0m\u001b[0madd_constant\u001b[0m\u001b[1;33m(\u001b[0m\u001b[0mX_tr\u001b[0m\u001b[1;33m)\u001b[0m \u001b[1;31m# adding a constant\u001b[0m\u001b[1;33m\u001b[0m\u001b[1;33m\u001b[0m\u001b[0m\n\u001b[0;32m     10\u001b[0m \u001b[0mX_t\u001b[0m \u001b[1;33m=\u001b[0m \u001b[0msm\u001b[0m\u001b[1;33m.\u001b[0m\u001b[0madd_constant\u001b[0m\u001b[1;33m(\u001b[0m\u001b[0mX_t\u001b[0m\u001b[1;33m)\u001b[0m\u001b[1;33m\u001b[0m\u001b[1;33m\u001b[0m\u001b[0m\n\u001b[1;32m---> 11\u001b[1;33m \u001b[0mols_model\u001b[0m \u001b[1;33m=\u001b[0m \u001b[0msm\u001b[0m\u001b[1;33m.\u001b[0m\u001b[0mOLS\u001b[0m\u001b[1;33m(\u001b[0m\u001b[0my_tr\u001b[0m\u001b[1;33m,\u001b[0m \u001b[0mX_tr\u001b[0m\u001b[1;33m)\u001b[0m\u001b[1;33m.\u001b[0m\u001b[0mfit\u001b[0m\u001b[1;33m(\u001b[0m\u001b[1;33m)\u001b[0m\u001b[1;33m\u001b[0m\u001b[1;33m\u001b[0m\u001b[0m\n\u001b[0m\u001b[0;32m     12\u001b[0m \u001b[1;33m\u001b[0m\u001b[0m\n\u001b[0;32m     13\u001b[0m \u001b[0mols_predictions_t\u001b[0m \u001b[1;33m=\u001b[0m \u001b[0mols_model\u001b[0m\u001b[1;33m.\u001b[0m\u001b[0mpredict\u001b[0m\u001b[1;33m(\u001b[0m\u001b[0mX_t\u001b[0m\u001b[1;33m)\u001b[0m\u001b[1;33m\u001b[0m\u001b[1;33m\u001b[0m\u001b[0m\n",
      "\u001b[1;32mc:\\Users\\mayda\\AppData\\Local\\Programs\\Python\\Python39\\lib\\site-packages\\statsmodels\\regression\\linear_model.py\u001b[0m in \u001b[0;36m__init__\u001b[1;34m(self, endog, exog, missing, hasconst, **kwargs)\u001b[0m\n\u001b[0;32m    904\u001b[0m                    \"An exception will be raised in the next version.\")\n\u001b[0;32m    905\u001b[0m             \u001b[0mwarnings\u001b[0m\u001b[1;33m.\u001b[0m\u001b[0mwarn\u001b[0m\u001b[1;33m(\u001b[0m\u001b[0mmsg\u001b[0m\u001b[1;33m,\u001b[0m \u001b[0mValueWarning\u001b[0m\u001b[1;33m)\u001b[0m\u001b[1;33m\u001b[0m\u001b[1;33m\u001b[0m\u001b[0m\n\u001b[1;32m--> 906\u001b[1;33m         super(OLS, self).__init__(endog, exog, missing=missing,\n\u001b[0m\u001b[0;32m    907\u001b[0m                                   hasconst=hasconst, **kwargs)\n\u001b[0;32m    908\u001b[0m         \u001b[1;32mif\u001b[0m \u001b[1;34m\"weights\"\u001b[0m \u001b[1;32min\u001b[0m \u001b[0mself\u001b[0m\u001b[1;33m.\u001b[0m\u001b[0m_init_keys\u001b[0m\u001b[1;33m:\u001b[0m\u001b[1;33m\u001b[0m\u001b[1;33m\u001b[0m\u001b[0m\n",
      "\u001b[1;32mc:\\Users\\mayda\\AppData\\Local\\Programs\\Python\\Python39\\lib\\site-packages\\statsmodels\\regression\\linear_model.py\u001b[0m in \u001b[0;36m__init__\u001b[1;34m(self, endog, exog, weights, missing, hasconst, **kwargs)\u001b[0m\n\u001b[0;32m    731\u001b[0m         \u001b[1;32melse\u001b[0m\u001b[1;33m:\u001b[0m\u001b[1;33m\u001b[0m\u001b[1;33m\u001b[0m\u001b[0m\n\u001b[0;32m    732\u001b[0m             \u001b[0mweights\u001b[0m \u001b[1;33m=\u001b[0m \u001b[0mweights\u001b[0m\u001b[1;33m.\u001b[0m\u001b[0msqueeze\u001b[0m\u001b[1;33m(\u001b[0m\u001b[1;33m)\u001b[0m\u001b[1;33m\u001b[0m\u001b[1;33m\u001b[0m\u001b[0m\n\u001b[1;32m--> 733\u001b[1;33m         super(WLS, self).__init__(endog, exog, missing=missing,\n\u001b[0m\u001b[0;32m    734\u001b[0m                                   weights=weights, hasconst=hasconst, **kwargs)\n\u001b[0;32m    735\u001b[0m         \u001b[0mnobs\u001b[0m \u001b[1;33m=\u001b[0m \u001b[0mself\u001b[0m\u001b[1;33m.\u001b[0m\u001b[0mexog\u001b[0m\u001b[1;33m.\u001b[0m\u001b[0mshape\u001b[0m\u001b[1;33m[\u001b[0m\u001b[1;36m0\u001b[0m\u001b[1;33m]\u001b[0m\u001b[1;33m\u001b[0m\u001b[1;33m\u001b[0m\u001b[0m\n",
      "\u001b[1;32mc:\\Users\\mayda\\AppData\\Local\\Programs\\Python\\Python39\\lib\\site-packages\\statsmodels\\regression\\linear_model.py\u001b[0m in \u001b[0;36m__init__\u001b[1;34m(self, endog, exog, **kwargs)\u001b[0m\n\u001b[0;32m    188\u001b[0m     \"\"\"\n\u001b[0;32m    189\u001b[0m     \u001b[1;32mdef\u001b[0m \u001b[0m__init__\u001b[0m\u001b[1;33m(\u001b[0m\u001b[0mself\u001b[0m\u001b[1;33m,\u001b[0m \u001b[0mendog\u001b[0m\u001b[1;33m,\u001b[0m \u001b[0mexog\u001b[0m\u001b[1;33m,\u001b[0m \u001b[1;33m**\u001b[0m\u001b[0mkwargs\u001b[0m\u001b[1;33m)\u001b[0m\u001b[1;33m:\u001b[0m\u001b[1;33m\u001b[0m\u001b[1;33m\u001b[0m\u001b[0m\n\u001b[1;32m--> 190\u001b[1;33m         \u001b[0msuper\u001b[0m\u001b[1;33m(\u001b[0m\u001b[0mRegressionModel\u001b[0m\u001b[1;33m,\u001b[0m \u001b[0mself\u001b[0m\u001b[1;33m)\u001b[0m\u001b[1;33m.\u001b[0m\u001b[0m__init__\u001b[0m\u001b[1;33m(\u001b[0m\u001b[0mendog\u001b[0m\u001b[1;33m,\u001b[0m \u001b[0mexog\u001b[0m\u001b[1;33m,\u001b[0m \u001b[1;33m**\u001b[0m\u001b[0mkwargs\u001b[0m\u001b[1;33m)\u001b[0m\u001b[1;33m\u001b[0m\u001b[1;33m\u001b[0m\u001b[0m\n\u001b[0m\u001b[0;32m    191\u001b[0m         \u001b[0mself\u001b[0m\u001b[1;33m.\u001b[0m\u001b[0m_data_attr\u001b[0m\u001b[1;33m.\u001b[0m\u001b[0mextend\u001b[0m\u001b[1;33m(\u001b[0m\u001b[1;33m[\u001b[0m\u001b[1;34m'pinv_wexog'\u001b[0m\u001b[1;33m,\u001b[0m \u001b[1;34m'wendog'\u001b[0m\u001b[1;33m,\u001b[0m \u001b[1;34m'wexog'\u001b[0m\u001b[1;33m,\u001b[0m \u001b[1;34m'weights'\u001b[0m\u001b[1;33m]\u001b[0m\u001b[1;33m)\u001b[0m\u001b[1;33m\u001b[0m\u001b[1;33m\u001b[0m\u001b[0m\n\u001b[0;32m    192\u001b[0m \u001b[1;33m\u001b[0m\u001b[0m\n",
      "\u001b[1;32mc:\\Users\\mayda\\AppData\\Local\\Programs\\Python\\Python39\\lib\\site-packages\\statsmodels\\base\\model.py\u001b[0m in \u001b[0;36m__init__\u001b[1;34m(self, endog, exog, **kwargs)\u001b[0m\n\u001b[0;32m    265\u001b[0m \u001b[1;33m\u001b[0m\u001b[0m\n\u001b[0;32m    266\u001b[0m     \u001b[1;32mdef\u001b[0m \u001b[0m__init__\u001b[0m\u001b[1;33m(\u001b[0m\u001b[0mself\u001b[0m\u001b[1;33m,\u001b[0m \u001b[0mendog\u001b[0m\u001b[1;33m,\u001b[0m \u001b[0mexog\u001b[0m\u001b[1;33m=\u001b[0m\u001b[1;32mNone\u001b[0m\u001b[1;33m,\u001b[0m \u001b[1;33m**\u001b[0m\u001b[0mkwargs\u001b[0m\u001b[1;33m)\u001b[0m\u001b[1;33m:\u001b[0m\u001b[1;33m\u001b[0m\u001b[1;33m\u001b[0m\u001b[0m\n\u001b[1;32m--> 267\u001b[1;33m         \u001b[0msuper\u001b[0m\u001b[1;33m(\u001b[0m\u001b[1;33m)\u001b[0m\u001b[1;33m.\u001b[0m\u001b[0m__init__\u001b[0m\u001b[1;33m(\u001b[0m\u001b[0mendog\u001b[0m\u001b[1;33m,\u001b[0m \u001b[0mexog\u001b[0m\u001b[1;33m,\u001b[0m \u001b[1;33m**\u001b[0m\u001b[0mkwargs\u001b[0m\u001b[1;33m)\u001b[0m\u001b[1;33m\u001b[0m\u001b[1;33m\u001b[0m\u001b[0m\n\u001b[0m\u001b[0;32m    268\u001b[0m         \u001b[0mself\u001b[0m\u001b[1;33m.\u001b[0m\u001b[0minitialize\u001b[0m\u001b[1;33m(\u001b[0m\u001b[1;33m)\u001b[0m\u001b[1;33m\u001b[0m\u001b[1;33m\u001b[0m\u001b[0m\n\u001b[0;32m    269\u001b[0m \u001b[1;33m\u001b[0m\u001b[0m\n",
      "\u001b[1;32mc:\\Users\\mayda\\AppData\\Local\\Programs\\Python\\Python39\\lib\\site-packages\\statsmodels\\base\\model.py\u001b[0m in \u001b[0;36m__init__\u001b[1;34m(self, endog, exog, **kwargs)\u001b[0m\n\u001b[0;32m     90\u001b[0m         \u001b[0mmissing\u001b[0m \u001b[1;33m=\u001b[0m \u001b[0mkwargs\u001b[0m\u001b[1;33m.\u001b[0m\u001b[0mpop\u001b[0m\u001b[1;33m(\u001b[0m\u001b[1;34m'missing'\u001b[0m\u001b[1;33m,\u001b[0m \u001b[1;34m'none'\u001b[0m\u001b[1;33m)\u001b[0m\u001b[1;33m\u001b[0m\u001b[1;33m\u001b[0m\u001b[0m\n\u001b[0;32m     91\u001b[0m         \u001b[0mhasconst\u001b[0m \u001b[1;33m=\u001b[0m \u001b[0mkwargs\u001b[0m\u001b[1;33m.\u001b[0m\u001b[0mpop\u001b[0m\u001b[1;33m(\u001b[0m\u001b[1;34m'hasconst'\u001b[0m\u001b[1;33m,\u001b[0m \u001b[1;32mNone\u001b[0m\u001b[1;33m)\u001b[0m\u001b[1;33m\u001b[0m\u001b[1;33m\u001b[0m\u001b[0m\n\u001b[1;32m---> 92\u001b[1;33m         self.data = self._handle_data(endog, exog, missing, hasconst,\n\u001b[0m\u001b[0;32m     93\u001b[0m                                       **kwargs)\n\u001b[0;32m     94\u001b[0m         \u001b[0mself\u001b[0m\u001b[1;33m.\u001b[0m\u001b[0mk_constant\u001b[0m \u001b[1;33m=\u001b[0m \u001b[0mself\u001b[0m\u001b[1;33m.\u001b[0m\u001b[0mdata\u001b[0m\u001b[1;33m.\u001b[0m\u001b[0mk_constant\u001b[0m\u001b[1;33m\u001b[0m\u001b[1;33m\u001b[0m\u001b[0m\n",
      "\u001b[1;32mc:\\Users\\mayda\\AppData\\Local\\Programs\\Python\\Python39\\lib\\site-packages\\statsmodels\\base\\model.py\u001b[0m in \u001b[0;36m_handle_data\u001b[1;34m(self, endog, exog, missing, hasconst, **kwargs)\u001b[0m\n\u001b[0;32m    130\u001b[0m \u001b[1;33m\u001b[0m\u001b[0m\n\u001b[0;32m    131\u001b[0m     \u001b[1;32mdef\u001b[0m \u001b[0m_handle_data\u001b[0m\u001b[1;33m(\u001b[0m\u001b[0mself\u001b[0m\u001b[1;33m,\u001b[0m \u001b[0mendog\u001b[0m\u001b[1;33m,\u001b[0m \u001b[0mexog\u001b[0m\u001b[1;33m,\u001b[0m \u001b[0mmissing\u001b[0m\u001b[1;33m,\u001b[0m \u001b[0mhasconst\u001b[0m\u001b[1;33m,\u001b[0m \u001b[1;33m**\u001b[0m\u001b[0mkwargs\u001b[0m\u001b[1;33m)\u001b[0m\u001b[1;33m:\u001b[0m\u001b[1;33m\u001b[0m\u001b[1;33m\u001b[0m\u001b[0m\n\u001b[1;32m--> 132\u001b[1;33m         \u001b[0mdata\u001b[0m \u001b[1;33m=\u001b[0m \u001b[0mhandle_data\u001b[0m\u001b[1;33m(\u001b[0m\u001b[0mendog\u001b[0m\u001b[1;33m,\u001b[0m \u001b[0mexog\u001b[0m\u001b[1;33m,\u001b[0m \u001b[0mmissing\u001b[0m\u001b[1;33m,\u001b[0m \u001b[0mhasconst\u001b[0m\u001b[1;33m,\u001b[0m \u001b[1;33m**\u001b[0m\u001b[0mkwargs\u001b[0m\u001b[1;33m)\u001b[0m\u001b[1;33m\u001b[0m\u001b[1;33m\u001b[0m\u001b[0m\n\u001b[0m\u001b[0;32m    133\u001b[0m         \u001b[1;31m# kwargs arrays could have changed, easier to just attach here\u001b[0m\u001b[1;33m\u001b[0m\u001b[1;33m\u001b[0m\u001b[1;33m\u001b[0m\u001b[0m\n\u001b[0;32m    134\u001b[0m         \u001b[1;32mfor\u001b[0m \u001b[0mkey\u001b[0m \u001b[1;32min\u001b[0m \u001b[0mkwargs\u001b[0m\u001b[1;33m:\u001b[0m\u001b[1;33m\u001b[0m\u001b[1;33m\u001b[0m\u001b[0m\n",
      "\u001b[1;32mc:\\Users\\mayda\\AppData\\Local\\Programs\\Python\\Python39\\lib\\site-packages\\statsmodels\\base\\data.py\u001b[0m in \u001b[0;36mhandle_data\u001b[1;34m(endog, exog, missing, hasconst, **kwargs)\u001b[0m\n\u001b[0;32m    698\u001b[0m \u001b[1;33m\u001b[0m\u001b[0m\n\u001b[0;32m    699\u001b[0m     \u001b[0mklass\u001b[0m \u001b[1;33m=\u001b[0m \u001b[0mhandle_data_class_factory\u001b[0m\u001b[1;33m(\u001b[0m\u001b[0mendog\u001b[0m\u001b[1;33m,\u001b[0m \u001b[0mexog\u001b[0m\u001b[1;33m)\u001b[0m\u001b[1;33m\u001b[0m\u001b[1;33m\u001b[0m\u001b[0m\n\u001b[1;32m--> 700\u001b[1;33m     return klass(endog, exog=exog, missing=missing, hasconst=hasconst,\n\u001b[0m\u001b[0;32m    701\u001b[0m                  **kwargs)\n",
      "\u001b[1;32mc:\\Users\\mayda\\AppData\\Local\\Programs\\Python\\Python39\\lib\\site-packages\\statsmodels\\base\\data.py\u001b[0m in \u001b[0;36m__init__\u001b[1;34m(self, endog, exog, missing, hasconst, **kwargs)\u001b[0m\n\u001b[0;32m     86\u001b[0m         \u001b[0mself\u001b[0m\u001b[1;33m.\u001b[0m\u001b[0mconst_idx\u001b[0m \u001b[1;33m=\u001b[0m \u001b[1;32mNone\u001b[0m\u001b[1;33m\u001b[0m\u001b[1;33m\u001b[0m\u001b[0m\n\u001b[0;32m     87\u001b[0m         \u001b[0mself\u001b[0m\u001b[1;33m.\u001b[0m\u001b[0mk_constant\u001b[0m \u001b[1;33m=\u001b[0m \u001b[1;36m0\u001b[0m\u001b[1;33m\u001b[0m\u001b[1;33m\u001b[0m\u001b[0m\n\u001b[1;32m---> 88\u001b[1;33m         \u001b[0mself\u001b[0m\u001b[1;33m.\u001b[0m\u001b[0m_handle_constant\u001b[0m\u001b[1;33m(\u001b[0m\u001b[0mhasconst\u001b[0m\u001b[1;33m)\u001b[0m\u001b[1;33m\u001b[0m\u001b[1;33m\u001b[0m\u001b[0m\n\u001b[0m\u001b[0;32m     89\u001b[0m         \u001b[0mself\u001b[0m\u001b[1;33m.\u001b[0m\u001b[0m_check_integrity\u001b[0m\u001b[1;33m(\u001b[0m\u001b[1;33m)\u001b[0m\u001b[1;33m\u001b[0m\u001b[1;33m\u001b[0m\u001b[0m\n\u001b[0;32m     90\u001b[0m         \u001b[0mself\u001b[0m\u001b[1;33m.\u001b[0m\u001b[0m_cache\u001b[0m \u001b[1;33m=\u001b[0m \u001b[1;33m{\u001b[0m\u001b[1;33m}\u001b[0m\u001b[1;33m\u001b[0m\u001b[1;33m\u001b[0m\u001b[0m\n",
      "\u001b[1;32mc:\\Users\\mayda\\AppData\\Local\\Programs\\Python\\Python39\\lib\\site-packages\\statsmodels\\base\\data.py\u001b[0m in \u001b[0;36m_handle_constant\u001b[1;34m(self, hasconst)\u001b[0m\n\u001b[0;32m    132\u001b[0m             \u001b[0mexog_max\u001b[0m \u001b[1;33m=\u001b[0m \u001b[0mnp\u001b[0m\u001b[1;33m.\u001b[0m\u001b[0mmax\u001b[0m\u001b[1;33m(\u001b[0m\u001b[0mself\u001b[0m\u001b[1;33m.\u001b[0m\u001b[0mexog\u001b[0m\u001b[1;33m,\u001b[0m \u001b[0maxis\u001b[0m\u001b[1;33m=\u001b[0m\u001b[1;36m0\u001b[0m\u001b[1;33m)\u001b[0m\u001b[1;33m\u001b[0m\u001b[1;33m\u001b[0m\u001b[0m\n\u001b[0;32m    133\u001b[0m             \u001b[1;32mif\u001b[0m \u001b[1;32mnot\u001b[0m \u001b[0mnp\u001b[0m\u001b[1;33m.\u001b[0m\u001b[0misfinite\u001b[0m\u001b[1;33m(\u001b[0m\u001b[0mexog_max\u001b[0m\u001b[1;33m)\u001b[0m\u001b[1;33m.\u001b[0m\u001b[0mall\u001b[0m\u001b[1;33m(\u001b[0m\u001b[1;33m)\u001b[0m\u001b[1;33m:\u001b[0m\u001b[1;33m\u001b[0m\u001b[1;33m\u001b[0m\u001b[0m\n\u001b[1;32m--> 134\u001b[1;33m                 \u001b[1;32mraise\u001b[0m \u001b[0mMissingDataError\u001b[0m\u001b[1;33m(\u001b[0m\u001b[1;34m'exog contains inf or nans'\u001b[0m\u001b[1;33m)\u001b[0m\u001b[1;33m\u001b[0m\u001b[1;33m\u001b[0m\u001b[0m\n\u001b[0m\u001b[0;32m    135\u001b[0m             \u001b[0mexog_min\u001b[0m \u001b[1;33m=\u001b[0m \u001b[0mnp\u001b[0m\u001b[1;33m.\u001b[0m\u001b[0mmin\u001b[0m\u001b[1;33m(\u001b[0m\u001b[0mself\u001b[0m\u001b[1;33m.\u001b[0m\u001b[0mexog\u001b[0m\u001b[1;33m,\u001b[0m \u001b[0maxis\u001b[0m\u001b[1;33m=\u001b[0m\u001b[1;36m0\u001b[0m\u001b[1;33m)\u001b[0m\u001b[1;33m\u001b[0m\u001b[1;33m\u001b[0m\u001b[0m\n\u001b[0;32m    136\u001b[0m             \u001b[0mconst_idx\u001b[0m \u001b[1;33m=\u001b[0m \u001b[0mnp\u001b[0m\u001b[1;33m.\u001b[0m\u001b[0mwhere\u001b[0m\u001b[1;33m(\u001b[0m\u001b[0mexog_max\u001b[0m \u001b[1;33m==\u001b[0m \u001b[0mexog_min\u001b[0m\u001b[1;33m)\u001b[0m\u001b[1;33m[\u001b[0m\u001b[1;36m0\u001b[0m\u001b[1;33m]\u001b[0m\u001b[1;33m.\u001b[0m\u001b[0msqueeze\u001b[0m\u001b[1;33m(\u001b[0m\u001b[1;33m)\u001b[0m\u001b[1;33m\u001b[0m\u001b[1;33m\u001b[0m\u001b[0m\n",
      "\u001b[1;31mMissingDataError\u001b[0m: exog contains inf or nans"
     ]
    }
   ],
   "source": [
    "dep_var = 'Danceability'\n",
    "indep_selfpick_var = ['Key', 'Loudness', 'Speechiness', 'Acousticness', 'Valence']\n",
    "\n",
    "y_tr = df_tr[dep_var]\n",
    "X_tr = df_tr[indep_selfpick_var]\n",
    "X_t = df_t[indep_selfpick_var]\n",
    "\n",
    "# with statsmodels\n",
    "X_tr = sm.add_constant(X_tr) # adding a constant\n",
    "X_t = sm.add_constant(X_t)\n",
    "ols_model = sm.OLS(y_tr, X_tr).fit()\n",
    "\n",
    "ols_predictions_t = ols_model.predict(X_t) \n",
    "# Round the predicted values to the nearest integer and convert to integers\n",
    "ols_predictions_t = predictions_t.round().astype(int)\n",
    "# Map the predicted values to the range {0, 1, 2, 3, 4, 5, 6, 7, 8, 9}\n",
    "ols_predictions_t = predictions_t.clip(0, 9)\n",
    "\n",
    "print_ols_model = ols_model.summary()\n",
    "print(print_ols_model)\n",
    "\n",
    "ols_predictions_df = pd.DataFrame({'id': df_t['id'], 'Danceability': ols_predictions_t})\n",
    "ols_predictions_df.to_csv('ols_submission.csv', index=False)"
   ]
  },
  {
   "attachments": {},
   "cell_type": "markdown",
   "metadata": {},
   "source": [
    "##### check distribution of danceability"
   ]
  },
  {
   "cell_type": "code",
   "execution_count": 9,
   "metadata": {},
   "outputs": [
    {
     "ename": "NameError",
     "evalue": "name 'ols_predictions_df' is not defined",
     "output_type": "error",
     "traceback": [
      "\u001b[1;31m---------------------------------------------------------------------------\u001b[0m",
      "\u001b[1;31mNameError\u001b[0m                                 Traceback (most recent call last)",
      "\u001b[1;32m<ipython-input-9-1a8df74b33de>\u001b[0m in \u001b[0;36m<module>\u001b[1;34m\u001b[0m\n\u001b[1;32m----> 1\u001b[1;33m \u001b[0mols_predictions_df\u001b[0m\u001b[1;33m[\u001b[0m\u001b[1;34m\"Danceability\"\u001b[0m\u001b[1;33m]\u001b[0m \u001b[1;33m=\u001b[0m \u001b[0mols_predictions_df\u001b[0m\u001b[1;33m[\u001b[0m\u001b[1;34m\"Danceability\"\u001b[0m\u001b[1;33m]\u001b[0m\u001b[1;33m.\u001b[0m\u001b[0mastype\u001b[0m\u001b[1;33m(\u001b[0m\u001b[1;34m\"category\"\u001b[0m\u001b[1;33m)\u001b[0m\u001b[1;33m\u001b[0m\u001b[1;33m\u001b[0m\u001b[0m\n\u001b[0m\u001b[0;32m      2\u001b[0m \u001b[1;31m# Target Variable Countplot\u001b[0m\u001b[1;33m\u001b[0m\u001b[1;33m\u001b[0m\u001b[1;33m\u001b[0m\u001b[0m\n\u001b[0;32m      3\u001b[0m \u001b[0mplt\u001b[0m\u001b[1;33m.\u001b[0m\u001b[0mfigure\u001b[0m\u001b[1;33m(\u001b[0m\u001b[0mfigsize\u001b[0m \u001b[1;33m=\u001b[0m \u001b[1;33m(\u001b[0m\u001b[1;36m10\u001b[0m\u001b[1;33m,\u001b[0m \u001b[1;36m5\u001b[0m\u001b[1;33m)\u001b[0m\u001b[1;33m)\u001b[0m\u001b[1;33m\u001b[0m\u001b[1;33m\u001b[0m\u001b[0m\n\u001b[0;32m      4\u001b[0m \u001b[0msns\u001b[0m\u001b[1;33m.\u001b[0m\u001b[0mcountplot\u001b[0m\u001b[1;33m(\u001b[0m\u001b[0mdata\u001b[0m\u001b[1;33m=\u001b[0m\u001b[0mols_predictions_df\u001b[0m\u001b[1;33m,\u001b[0m \u001b[0mx\u001b[0m\u001b[1;33m=\u001b[0m\u001b[1;34m\"Danceability\"\u001b[0m\u001b[1;33m,\u001b[0m \u001b[0malpha\u001b[0m \u001b[1;33m=\u001b[0m \u001b[1;36m.70\u001b[0m\u001b[1;33m,\u001b[0m \u001b[0mpalette\u001b[0m \u001b[1;33m=\u001b[0m \u001b[1;34m\"BuPu\"\u001b[0m\u001b[1;33m)\u001b[0m\u001b[1;33m\u001b[0m\u001b[1;33m\u001b[0m\u001b[0m\n\u001b[0;32m      5\u001b[0m \u001b[0mplt\u001b[0m\u001b[1;33m.\u001b[0m\u001b[0mtitle\u001b[0m\u001b[1;33m(\u001b[0m\u001b[1;34m\"Levels of Danceability\"\u001b[0m\u001b[1;33m)\u001b[0m\u001b[1;33m\u001b[0m\u001b[1;33m\u001b[0m\u001b[0m\n",
      "\u001b[1;31mNameError\u001b[0m: name 'ols_predictions_df' is not defined"
     ]
    }
   ],
   "source": [
    "ols_predictions_df[\"Danceability\"] = ols_predictions_df[\"Danceability\"].astype(\"category\")\n",
    "# Target Variable Countplot\n",
    "plt.figure(figsize = (10, 5))\n",
    "sns.countplot(data=ols_predictions_df, x=\"Danceability\", alpha = .70, palette = \"BuPu\")\n",
    "plt.title(\"Levels of Danceability\")\n",
    "plt.ylabel(\"Number of Songs\")\n",
    "plt.show()\n",
    "\n",
    "ols_predictions_df[\"Danceability\"] = ols_predictions_df[\"Danceability\"].astype(\"int\")"
   ]
  },
  {
   "attachments": {},
   "cell_type": "markdown",
   "metadata": {},
   "source": [
    "###### Score: 2.14919"
   ]
  },
  {
   "attachments": {},
   "cell_type": "markdown",
   "metadata": {},
   "source": [
    "#### SVM"
   ]
  },
  {
   "cell_type": "code",
   "execution_count": 7,
   "metadata": {},
   "outputs": [],
   "source": [
    "dep_var = 'Danceability'\n",
    "indep_var = ['Energy', 'Key', 'Loudness', 'Speechiness','Acousticness',\\\n",
    "     'Instrumentalness', 'Liveness', 'Valence', 'Tempo','Duration_ms', 'Views', 'Likes', 'Stream']\n",
    "y_tr = df_tr[dep_var].values.tolist()\n",
    "X_tr = df_tr[indep_var].values.tolist()\n",
    "X_t = df_t[indep_var].values.tolist()\n",
    "\n",
    "# Standardize the input features\n",
    "scaler = StandardScaler()\n",
    "X_tr_scaled = scaler.fit_transform(X_tr)\n",
    "X_t_scaled = scaler.transform(X_t)\n",
    "# Fill NaN values with 0\n",
    "X_tr_scaled = np.nan_to_num(X_tr_scaled, nan=0)\n",
    "X_t_scaled = np.nan_to_num(X_t_scaled, nan=0)\n",
    "X_tr_scaled = pd.DataFrame(X_tr_scaled, columns=indep_var)\n",
    "X_t_scaled = pd.DataFrame(X_t_scaled, columns=indep_var)\n",
    "\n",
    "y_tr = df_tr[dep_var].values.tolist()\n",
    "X_tr_scaled = X_tr_scaled.values.tolist()\n",
    "X_t_scaled = X_t_scaled.values.tolist()"
   ]
  },
  {
   "attachments": {},
   "cell_type": "markdown",
   "metadata": {},
   "source": [
    "##### C=1"
   ]
  },
  {
   "attachments": {},
   "cell_type": "markdown",
   "metadata": {},
   "source": [
    "###### Missing value = 0 & Standardize"
   ]
  },
  {
   "cell_type": "code",
   "execution_count": 14,
   "metadata": {},
   "outputs": [
    {
     "name": "stdout",
     "output_type": "stream",
     "text": [
      "Accuracy = 18.7332% (1183/6315) (classification)\n"
     ]
    },
    {
     "data": {
      "image/png": "[encoded data removed]",
      "text/plain": [
       "<Figure size 720x360 with 1 Axes>"
      ]
     },
     "metadata": {
      "needs_background": "light"
     },
     "output_type": "display_data"
    }
   ],
   "source": [
    "# linear kernel: -t=0\n",
    "hard_svm_param = f'-s 0 -t 0 -c 1 -q'\n",
    "hard_svm_model = svm_train(y_tr, X_tr_scaled , hard_svm_param)\n",
    "hard_svm_predictions_t, _, _ = svm_predict([], X_t_scaled, hard_svm_model)\n",
    "\n",
    "hard_svm_predictions_df = pd.DataFrame({'id': df_t['id'], 'Danceability': hard_svm_predictions_t})\n",
    "hard_svm_predictions_df.to_csv('svm_hard_scaledn.csv', index=False)\n",
    "\n",
    "hard_svm_predictions_df[\"Danceability\"] = hard_svm_predictions_df[\"Danceability\"].astype(\"category\")\n",
    "# Target Variable Countplot\n",
    "plt.figure(figsize = (10, 5))\n",
    "sns.countplot(data=hard_svm_predictions_df, x=\"Danceability\", alpha = .70, palette = \"BuPu\")\n",
    "plt.title(\"Levels of Danceability\")\n",
    "plt.ylabel(\"Number of Songs\")\n",
    "plt.show()"
   ]
  },
  {
   "attachments": {},
   "cell_type": "markdown",
   "metadata": {},
   "source": [
    "##### C=0.1"
   ]
  },
  {
   "cell_type": "code",
   "execution_count": 16,
   "metadata": {},
   "outputs": [
    {
     "name": "stdout",
     "output_type": "stream",
     "text": [
      "Accuracy = 18.5273% (1170/6315) (classification)\n"
     ]
    },
    {
     "data": {
      "image/png": "[encoded data removed]",
      "text/plain": [
       "<Figure size 720x360 with 1 Axes>"
      ]
     },
     "metadata": {
      "needs_background": "light"
     },
     "output_type": "display_data"
    }
   ],
   "source": [
    "# linear kernel: -t=0\n",
    "soft_svm_param = f'-s 0 -t 0 -c 0.1 -q'\n",
    "soft_svm_model = svm_train(y_tr, X_tr_scaled , soft_svm_param)\n",
    "soft_svm_predictions_t, _, _ = svm_predict([], X_t_scaled, soft_svm_model)\n",
    "\n",
    "soft_svm_predictions_df = pd.DataFrame({'id': df_t['id'], 'Danceability': soft_svm_predictions_t})\n",
    "soft_svm_predictions_df.to_csv('svm_soft_submission.csv', index=False)\n",
    "soft_svm_predictions_df[\"Danceability\"] = soft_svm_predictions_df[\"Danceability\"].astype(\"category\")\n",
    "\n",
    "# Target Variable Countplot\n",
    "plt.figure(figsize = (10, 5))\n",
    "sns.countplot(data=soft_svm_predictions_df, x=\"Danceability\", alpha = .70, palette = \"BuPu\")\n",
    "plt.title(\"Levels of Danceability\")\n",
    "plt.ylabel(\"Number of Songs\")\n",
    "plt.show()"
   ]
  },
  {
   "attachments": {},
   "cell_type": "markdown",
   "metadata": {},
   "source": [
    "##### C= 0.01"
   ]
  },
  {
   "cell_type": "code",
   "execution_count": 17,
   "metadata": {},
   "outputs": [
    {
     "name": "stdout",
     "output_type": "stream",
     "text": [
      "Accuracy = 17.7356% (1120/6315) (classification)\n"
     ]
    },
    {
     "data": {
      "image/png": "[encoded data removed]",
      "text/plain": [
       "<Figure size 720x360 with 1 Axes>"
      ]
     },
     "metadata": {
      "needs_background": "light"
     },
     "output_type": "display_data"
    }
   ],
   "source": [
    "# linear kernel: -t=0\n",
    "softer_param = f'-s 0 -t 0 -c 0.01 -q'\n",
    "softer_svm_model = svm_train(y_tr, X_tr_scaled , softer_param)\n",
    "softer_svm_predictions_t, _, _ = svm_predict([], X_t_scaled, softer_svm_model)\n",
    "\n",
    "softer_svm_predictions_df = pd.DataFrame({'id': df_t['id'], 'Danceability': softer_svm_predictions_t})\n",
    "softer_svm_predictions_df.to_csv('svm_softer_submission.csv', index=False)\n",
    "\n",
    "softer_svm_predictions_df[\"Danceability\"] = softer_svm_predictions_df[\"Danceability\"].astype(\"category\")\n",
    "# Target Variable Countplot\n",
    "plt.figure(figsize = (10, 5))\n",
    "sns.countplot(data=softer_svm_predictions_df, x=\"Danceability\", alpha = .70, palette = \"BuPu\")\n",
    "plt.title(\"Levels of Danceability\")\n",
    "plt.ylabel(\"Number of Songs\")\n",
    "plt.show()"
   ]
  },
  {
   "attachments": {},
   "cell_type": "markdown",
   "metadata": {},
   "source": [
    "##### Gaussian Kernel"
   ]
  },
  {
   "cell_type": "code",
   "execution_count": 9,
   "metadata": {},
   "outputs": [
    {
     "name": "stdout",
     "output_type": "stream",
     "text": [
      "Accuracy = 19.0657% (1204/6315) (classification)\n"
     ]
    },
    {
     "data": {
      "image/png": "[encoded data removed]",
      "text/plain": [
       "<Figure size 720x360 with 1 Axes>"
      ]
     },
     "metadata": {
      "needs_background": "light"
     },
     "output_type": "display_data"
    }
   ],
   "source": [
    "# Gaussian kernel: -t=2\n",
    "gaussian_svm_param = f'-s 0 -t 2 -c 1 -g 0.1 -q'\n",
    "gaussian_svm_model = svm_train(y_tr, X_tr_scaled , gaussian_svm_param)\n",
    "gaussian_svm_predictions_t, _, _ = svm_predict([], X_t_scaled, gaussian_svm_model)\n",
    "\n",
    "gaussian_svm_predictions_df = pd.DataFrame({'id': df_t['id'], 'Danceability': gaussian_svm_predictions_t})\n",
    "gaussian_svm_predictions_df.to_csv('gaussian_svm.csv', index=False)\n",
    "\n",
    "gaussian_svm_predictions_df[\"Danceability\"] = gaussian_svm_predictions_df[\"Danceability\"].astype(\"category\")\n",
    "# Target Variable Countplot\n",
    "plt.figure(figsize = (10, 5))\n",
    "sns.countplot(data=gaussian_svm_predictions_df, x=\"Danceability\", alpha = .70, palette = \"BuPu\")\n",
    "plt.title(\"Levels of Danceability\")\n",
    "plt.ylabel(\"Number of Songs\")\n",
    "plt.show()"
   ]
  },
  {
   "attachments": {},
   "cell_type": "markdown",
   "metadata": {},
   "source": [
    "##### Polynomial Kernel"
   ]
  },
  {
   "cell_type": "code",
   "execution_count": 8,
   "metadata": {},
   "outputs": [
    {
     "name": "stdout",
     "output_type": "stream",
     "text": [
      "Accuracy = 15.0911% (953/6315) (classification)\n"
     ]
    },
    {
     "data": {
      "image/png": "[encoded data removed]",
      "text/plain": [
       "<Figure size 720x360 with 1 Axes>"
      ]
     },
     "metadata": {
      "needs_background": "light"
     },
     "output_type": "display_data"
    }
   ],
   "source": [
    "# Polynomial kernel: -t=1\n",
    "polynomial_svm_param = f'-s 0 -t 1 -r 1 -d 3 -c 0.1 -g 1 -q'\n",
    "polynomial_svm_model = svm_train(y_tr, X_tr_scaled , polynomial_svm_param)\n",
    "polynomial_svm_pred_t, _, _ = svm_predict([], X_t_scaled, polynomial_svm_model)\n",
    "\n",
    "polynomial_svm_pred_df = pd.DataFrame({'id': df_t['id'], 'Danceability': polynomial_svm_pred_t})\n",
    "polynomial_svm_pred_df.to_csv('polynomial_svm.csv', index=False)\n",
    "\n",
    "polynomial_svm_pred_df[\"Danceability\"] = polynomial_svm_pred_df[\"Danceability\"].astype(\"category\")\n",
    "# Target Variable Countplot\n",
    "plt.figure(figsize = (10, 5))\n",
    "sns.countplot(data=polynomial_svm_pred_df, x=\"Danceability\", alpha = .70, palette = \"BuPu\")\n",
    "plt.title(\"Levels of Danceability\")\n",
    "plt.ylabel(\"Number of Songs\")\n",
    "plt.show()"
   ]
  }
 ],
 "metadata": {
  "kernelspec": {
   "display_name": "Python 3",
   "language": "python",
   "name": "python3"
  },
  "language_info": {
   "codemirror_mode": {
    "name": "ipython",
    "version": 3
   },
   "file_extension": ".py",
   "mimetype": "text/x-python",
   "name": "python",
   "nbconvert_exporter": "python",
   "pygments_lexer": "ipython3",
   "version": "3.9.2"
  },
  "orig_nbformat": 4
 },
 "nbformat": 4,
 "nbformat_minor": 2
}
