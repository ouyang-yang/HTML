{
 "cells": [
  {
   "attachments": {},
   "cell_type": "markdown",
   "metadata": {},
   "source": [
    "#### Packages"
   ]
  },
  {
   "cell_type": "code",
   "execution_count": 1,
   "metadata": {},
   "outputs": [],
   "source": [
    "from libsvm.svmutil import *\n",
    "from liblinear.liblinearutil import *\n",
    "from sklearn import linear_model\n",
    "import matplotlib.pyplot as plt\n",
    "import statsmodels.api as sm\n",
    "import seaborn as sns\n",
    "import pandas as pd\n",
    "import numpy as np\n",
    "import itertools\n",
    "import random\n",
    "import math\n",
    "import sys"
   ]
  },
  {
   "attachments": {},
   "cell_type": "markdown",
   "metadata": {},
   "source": [
    "#### Read Data"
   ]
  },
  {
   "cell_type": "code",
   "execution_count": 2,
   "metadata": {},
   "outputs": [
    {
     "name": "stdout",
     "output_type": "stream",
     "text": [
      "Index(['Danceability', 'Energy', 'Key', 'Loudness', 'Speechiness',\n",
      "       'Acousticness', 'Instrumentalness', 'Liveness', 'Valence', 'Tempo',\n",
      "       'Duration_ms', 'Views', 'Likes', 'Stream', 'id'],\n",
      "      dtype='object')\n"
     ]
    }
   ],
   "source": [
    "df_tr = pd.read_csv(\"ML_FP_train.csv\")\n",
    "df_tr = df_tr.drop(['Album_type', 'Licensed', 'official_video', 'Track', 'Album', \\\n",
    "    'Uri', 'Url_spotify', 'Url_youtube', 'Comments', 'Description', 'Title', \\\n",
    "    'Channel', 'Composer', 'Artist'], axis=1)\n",
    "df_t = pd.read_csv(\"ML_FP_test.csv\")\n",
    "df_t = df_t.drop(['Album_type', 'Licensed', 'official_video', 'Track', 'Album', \\\n",
    "    'Uri', 'Url_spotify', 'Url_youtube', 'Comments', 'Description', 'Title', \\\n",
    "    'Channel', 'Composer', 'Artist'], axis=1)\n",
    "\n",
    "# df_tr.shape (17170, 29)\n",
    "# random_rows = df_tr.sample(n=10)\n",
    "# print(random_rows)\n",
    "print(df_tr.columns)\n",
    "\n",
    "df_tr = df_tr.fillna(df_tr.median()) #處理缺失值\n",
    "df_tr = df_tr.astype({\"Danceability\":\"int\", \"Views\":\"int\", \"Likes\":\"int\", \"Stream\":\"int\"})\n",
    "df_t = df_t.fillna(df_t.median()) #處理缺失值\n",
    "df_t = df_t.astype({\"Views\":\"int\", \"Likes\":\"int\", \"Stream\":\"int\"})"
   ]
  },
  {
   "cell_type": "code",
   "execution_count": 43,
   "metadata": {},
   "outputs": [
    {
     "data": {
      "text/html": [
       "<div>\n",
       "<style scoped>\n",
       "    .dataframe tbody tr th:only-of-type {\n",
       "        vertical-align: middle;\n",
       "    }\n",
       "\n",
       "    .dataframe tbody tr th {\n",
       "        vertical-align: top;\n",
       "    }\n",
       "\n",
       "    .dataframe thead th {\n",
       "        text-align: right;\n",
       "    }\n",
       "</style>\n",
       "<table border=\"1\" class=\"dataframe\">\n",
       "  <thead>\n",
       "    <tr style=\"text-align: right;\">\n",
       "      <th></th>\n",
       "      <th>Danceability</th>\n",
       "      <th>Energy</th>\n",
       "      <th>Key</th>\n",
       "      <th>Loudness</th>\n",
       "      <th>Speechiness</th>\n",
       "      <th>Acousticness</th>\n",
       "      <th>Instrumentalness</th>\n",
       "      <th>Liveness</th>\n",
       "      <th>Valence</th>\n",
       "      <th>Tempo</th>\n",
       "      <th>Duration_ms</th>\n",
       "      <th>Views</th>\n",
       "      <th>Likes</th>\n",
       "      <th>Stream</th>\n",
       "      <th>id</th>\n",
       "    </tr>\n",
       "  </thead>\n",
       "  <tbody>\n",
       "    <tr>\n",
       "      <th>count</th>\n",
       "      <td>17170.000000</td>\n",
       "      <td>1.717000e+04</td>\n",
       "      <td>17170.000000</td>\n",
       "      <td>17170.000000</td>\n",
       "      <td>17170.000000</td>\n",
       "      <td>1.717000e+04</td>\n",
       "      <td>17170.000000</td>\n",
       "      <td>17170.000000</td>\n",
       "      <td>17170.000000</td>\n",
       "      <td>17170.000000</td>\n",
       "      <td>1.717000e+04</td>\n",
       "      <td>1.717000e+04</td>\n",
       "      <td>1.717000e+04</td>\n",
       "      <td>1.717000e+04</td>\n",
       "      <td>17170.000000</td>\n",
       "    </tr>\n",
       "    <tr>\n",
       "      <th>mean</th>\n",
       "      <td>4.586022</td>\n",
       "      <td>3.298228e-01</td>\n",
       "      <td>5.196506</td>\n",
       "      <td>-7.398377</td>\n",
       "      <td>0.089008</td>\n",
       "      <td>9.865013e-02</td>\n",
       "      <td>0.046612</td>\n",
       "      <td>0.029045</td>\n",
       "      <td>0.526615</td>\n",
       "      <td>120.797212</td>\n",
       "      <td>2.211933e+05</td>\n",
       "      <td>6.497058e+07</td>\n",
       "      <td>5.697116e+05</td>\n",
       "      <td>1.122262e+08</td>\n",
       "      <td>8584.500000</td>\n",
       "    </tr>\n",
       "    <tr>\n",
       "      <th>std</th>\n",
       "      <td>2.858980</td>\n",
       "      <td>2.243601e-01</td>\n",
       "      <td>3.185355</td>\n",
       "      <td>4.205446</td>\n",
       "      <td>0.096486</td>\n",
       "      <td>2.078188e-01</td>\n",
       "      <td>0.177396</td>\n",
       "      <td>0.106644</td>\n",
       "      <td>0.225816</td>\n",
       "      <td>27.364553</td>\n",
       "      <td>1.116707e+05</td>\n",
       "      <td>2.092509e+08</td>\n",
       "      <td>1.602239e+06</td>\n",
       "      <td>2.235556e+08</td>\n",
       "      <td>4956.696396</td>\n",
       "    </tr>\n",
       "    <tr>\n",
       "      <th>min</th>\n",
       "      <td>0.000000</td>\n",
       "      <td>8.365427e-15</td>\n",
       "      <td>0.000000</td>\n",
       "      <td>-46.251000</td>\n",
       "      <td>0.000000</td>\n",
       "      <td>1.367631e-18</td>\n",
       "      <td>0.000000</td>\n",
       "      <td>0.000003</td>\n",
       "      <td>0.000000</td>\n",
       "      <td>0.000000</td>\n",
       "      <td>3.098500e+04</td>\n",
       "      <td>-2.147484e+09</td>\n",
       "      <td>0.000000e+00</td>\n",
       "      <td>-2.147484e+09</td>\n",
       "      <td>0.000000</td>\n",
       "    </tr>\n",
       "    <tr>\n",
       "      <th>25%</th>\n",
       "      <td>2.000000</td>\n",
       "      <td>1.601030e-01</td>\n",
       "      <td>2.000000</td>\n",
       "      <td>-8.124000</td>\n",
       "      <td>0.038000</td>\n",
       "      <td>2.409325e-04</td>\n",
       "      <td>0.000000</td>\n",
       "      <td>0.000982</td>\n",
       "      <td>0.368000</td>\n",
       "      <td>100.071000</td>\n",
       "      <td>1.851942e+05</td>\n",
       "      <td>2.909370e+06</td>\n",
       "      <td>3.334325e+04</td>\n",
       "      <td>1.994607e+07</td>\n",
       "      <td>4292.250000</td>\n",
       "    </tr>\n",
       "    <tr>\n",
       "      <th>50%</th>\n",
       "      <td>5.000000</td>\n",
       "      <td>2.954083e-01</td>\n",
       "      <td>5.000000</td>\n",
       "      <td>-6.472000</td>\n",
       "      <td>0.051400</td>\n",
       "      <td>6.967871e-03</td>\n",
       "      <td>0.000002</td>\n",
       "      <td>0.001907</td>\n",
       "      <td>0.531000</td>\n",
       "      <td>119.995500</td>\n",
       "      <td>2.120300e+05</td>\n",
       "      <td>1.427208e+07</td>\n",
       "      <td>1.239210e+05</td>\n",
       "      <td>4.550224e+07</td>\n",
       "      <td>8584.500000</td>\n",
       "    </tr>\n",
       "    <tr>\n",
       "      <th>75%</th>\n",
       "      <td>7.000000</td>\n",
       "      <td>4.600996e-01</td>\n",
       "      <td>8.000000</td>\n",
       "      <td>-5.175000</td>\n",
       "      <td>0.089400</td>\n",
       "      <td>6.643013e-02</td>\n",
       "      <td>0.000135</td>\n",
       "      <td>0.008000</td>\n",
       "      <td>0.689000</td>\n",
       "      <td>135.065250</td>\n",
       "      <td>2.403968e+05</td>\n",
       "      <td>4.879191e+07</td>\n",
       "      <td>3.938395e+05</td>\n",
       "      <td>1.007639e+08</td>\n",
       "      <td>12876.750000</td>\n",
       "    </tr>\n",
       "    <tr>\n",
       "      <th>max</th>\n",
       "      <td>9.000000</td>\n",
       "      <td>1.000000e+00</td>\n",
       "      <td>10.000000</td>\n",
       "      <td>0.829000</td>\n",
       "      <td>0.964000</td>\n",
       "      <td>9.880479e-01</td>\n",
       "      <td>1.000000</td>\n",
       "      <td>1.000000</td>\n",
       "      <td>0.993000</td>\n",
       "      <td>243.372000</td>\n",
       "      <td>4.581483e+06</td>\n",
       "      <td>2.118025e+09</td>\n",
       "      <td>4.014762e+07</td>\n",
       "      <td>2.136271e+09</td>\n",
       "      <td>17169.000000</td>\n",
       "    </tr>\n",
       "  </tbody>\n",
       "</table>\n",
       "</div>"
      ],
      "text/plain": [
       "       Danceability        Energy           Key      Loudness   Speechiness  \\\n",
       "count  17170.000000  1.717000e+04  17170.000000  17170.000000  17170.000000   \n",
       "mean       4.586022  3.298228e-01      5.196506     -7.398377      0.089008   \n",
       "std        2.858980  2.243601e-01      3.185355      4.205446      0.096486   \n",
       "min        0.000000  8.365427e-15      0.000000    -46.251000      0.000000   \n",
       "25%        2.000000  1.601030e-01      2.000000     -8.124000      0.038000   \n",
       "50%        5.000000  2.954083e-01      5.000000     -6.472000      0.051400   \n",
       "75%        7.000000  4.600996e-01      8.000000     -5.175000      0.089400   \n",
       "max        9.000000  1.000000e+00     10.000000      0.829000      0.964000   \n",
       "\n",
       "       Acousticness  Instrumentalness      Liveness       Valence  \\\n",
       "count  1.717000e+04      17170.000000  17170.000000  17170.000000   \n",
       "mean   9.865013e-02          0.046612      0.029045      0.526615   \n",
       "std    2.078188e-01          0.177396      0.106644      0.225816   \n",
       "min    1.367631e-18          0.000000      0.000003      0.000000   \n",
       "25%    2.409325e-04          0.000000      0.000982      0.368000   \n",
       "50%    6.967871e-03          0.000002      0.001907      0.531000   \n",
       "75%    6.643013e-02          0.000135      0.008000      0.689000   \n",
       "max    9.880479e-01          1.000000      1.000000      0.993000   \n",
       "\n",
       "              Tempo   Duration_ms         Views         Likes        Stream  \\\n",
       "count  17170.000000  1.717000e+04  1.717000e+04  1.717000e+04  1.717000e+04   \n",
       "mean     120.797212  2.211933e+05  6.497058e+07  5.697116e+05  1.122262e+08   \n",
       "std       27.364553  1.116707e+05  2.092509e+08  1.602239e+06  2.235556e+08   \n",
       "min        0.000000  3.098500e+04 -2.147484e+09  0.000000e+00 -2.147484e+09   \n",
       "25%      100.071000  1.851942e+05  2.909370e+06  3.334325e+04  1.994607e+07   \n",
       "50%      119.995500  2.120300e+05  1.427208e+07  1.239210e+05  4.550224e+07   \n",
       "75%      135.065250  2.403968e+05  4.879191e+07  3.938395e+05  1.007639e+08   \n",
       "max      243.372000  4.581483e+06  2.118025e+09  4.014762e+07  2.136271e+09   \n",
       "\n",
       "                 id  \n",
       "count  17170.000000  \n",
       "mean    8584.500000  \n",
       "std     4956.696396  \n",
       "min        0.000000  \n",
       "25%     4292.250000  \n",
       "50%     8584.500000  \n",
       "75%    12876.750000  \n",
       "max    17169.000000  "
      ]
     },
     "execution_count": 43,
     "metadata": {},
     "output_type": "execute_result"
    }
   ],
   "source": [
    "df_tr.describe()"
   ]
  },
  {
   "attachments": {},
   "cell_type": "markdown",
   "metadata": {},
   "source": [
    "##### Levels of Danceability, Barplot"
   ]
  },
  {
   "cell_type": "code",
   "execution_count": 51,
   "metadata": {},
   "outputs": [
    {
     "data": {
      "image/png": "[encoded data removed]",
      "text/plain": [
       "<Figure size 720x360 with 1 Axes>"
      ]
     },
     "metadata": {
      "needs_background": "light"
     },
     "output_type": "display_data"
    }
   ],
   "source": [
    "df_tr[\"Danceability\"] = df_tr[\"Danceability\"].astype(\"category\")\n",
    "# Target Variable Countplot\n",
    "plt.figure(figsize = (10, 5))\n",
    "sns.countplot(data=df_tr, x=\"Danceability\", alpha = .70, palette = \"BuPu\")\n",
    "plt.title(\"Levels of Danceability\")\n",
    "plt.ylabel(\"Number of Songs\")\n",
    "plt.show()\n",
    "\n",
    "df_tr[\"Danceability\"] = df_tr[\"Danceability\"].astype(\"int\")"
   ]
  },
  {
   "attachments": {},
   "cell_type": "markdown",
   "metadata": {},
   "source": [
    "##### Correlation Matrix, Heatmap"
   ]
  },
  {
   "cell_type": "code",
   "execution_count": 57,
   "metadata": {},
   "outputs": [
    {
     "data": {
      "image/png": "[encoded data removed]",
      "text/plain": [
       "<Figure size 864x648 with 2 Axes>"
      ]
     },
     "metadata": {
      "needs_background": "light"
     },
     "output_type": "display_data"
    }
   ],
   "source": [
    "# Heatmap\n",
    "plt.figure(figsize = (12, 9))\n",
    "sns.heatmap(df_tr.corr(), cmap = \"hot_r\")\n",
    "plt.show()"
   ]
  },
  {
   "cell_type": "code",
   "execution_count": 74,
   "metadata": {},
   "outputs": [
    {
     "data": {
      "image/png": "[encoded data removed]",
      "text/plain": [
       "<Figure size 432x288 with 1 Axes>"
      ]
     },
     "metadata": {
      "needs_background": "light"
     },
     "output_type": "display_data"
    }
   ],
   "source": [
    "# Danceability by key Visualization\n",
    "colors = sns.color_palette(\"Set2\")\n",
    "key = df_tr.groupby([\"Key\",\"Danceability\"]).Key.count().unstack()\n",
    "p1 = key.plot(kind = \"bar\", stacked = True, \n",
    "                   title = \"Danceability by key\", \n",
    "                   color = colors, alpha = .70)\n",
    "p1.set_xlabel(\"Key\")\n",
    "p1.set_ylabel(\"Number of Songs\")\n",
    "plt.legend(bbox_to_anchor=(1, 1), bbox_transform=plt.gcf().transFigure)\n",
    "plt.show()"
   ]
  },
  {
   "attachments": {},
   "cell_type": "markdown",
   "metadata": {},
   "source": [
    "### Model"
   ]
  },
  {
   "attachments": {},
   "cell_type": "markdown",
   "metadata": {},
   "source": [
    "#### OLS"
   ]
  },
  {
   "attachments": {},
   "cell_type": "markdown",
   "metadata": {},
   "source": [
    "##### OLS, self-choosing"
   ]
  },
  {
   "cell_type": "code",
   "execution_count": 95,
   "metadata": {},
   "outputs": [
    {
     "name": "stdout",
     "output_type": "stream",
     "text": [
      "                            OLS Regression Results                            \n",
      "==============================================================================\n",
      "Dep. Variable:           Danceability   R-squared:                       0.223\n",
      "Model:                            OLS   Adj. R-squared:                  0.223\n",
      "Method:                 Least Squares   F-statistic:                     985.2\n",
      "Date:                Thu, 18 May 2023   Prob (F-statistic):               0.00\n",
      "Time:                        17:50:54   Log-Likelihood:                -40233.\n",
      "No. Observations:               17170   AIC:                         8.048e+04\n",
      "Df Residuals:                   17164   BIC:                         8.052e+04\n",
      "Df Model:                           5                                         \n",
      "Covariance Type:            nonrobust                                         \n",
      "================================================================================\n",
      "                   coef    std err          t      P>|t|      [0.025      0.975]\n",
      "--------------------------------------------------------------------------------\n",
      "const            2.4525      0.077     31.814      0.000       2.301       2.604\n",
      "Key              0.0112      0.006      1.845      0.065      -0.001       0.023\n",
      "Loudness         0.0496      0.006      8.965      0.000       0.039       0.060\n",
      "Speechiness      5.0436      0.201     25.109      0.000       4.650       5.437\n",
      "Acousticness    -1.9609      0.111    -17.597      0.000      -2.179      -1.743\n",
      "Valence          4.1531      0.089     46.566      0.000       3.978       4.328\n",
      "==============================================================================\n",
      "Omnibus:                     1463.715   Durbin-Watson:                   1.372\n",
      "Prob(Omnibus):                  0.000   Jarque-Bera (JB):              466.795\n",
      "Skew:                          -0.057   Prob(JB):                    4.33e-102\n",
      "Kurtosis:                       2.200   Cond. No.                         104.\n",
      "==============================================================================\n",
      "\n",
      "Notes:\n",
      "[1] Standard Errors assume that the covariance matrix of the errors is correctly specified.\n"
     ]
    }
   ],
   "source": [
    "dep_var = 'Danceability'\n",
    "indep_selfpick_var = ['Key', 'Loudness', 'Speechiness', 'Acousticness', 'Valence']\n",
    "\n",
    "y_tr = df_tr[dep_var]\n",
    "X_tr = df_tr[indep_selfpick_var]\n",
    "X_t = df_t[indep_selfpick_var]\n",
    "\n",
    "# with statsmodels\n",
    "X_tr = sm.add_constant(X_tr) # adding a constant\n",
    "X_t = sm.add_constant(X_t)\n",
    "ols_model = sm.OLS(y_tr, X_tr).fit()\n",
    "\n",
    "ols_predictions_t = ols_model.predict(X_t) \n",
    "# Round the predicted values to the nearest integer and convert to integers\n",
    "ols_predictions_t = predictions_t.round().astype(int)\n",
    "# Map the predicted values to the range {0, 1, 2, 3, 4, 5, 6, 7, 8, 9}\n",
    "ols_predictions_t = predictions_t.clip(0, 9)\n",
    "\n",
    "print_ols_model = ols_model.summary()\n",
    "print(print_ols_model)\n",
    "\n",
    "ols_predictions_df = pd.DataFrame({'id': df_t['id'], 'Danceability': ols_predictions_t})\n",
    "ols_predictions_df.to_csv('ols_submission.csv', index=False)"
   ]
  },
  {
   "attachments": {},
   "cell_type": "markdown",
   "metadata": {},
   "source": [
    "##### check distribution of danceability"
   ]
  },
  {
   "cell_type": "code",
   "execution_count": 93,
   "metadata": {},
   "outputs": [
    {
     "data": {
      "image/png": "[encoded data removed]",
      "text/plain": [
       "<Figure size 720x360 with 1 Axes>"
      ]
     },
     "metadata": {
      "needs_background": "light"
     },
     "output_type": "display_data"
    }
   ],
   "source": [
    "ols_predictions_df[\"Danceability\"] = ols_predictions_df[\"Danceability\"].astype(\"category\")\n",
    "# Target Variable Countplot\n",
    "plt.figure(figsize = (10, 5))\n",
    "sns.countplot(data=ols_predictions_df, x=\"Danceability\", alpha = .70, palette = \"BuPu\")\n",
    "plt.title(\"Levels of Danceability\")\n",
    "plt.ylabel(\"Number of Songs\")\n",
    "plt.show()\n",
    "\n",
    "ols_predictions_df[\"Danceability\"] = ols_predictions_df[\"Danceability\"].astype(\"int\")"
   ]
  },
  {
   "attachments": {},
   "cell_type": "markdown",
   "metadata": {},
   "source": [
    "###### Score: 2.14919"
   ]
  },
  {
   "attachments": {},
   "cell_type": "markdown",
   "metadata": {},
   "source": [
    "#### SVM"
   ]
  },
  {
   "attachments": {},
   "cell_type": "markdown",
   "metadata": {},
   "source": [
    "##### C=1"
   ]
  },
  {
   "cell_type": "code",
   "execution_count": 3,
   "metadata": {},
   "outputs": [],
   "source": [
    "dep_var = 'Danceability'\n",
    "indep_var = ['Energy', 'Key', 'Loudness', 'Speechiness','Acousticness',\\\n",
    "     'Instrumentalness', 'Liveness', 'Valence', 'Tempo','Duration_ms', 'Views', 'Likes', 'Stream']\n",
    "y_tr = df_tr[dep_var].values.tolist()\n",
    "X_tr = df_tr[indep_var].values.tolist()\n",
    "X_t = df_t[indep_var].values.tolist()\n"
   ]
  },
  {
   "cell_type": "code",
   "execution_count": 3,
   "metadata": {},
   "outputs": [
    {
     "name": "stdout",
     "output_type": "stream",
     "text": [
      "Accuracy = 0.0633413% (4/6315) (classification)\n"
     ]
    }
   ],
   "source": [
    "# linear kernel: -t=0\n",
    "param = f'-s 0 -t 0 -c 1 -q'\n",
    "hard_svm_model = svm_train(y_tr, X_tr , param)\n",
    "hard_svm_predictions_t, _, _ = svm_predict([], X_t, hard_svm_model)\n",
    "\n",
    "hard_svm_predictions_df = pd.DataFrame({'id': df_t['id'], 'Danceability': hard_svm_predictions_t})\n",
    "hard_svm_predictions_df.to_csv('svm_hard_submission.csv', index=False)"
   ]
  },
  {
   "cell_type": "code",
   "execution_count": 4,
   "metadata": {},
   "outputs": [
    {
     "data": {
      "image/png": "[encoded data removed]",
      "text/plain": [
       "<Figure size 720x360 with 1 Axes>"
      ]
     },
     "metadata": {
      "needs_background": "light"
     },
     "output_type": "display_data"
    }
   ],
   "source": [
    "hard_svm_predictions_df[\"Danceability\"] = hard_svm_predictions_df[\"Danceability\"].astype(\"category\")\n",
    "# Target Variable Countplot\n",
    "plt.figure(figsize = (10, 5))\n",
    "sns.countplot(data=hard_svm_predictions_df, x=\"Danceability\", alpha = .70, palette = \"BuPu\")\n",
    "plt.title(\"Levels of Danceability\")\n",
    "plt.ylabel(\"Number of Songs\")\n",
    "plt.show()"
   ]
  },
  {
   "attachments": {},
   "cell_type": "markdown",
   "metadata": {},
   "source": [
    "##### C=0.1"
   ]
  },
  {
   "cell_type": "code",
   "execution_count": 4,
   "metadata": {},
   "outputs": [],
   "source": [
    "# linear kernel: -t=0\n",
    "param = f'-s 0 -t 0 -c 1 -q'\n",
    "soft_svm_model = svm_train(y_tr, X_tr , param)\n",
    "soft_svm_predictions_t, _, _ = svm_predict([], X_t, soft_svm_model)\n",
    "\n",
    "soft_svm_predictions_df = pd.DataFrame({'id': df_t['id'], 'Danceability': soft_svm_predictions_t})\n",
    "soft_svm_predictions_df.to_csv('svm_hard_submission.csv', index=False)"
   ]
  },
  {
   "cell_type": "code",
   "execution_count": null,
   "metadata": {},
   "outputs": [],
   "source": [
    "soft_svm_predictions_df[\"Danceability\"] = soft_svm_predictions_df[\"Danceability\"].astype(\"category\")\n",
    "# Target Variable Countplot\n",
    "plt.figure(figsize = (10, 5))\n",
    "sns.countplot(data=soft_svm_predictions_df, x=\"Danceability\", alpha = .70, palette = \"BuPu\")\n",
    "plt.title(\"Levels of Danceability\")\n",
    "plt.ylabel(\"Number of Songs\")\n",
    "plt.show()"
   ]
  }
 ],
 "metadata": {
  "kernelspec": {
   "display_name": "Python 3",
   "language": "python",
   "name": "python3"
  },
  "language_info": {
   "codemirror_mode": {
    "name": "ipython",
    "version": 3
   },
   "file_extension": ".py",
   "mimetype": "text/x-python",
   "name": "python",
   "nbconvert_exporter": "python",
   "pygments_lexer": "ipython3",
   "version": "3.9.2"
  },
  "orig_nbformat": 4
 },
 "nbformat": 4,
 "nbformat_minor": 2
}
