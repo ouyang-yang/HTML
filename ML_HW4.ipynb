{
 "cells": [
  {
   "cell_type": "code",
   "execution_count": 23,
   "metadata": {},
   "outputs": [],
   "source": [
    "import pandas as pd\n",
    "import numpy as np\n",
    "from liblinear import *\n",
    "import itertools\n",
    "from scipy.sparse import lil_matrix"
   ]
  },
  {
   "cell_type": "code",
   "execution_count": 28,
   "metadata": {},
   "outputs": [
    {
     "name": "stdout",
     "output_type": "stream",
     "text": [
      "(200, 11)\n"
     ]
    }
   ],
   "source": [
    "df_train = pd.read_csv(\"ML_HW4_data_train.dat\", sep = \"\\t\", header = None)\n",
    "df_train.insert(loc=0, column=\"x0\", value=1)\n",
    "df_train.columns =['x0', 'x1', 'x2', 'x3', 'x4', 'x5', 'x6', 'x7', 'x8', 'x9', 'x10', 'sign']\n",
    "X_train = df_train.iloc[:, :-1].to_numpy()\n",
    "y_train = df_train.iloc[:, -1].to_numpy()\n",
    "print(X_train.shape)\n",
    "\n",
    "df_test = pd.read_csv(\"ML_HW4_data_test.dat\", sep = \"\\t\", header = None)\n",
    "df_test.insert(loc=0, column=\"x0\", value=1)\n",
    "X_test = df_test.iloc[:, :-1].to_numpy()\n",
    "y_test = df_test.iloc[:, -1].to_numpy()"
   ]
  },
  {
   "cell_type": "code",
   "execution_count": 26,
   "metadata": {},
   "outputs": [
    {
     "data": {
      "text/plain": [
       "<200x1001 sparse matrix of type '<class 'numpy.float32'>'\n",
       "\twith 0 stored elements in List of Lists format>"
      ]
     },
     "execution_count": 26,
     "metadata": {},
     "output_type": "execute_result"
    }
   ],
   "source": [
    "def polynomial_features(X, degree):\n",
    "    n_samples, n_features = X.shape\n",
    "    combinations = itertools.combinations_with_replacement(range(n_features), degree)\n",
    "    new_n_features = sum(1 for _ in combinations)\n",
    "    X_poly = lil_matrix((n_samples, new_n_features), dtype=np.float32)\n",
    "    \n",
    "    for i, power in enumerate(combinations):\n",
    "        X_poly[:, i] = np.prod(X[:, power], axis=1)\n",
    "\n",
    "    return X_poly\n",
    "\n",
    "new_X_train = polynomial_features(X_train, 4)\n",
    "new_X_test = polynomial_features(X_test, 4)"
   ]
  },
  {
   "cell_type": "code",
   "execution_count": null,
   "metadata": {},
   "outputs": [],
   "source": []
  }
 ],
 "metadata": {
  "kernelspec": {
   "display_name": "Python 3",
   "language": "python",
   "name": "python3"
  },
  "language_info": {
   "codemirror_mode": {
    "name": "ipython",
    "version": 3
   },
   "file_extension": ".py",
   "mimetype": "text/x-python",
   "name": "python",
   "nbconvert_exporter": "python",
   "pygments_lexer": "ipython3",
   "version": "3.9.2"
  },
  "orig_nbformat": 4
 },
 "nbformat": 4,
 "nbformat_minor": 2
}
