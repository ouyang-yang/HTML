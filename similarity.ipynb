{
 "cells": [
  {
   "cell_type": "code",
   "execution_count": 1,
   "metadata": {},
   "outputs": [],
   "source": [
    "from sklearn import linear_model\n",
    "from sklearn.preprocessing import StandardScaler\n",
    "from sklearn.model_selection import KFold\n",
    "import matplotlib.pyplot as plt\n",
    "import statsmodels.api as sm\n",
    "import seaborn as sns\n",
    "import pandas as pd\n",
    "import numpy as np\n",
    "import random"
   ]
  },
  {
   "attachments": {},
   "cell_type": "markdown",
   "metadata": {},
   "source": [
    "#### OLS_scaled"
   ]
  },
  {
   "cell_type": "code",
   "execution_count": 11,
   "metadata": {},
   "outputs": [
    {
     "name": "stdout",
     "output_type": "stream",
     "text": [
      "Index(['Danceability', 'Energy', 'Key', 'Loudness', 'Speechiness',\n",
      "       'Acousticness', 'Instrumentalness', 'Liveness', 'Valence', 'Tempo',\n",
      "       'Duration_ms', 'Views', 'Likes', 'Stream'],\n",
      "      dtype='object')\n",
      "Number of rows with at least one NaN value in train data: 12045\n",
      "Number of rows with at least one NaN value in test data: 6087\n"
     ]
    }
   ],
   "source": [
    "df_tr = pd.read_csv(\"ML_FP_train_updated_v3.csv\")\n",
    "df_tr = df_tr.drop(['Composer'], axis=1)\n",
    "df_t = pd.read_csv(\"ML_FP_test_updated_v3_com.csv\")\n",
    "df_t = df_t.drop(['Composer'], axis=1)\n",
    "\n",
    "# df_tr.shape (17170, 29)\n",
    "#  df_t.shape (6315, 14)\n",
    "print(df_tr.columns)\n",
    "count_tr = df_tr.isna().any(axis=1).sum()\n",
    "count_t = df_t.isna().any(axis=1).sum()\n",
    "print(\"Number of rows with at least one NaN value in train data:\", count_tr)\n",
    "print(\"Number of rows with at least one NaN value in test data:\", count_t)"
   ]
  },
  {
   "cell_type": "code",
   "execution_count": 16,
   "metadata": {},
   "outputs": [],
   "source": [
    "dep_var = 'Danceability'\n",
    "indep_var = ['Energy', 'Key', 'Loudness', 'Speechiness','Acousticness',\\\n",
    "     'Instrumentalness', 'Liveness', 'Valence', 'Tempo','Duration_ms', 'Views', 'Likes', 'Stream']\n",
    "y_tr = df_tr[dep_var]\n",
    "X_tr = df_tr[indep_var]\n",
    "X_t = df_t[indep_var]\n",
    "\n",
    "# Standardize the input features\n",
    "scaler = StandardScaler()\n",
    "X_tr_scaled = scaler.fit_transform(X_tr)\n",
    "X_t_scaled = scaler.transform(X_t)\n",
    "\n",
    "# Fill NaN values with scaled median\n",
    "tr_scaled_median = np.nanmedian(X_tr_scaled, axis=0)\n",
    "t_scaled_median = np.nanmedian(X_t_scaled, axis=0)\n",
    "\n",
    "# # Fill NaN values with scaled median\n",
    "# X_tr_scaled = np.nan_to_num(X_tr_scaled, nan=tr_scaled_median)\n",
    "# X_t_scaled = np.nan_to_num(X_t_scaled, nan=t_scaled_median)\n",
    "\n",
    "# Fill NaN values with 0\n",
    "X_tr_scaled = np.nan_to_num(X_tr_scaled, nan=0)\n",
    "X_t_scaled = np.nan_to_num(X_t_scaled, nan=0)\n",
    "\n",
    "X_tr_scaled = pd.DataFrame(X_tr_scaled, columns=indep_var)\n",
    "X_t_scaled = pd.DataFrame(X_t_scaled, columns=indep_var)\n",
    "\n",
    "# with statsmodels\n",
    "X_tr_scaled = sm.add_constant(X_tr_scaled) # adding a constant\n",
    "X_t_scaled = sm.add_constant(X_t_scaled)\n",
    "\n",
    "# Fit the robust OLS model\n",
    "rb_model = sm.RLM(y_tr, X_tr_scaled, M=sm.robust.norms.HuberT())\n",
    "rb_results = rb_model.fit()\n",
    "\n",
    "ols_sc_rb_t = rb_results.predict(X_t_scaled)\n",
    "ols_sc_rb_t = ols_sc_rb_t.round().astype(int)\n",
    "ols_sc_rb_t = ols_sc_rb_t.clip(0, 9)\n",
    "\n",
    "ols_sc_rb_t = pd.DataFrame({'id': df_t['id'], 'Danceability': ols_sc_rb_t})\n",
    "ols_sc_rb_t.to_csv('ols_sc_rb_submission.csv', index=False)"
   ]
  },
  {
   "cell_type": "code",
   "execution_count": 17,
   "metadata": {},
   "outputs": [
    {
     "name": "stdout",
     "output_type": "stream",
     "text": [
      "Estimated Ein (Cross-Validation): 0.8551543389633081\n"
     ]
    }
   ],
   "source": [
    "# Perform cross-validation to estimate Ein\n",
    "cv = KFold(n_splits=5, shuffle=True)\n",
    "eins = []\n",
    "for train_index, val_index in cv.split(X_tr_scaled):\n",
    "    X_train, X_val = X_tr_scaled.iloc[train_index], X_tr_scaled.iloc[val_index]\n",
    "    y_train, y_val = y_tr.iloc[train_index], y_tr.iloc[val_index]\n",
    "\n",
    "    rb_model = sm.RLM(y_train, X_train, M=sm.robust.norms.HuberT())\n",
    "    rb_results = rb_model.fit()\n",
    "\n",
    "    predictions = rb_results.predict(X_val)\n",
    "    predictions = predictions.round().astype(int)\n",
    "    predictions = predictions.clip(0, 9)\n",
    "    \n",
    "    ein = (predictions != y_val).mean()\n",
    "    eins.append(ein)\n",
    "\n",
    "mean_ein = np.mean(eins)\n",
    "\n",
    "print(\"Estimated Ein (Cross-Validation):\", mean_ein)"
   ]
  },
  {
   "cell_type": "code",
   "execution_count": 18,
   "metadata": {},
   "outputs": [
    {
     "data": {
      "image/png": "[encoded data removed]",
      "text/plain": [
       "<Figure size 720x360 with 1 Axes>"
      ]
     },
     "metadata": {
      "needs_background": "light"
     },
     "output_type": "display_data"
    }
   ],
   "source": [
    "ols_sc_rb_t[\"Danceability\"] = ols_sc_rb_t[\"Danceability\"].astype(\"category\")\n",
    "# Target Variable Countplot\n",
    "plt.figure(figsize = (10, 5))\n",
    "sns.countplot(data=ols_sc_rb_t, x=\"Danceability\", alpha = .70, palette = \"BuPu\")\n",
    "plt.title(\"Levels of Danceability\")\n",
    "plt.ylabel(\"Number of Songs\")\n",
    "plt.show()"
   ]
  },
  {
   "cell_type": "code",
   "execution_count": null,
   "metadata": {},
   "outputs": [],
   "source": []
  },
  {
   "attachments": {},
   "cell_type": "markdown",
   "metadata": {},
   "source": [
    "### Similarity Test"
   ]
  },
  {
   "cell_type": "code",
   "execution_count": 15,
   "metadata": {},
   "outputs": [
    {
     "name": "stdout",
     "output_type": "stream",
     "text": [
      "The similarity between the two CSV files is 23.38505%\n"
     ]
    }
   ],
   "source": [
    "# Read the CSV files\n",
    "df1 = pd.read_csv('output0511_0408.csv')\n",
    "df2 = pd.read_csv('ols_sc_rb_submission.csv')\n",
    "\n",
    "# Get the 'Danceability' values from both DataFrames\n",
    "danceability1 = set(df1['Danceability'])\n",
    "danceability2 = set(df2['Danceability'])\n",
    "\n",
    "count = sum(df1['Danceability'] == df2['Danceability'])\n",
    "result = (count/6316) * 100\n",
    "\n",
    "print(f\"The similarity between the two CSV files is {result:.5f}%\")\n"
   ]
  },
  {
   "cell_type": "code",
   "execution_count": 16,
   "metadata": {},
   "outputs": [
    {
     "data": {
      "image/png": "[encoded data removed]",
      "text/plain": [
       "<Figure size 720x360 with 1 Axes>"
      ]
     },
     "metadata": {
      "needs_background": "light"
     },
     "output_type": "display_data"
    }
   ],
   "source": [
    "temp_best = pd.read_csv('output0511_0408.csv')\n",
    "temp_best[\"Danceability\"] = temp_best[\"Danceability\"].astype(\"category\")\n",
    "# Target Variable Countplot\n",
    "plt.figure(figsize = (10, 5))\n",
    "sns.countplot(data=temp_best, x=\"Danceability\", alpha = .70, palette = \"BuPu\")\n",
    "plt.title(\"Levels of Danceability\")\n",
    "plt.ylabel(\"Number of Songs\")\n",
    "plt.show()"
   ]
  },
  {
   "cell_type": "code",
   "execution_count": null,
   "metadata": {},
   "outputs": [],
   "source": []
  }
 ],
 "metadata": {
  "kernelspec": {
   "display_name": "Python 3",
   "language": "python",
   "name": "python3"
  },
  "language_info": {
   "codemirror_mode": {
    "name": "ipython",
    "version": 3
   },
   "file_extension": ".py",
   "mimetype": "text/x-python",
   "name": "python",
   "nbconvert_exporter": "python",
   "pygments_lexer": "ipython3",
   "version": "3.9.2"
  },
  "orig_nbformat": 4
 },
 "nbformat": 4,
 "nbformat_minor": 2
}
