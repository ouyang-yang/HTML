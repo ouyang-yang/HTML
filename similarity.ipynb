{
 "cells": [
  {
   "cell_type": "code",
   "execution_count": 18,
   "metadata": {},
   "outputs": [
    {
     "name": "stdout",
     "output_type": "stream",
     "text": [
      "The similarity between the two CSV files is 91.79861%\n"
     ]
    }
   ],
   "source": [
    "import pandas as pd\n",
    "\n",
    "# Read the CSV files\n",
    "df1 = pd.read_csv('ols_all_submission.csv')\n",
    "df2 = pd.read_csv('ols_scaled_robust_submission.csv')\n",
    "\n",
    "# Get the 'Danceability' values from both DataFrames\n",
    "danceability1 = set(df1['Danceability'])\n",
    "danceability2 = set(df2['Danceability'])\n",
    "\n",
    "count = sum(df1['Danceability'] == df2['Danceability'])\n",
    "result = (count/6316) * 100\n",
    "\n",
    "print(f\"The similarity between the two CSV files is {result:.5f}%\")\n"
   ]
  },
  {
   "cell_type": "code",
   "execution_count": null,
   "metadata": {},
   "outputs": [],
   "source": []
  }
 ],
 "metadata": {
  "kernelspec": {
   "display_name": "Python 3",
   "language": "python",
   "name": "python3"
  },
  "language_info": {
   "codemirror_mode": {
    "name": "ipython",
    "version": 3
   },
   "file_extension": ".py",
   "mimetype": "text/x-python",
   "name": "python",
   "nbconvert_exporter": "python",
   "pygments_lexer": "ipython3",
   "version": "3.9.2"
  },
  "orig_nbformat": 4
 },
 "nbformat": 4,
 "nbformat_minor": 2
}
