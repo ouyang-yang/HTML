{
 "cells": [
  {
   "cell_type": "code",
   "execution_count": 3,
   "metadata": {},
   "outputs": [],
   "source": [
    "from sklearn import linear_model\n",
    "from sklearn.preprocessing import StandardScaler\n",
    "import matplotlib.pyplot as plt\n",
    "import statsmodels.api as sm\n",
    "import seaborn as sns\n",
    "import pandas as pd\n",
    "import numpy as np\n",
    "import itertools\n",
    "import random\n",
    "import math\n",
    "import sys"
   ]
  },
  {
   "attachments": {},
   "cell_type": "markdown",
   "metadata": {},
   "source": [
    "#### OLS_all"
   ]
  },
  {
   "cell_type": "code",
   "execution_count": 4,
   "metadata": {},
   "outputs": [
    {
     "name": "stdout",
     "output_type": "stream",
     "text": [
      "Index(['Danceability', 'Energy', 'Key', 'Loudness', 'Speechiness',\n",
      "       'Acousticness', 'Instrumentalness', 'Liveness', 'Valence', 'Tempo',\n",
      "       'Duration_ms', 'Views', 'Likes', 'Stream', 'id'],\n",
      "      dtype='object')\n"
     ]
    }
   ],
   "source": [
    "df_tr = pd.read_csv(\"ML_FP_train.csv\")\n",
    "df_tr = df_tr.drop(['Album_type', 'Licensed', 'official_video', 'Track', 'Album', \\\n",
    "    'Uri', 'Url_spotify', 'Url_youtube', 'Comments', 'Description', 'Title', \\\n",
    "    'Channel', 'Composer', 'Artist'], axis=1)\n",
    "df_t = pd.read_csv(\"ML_FP_test.csv\")\n",
    "df_t = df_t.drop(['Album_type', 'Licensed', 'official_video', 'Track', 'Album', \\\n",
    "    'Uri', 'Url_spotify', 'Url_youtube', 'Comments', 'Description', 'Title', \\\n",
    "    'Channel', 'Composer', 'Artist'], axis=1)\n",
    "\n",
    "# df_tr.shape (17170, 29)\n",
    "# random_rows = df_tr.sample(n=10)\n",
    "# print(random_rows)\n",
    "print(df_tr.columns)\n",
    "\n",
    "df_tr = df_tr.fillna(df_tr.median()) #處理缺失值\n",
    "df_tr = df_tr.astype({\"Danceability\":\"int\", \"Views\":\"int\", \"Likes\":\"int\", \"Stream\":\"int\"})\n",
    "df_t = df_t.fillna(df_t.median()) #處理缺失值\n",
    "df_t = df_t.astype({\"Views\":\"int\", \"Likes\":\"int\", \"Stream\":\"int\"})"
   ]
  },
  {
   "cell_type": "code",
   "execution_count": 5,
   "metadata": {},
   "outputs": [
    {
     "name": "stdout",
     "output_type": "stream",
     "text": [
      "                            OLS Regression Results                            \n",
      "==============================================================================\n",
      "Dep. Variable:           Danceability   R-squared:                       0.286\n",
      "Model:                            OLS   Adj. R-squared:                  0.285\n",
      "Method:                 Least Squares   F-statistic:                     527.7\n",
      "Date:                Thu, 18 May 2023   Prob (F-statistic):               0.00\n",
      "Time:                        20:15:31   Log-Likelihood:                -39512.\n",
      "No. Observations:               17170   AIC:                         7.905e+04\n",
      "Df Residuals:                   17156   BIC:                         7.916e+04\n",
      "Df Model:                          13                                         \n",
      "Covariance Type:            nonrobust                                         \n",
      "====================================================================================\n",
      "                       coef    std err          t      P>|t|      [0.025      0.975]\n",
      "------------------------------------------------------------------------------------\n",
      "const                5.4988      0.126     43.796      0.000       5.253       5.745\n",
      "Energy              -2.0240      0.098    -20.587      0.000      -2.217      -1.831\n",
      "Key                  0.0112      0.006      1.929      0.054      -0.000       0.023\n",
      "Loudness             0.0848      0.006     13.895      0.000       0.073       0.097\n",
      "Speechiness          5.0897      0.193     26.307      0.000       4.710       5.469\n",
      "Acousticness        -2.4266      0.110    -22.125      0.000      -2.642      -2.212\n",
      "Instrumentalness    -0.3509      0.123     -2.862      0.004      -0.591      -0.111\n",
      "Liveness            -2.0233      0.174    -11.596      0.000      -2.365      -1.681\n",
      "Valence              4.4632      0.087     51.202      0.000       4.292       4.634\n",
      "Tempo               -0.0154      0.001    -22.612      0.000      -0.017      -0.014\n",
      "Duration_ms      -1.778e-06   1.66e-07    -10.735      0.000    -2.1e-06   -1.45e-06\n",
      "Views             2.236e-10   9.71e-11      2.302      0.021    3.32e-11    4.14e-10\n",
      "Likes             9.112e-08   1.34e-08      6.777      0.000    6.48e-08    1.17e-07\n",
      "Stream            2.438e-10   9.46e-11      2.576      0.010    5.83e-11    4.29e-10\n",
      "==============================================================================\n",
      "Omnibus:                      891.306   Durbin-Watson:                   1.434\n",
      "Prob(Omnibus):                  0.000   Jarque-Bera (JB):              356.889\n",
      "Skew:                          -0.066   Prob(JB):                     3.18e-78\n",
      "Kurtosis:                       2.306   Cond. No.                     2.98e+09\n",
      "==============================================================================\n",
      "\n",
      "Notes:\n",
      "[1] Standard Errors assume that the covariance matrix of the errors is correctly specified.\n",
      "[2] The condition number is large, 2.98e+09. This might indicate that there are\n",
      "strong multicollinearity or other numerical problems.\n"
     ]
    }
   ],
   "source": [
    "# df_tr = df_tr.fillna(0) #處理缺失值\n",
    "# df_tr = df_tr.astype({\"Danceability\":\"int\", \"Views\":\"int\", \"Likes\":\"int\", \"Stream\":\"int\"})\n",
    "# df_t = df_t.fillna(0) #處理缺失值\n",
    "# df_t = df_t.astype({\"Views\":\"int\", \"Likes\":\"int\", \"Stream\":\"int\"})\n",
    "\n",
    "dep_var = 'Danceability'\n",
    "indep_var = ['Energy', 'Key', 'Loudness', 'Speechiness','Acousticness',\\\n",
    "     'Instrumentalness', 'Liveness', 'Valence', 'Tempo','Duration_ms', 'Views', 'Likes', 'Stream']\n",
    "\n",
    "y_tr = df_tr[dep_var]\n",
    "X_tr = df_tr[indep_var]\n",
    "X_t = df_t[indep_var]\n",
    "\n",
    "# Standardize the input features\n",
    "scaler = StandardScaler()\n",
    "X_tr_scaled = scaler.fit_transform(X_tr)\n",
    "X_t_scaled = scaler.transform(X_t)\n",
    "\n",
    "# with statsmodels\n",
    "X_tr = sm.add_constant(X_tr) # adding a constant\n",
    "X_t = sm.add_constant(X_t)\n",
    "X_tr_scaled = sm.add_constant(X_tr_scaled) # adding a constant\n",
    "X_t_scaled = sm.add_constant(X_t_scaled)\n",
    "\n",
    "ols_model = sm.OLS(y_tr, X_tr).fit()\n",
    "ols_std_model = sm.OLS(y_tr, X_tr_scaled).fit()\n",
    "\n",
    "ols_predictions_t = ols_model.predict(X_t) \n",
    "# Round the predicted values to the nearest integer and convert to integers\n",
    "ols_predictions_t = ols_predictions_t.round().astype(int)\n",
    "# Map the predicted values to the range {0, 1, 2, 3, 4, 5, 6, 7, 8, 9}\n",
    "ols_predictions_t = ols_predictions_t.clip(0, 9)\n",
    "\n",
    "print_ols_model = ols_model.summary()\n",
    "print(print_ols_model)\n",
    "\n",
    "ols_predictions_df = pd.DataFrame({'id': df_t['id'], 'Danceability': ols_predictions_t})\n",
    "ols_predictions_df.to_csv('ols_all_submission.csv', index=False)"
   ]
  },
  {
   "cell_type": "code",
   "execution_count": 20,
   "metadata": {},
   "outputs": [
    {
     "name": "stdout",
     "output_type": "stream",
     "text": [
      "                            OLS Regression Results                            \n",
      "==============================================================================\n",
      "Dep. Variable:           Danceability   R-squared:                       0.286\n",
      "Model:                            OLS   Adj. R-squared:                  0.285\n",
      "Method:                 Least Squares   F-statistic:                     527.7\n",
      "Date:                Thu, 18 May 2023   Prob (F-statistic):               0.00\n",
      "Time:                        19:01:38   Log-Likelihood:                -39512.\n",
      "No. Observations:               17170   AIC:                         7.905e+04\n",
      "Df Residuals:                   17156   BIC:                         7.916e+04\n",
      "Df Model:                          13                                         \n",
      "Covariance Type:            nonrobust                                         \n",
      "==============================================================================\n",
      "                 coef    std err          t      P>|t|      [0.025      0.975]\n",
      "------------------------------------------------------------------------------\n",
      "const          4.5860      0.018    248.590      0.000       4.550       4.622\n",
      "x1            -0.4541      0.022    -20.587      0.000      -0.497      -0.411\n",
      "x2             0.0356      0.018      1.929      0.054      -0.001       0.072\n",
      "x3             0.3567      0.026     13.895      0.000       0.306       0.407\n",
      "x4             0.4911      0.019     26.307      0.000       0.454       0.528\n",
      "x5            -0.5043      0.023    -22.125      0.000      -0.549      -0.460\n",
      "x6            -0.0622      0.022     -2.862      0.004      -0.105      -0.020\n",
      "x7            -0.2158      0.019    -11.596      0.000      -0.252      -0.179\n",
      "x8             1.0078      0.020     51.202      0.000       0.969       1.046\n",
      "x9            -0.4225      0.019    -22.612      0.000      -0.459      -0.386\n",
      "x10           -0.1986      0.019    -10.735      0.000      -0.235      -0.162\n",
      "x11            0.0468      0.020      2.302      0.021       0.007       0.087\n",
      "x12            0.1460      0.022      6.777      0.000       0.104       0.188\n",
      "x13            0.0545      0.021      2.576      0.010       0.013       0.096\n",
      "==============================================================================\n",
      "Omnibus:                      891.306   Durbin-Watson:                   1.434\n",
      "Prob(Omnibus):                  0.000   Jarque-Bera (JB):              356.889\n",
      "Skew:                          -0.066   Prob(JB):                     3.18e-78\n",
      "Kurtosis:                       2.306   Cond. No.                         2.62\n",
      "==============================================================================\n",
      "\n",
      "Notes:\n",
      "[1] Standard Errors assume that the covariance matrix of the errors is correctly specified.\n"
     ]
    }
   ],
   "source": [
    "# Fit the robust OLS model\n",
    "robust_model = sm.RLM(y_tr, X_tr_scaled, M=sm.robust.norms.HuberT())\n",
    "robust_results = robust_model.fit()\n",
    "\n",
    "ols_scaled_t = robust_results.predict(X_t_scaled)\n",
    "# Round the predicted values to the nearest integer and convert to integers\n",
    "ols_scaled_t = ols_scaled_t.round().astype(int)\n",
    "# Map the predicted values to the range {0, 1, 2, 3, 4, 5, 6, 7, 8, 9}\n",
    "ols_scaled_t = ols_scaled_t.clip(0, 9)\n",
    "\n",
    "print_ols_std_model = ols_std_model.summary()\n",
    "print(print_ols_std_model)\n",
    "\n",
    "ols_scaled_df = pd.DataFrame({'id': df_t['id'], 'Danceability': ols_scaled_t})\n",
    "ols_scaled_df.to_csv('ols_scaled_robust_submission.csv', index=False)"
   ]
  },
  {
   "cell_type": "code",
   "execution_count": 21,
   "metadata": {},
   "outputs": [
    {
     "data": {
      "image/png": "[encoded data removed]",
      "text/plain": [
       "<Figure size 720x360 with 1 Axes>"
      ]
     },
     "metadata": {
      "needs_background": "light"
     },
     "output_type": "display_data"
    }
   ],
   "source": [
    "ols_predictions_df[\"Danceability\"] = ols_predictions_df[\"Danceability\"].astype(\"category\")\n",
    "# Target Variable Countplot\n",
    "plt.figure(figsize = (10, 5))\n",
    "sns.countplot(data=ols_predictions_df, x=\"Danceability\", alpha = .70, palette = \"BuPu\")\n",
    "plt.title(\"Levels of Danceability\")\n",
    "plt.ylabel(\"Number of Songs\")\n",
    "plt.show()\n",
    "\n",
    "ols_predictions_df[\"Danceability\"] = ols_predictions_df[\"Danceability\"].astype(\"int\")"
   ]
  },
  {
   "cell_type": "code",
   "execution_count": 19,
   "metadata": {},
   "outputs": [
    {
     "data": {
      "image/png": "[encoded data removed]",
      "text/plain": [
       "<Figure size 720x360 with 1 Axes>"
      ]
     },
     "metadata": {
      "needs_background": "light"
     },
     "output_type": "display_data"
    }
   ],
   "source": [
    "ols_scaled_df[\"Danceability\"] = ols_scaled_df[\"Danceability\"].astype(\"category\")\n",
    "# Target Variable Countplot\n",
    "plt.figure(figsize = (10, 5))\n",
    "sns.countplot(data=ols_scaled_df, x=\"Danceability\", alpha = .70, palette = \"BuPu\")\n",
    "plt.title(\"Levels of Danceability\")\n",
    "plt.ylabel(\"Number of Songs\")\n",
    "plt.show()"
   ]
  },
  {
   "attachments": {},
   "cell_type": "markdown",
   "metadata": {},
   "source": [
    "###### Score: 2.10547 (fillna = median)"
   ]
  },
  {
   "cell_type": "code",
   "execution_count": 11,
   "metadata": {},
   "outputs": [
    {
     "name": "stdout",
     "output_type": "stream",
     "text": [
      "Optimization terminated successfully.\n",
      "         Current function value: 2.103471\n",
      "         Iterations 9\n",
      "                          MNLogit Regression Results                          \n",
      "==============================================================================\n",
      "Dep. Variable:           Danceability   No. Observations:                17170\n",
      "Model:                        MNLogit   Df Residuals:                    17044\n",
      "Method:                           MLE   Df Model:                          117\n",
      "Date:                Thu, 18 May 2023   Pseudo R-squ.:                 0.08597\n",
      "Time:                        18:34:05   Log-Likelihood:                -36117.\n",
      "converged:                       True   LL-Null:                       -39513.\n",
      "Covariance Type:            nonrobust   LLR p-value:                     0.000\n",
      "====================================================================================\n",
      "  Danceability=1       coef    std err          z      P>|z|      [0.025      0.975]\n",
      "------------------------------------------------------------------------------------\n",
      "const               -0.1563      0.232     -0.673      0.501      -0.612       0.299\n",
      "Energy              -0.0432      0.182     -0.238      0.812      -0.399       0.313\n",
      "Key                  0.0096      0.012      0.836      0.403      -0.013       0.032\n",
      "Loudness             0.0394      0.009      4.334      0.000       0.022       0.057\n",
      "Speechiness          2.7898      0.663      4.206      0.000       1.490       4.090\n",
      "Acousticness        -0.2850      0.160     -1.779      0.075      -0.599       0.029\n",
      "Instrumentalness    -0.8427      0.169     -4.981      0.000      -1.174      -0.511\n",
      "Liveness            -0.9312      0.270     -3.455      0.001      -1.459      -0.403\n",
      "Valence              2.2328      0.190     11.750      0.000       1.860       2.605\n",
      "Tempo               -0.0013      0.001     -0.982      0.326      -0.004       0.001\n",
      "Duration_ms      -7.172e-07   3.04e-07     -2.363      0.018   -1.31e-06   -1.22e-07\n",
      "Views            -5.837e-11   2.79e-10     -0.209      0.834   -6.05e-10    4.88e-10\n",
      "Likes             1.311e-08   4.29e-08      0.306      0.760    -7.1e-08    9.72e-08\n",
      "Stream            2.833e-11   2.32e-10      0.122      0.903   -4.25e-10    4.82e-10\n",
      "------------------------------------------------------------------------------------\n",
      "  Danceability=2       coef    std err          z      P>|z|      [0.025      0.975]\n",
      "------------------------------------------------------------------------------------\n",
      "const                0.3130      0.232      1.349      0.177      -0.142       0.768\n",
      "Energy              -0.3072      0.188     -1.637      0.102      -0.675       0.061\n",
      "Key                  0.0071      0.012      0.610      0.542      -0.016       0.030\n",
      "Loudness             0.0593      0.011      5.593      0.000       0.039       0.080\n",
      "Speechiness          2.7574      0.665      4.146      0.000       1.454       4.061\n",
      "Acousticness        -0.8809      0.176     -5.008      0.000      -1.226      -0.536\n",
      "Instrumentalness    -1.1879      0.198     -5.993      0.000      -1.576      -0.799\n",
      "Liveness            -1.0787      0.273     -3.952      0.000      -1.614      -0.544\n",
      "Valence              2.9650      0.192     15.403      0.000       2.588       3.342\n",
      "Tempo               -0.0055      0.001     -4.133      0.000      -0.008      -0.003\n",
      "Duration_ms      -1.682e-07   1.69e-07     -0.997      0.319   -4.99e-07    1.62e-07\n",
      "Views            -1.484e-10   2.86e-10     -0.518      0.604   -7.09e-10    4.13e-10\n",
      "Likes            -2.547e-08   4.54e-08     -0.560      0.575   -1.15e-07    6.36e-08\n",
      "Stream            2.602e-11   2.36e-10      0.110      0.912   -4.37e-10    4.89e-10\n",
      "------------------------------------------------------------------------------------\n",
      "  Danceability=3       coef    std err          z      P>|z|      [0.025      0.975]\n",
      "------------------------------------------------------------------------------------\n",
      "const                0.6093      0.257      2.368      0.018       0.105       1.114\n",
      "Energy              -0.9506      0.197     -4.836      0.000      -1.336      -0.565\n",
      "Key                  0.0166      0.012      1.404      0.160      -0.007       0.040\n",
      "Loudness             0.0694      0.011      6.038      0.000       0.047       0.092\n",
      "Speechiness          4.4571      0.640      6.963      0.000       3.203       5.712\n",
      "Acousticness        -1.1930      0.188     -6.361      0.000      -1.561      -0.825\n",
      "Instrumentalness    -1.4026      0.229     -6.130      0.000      -1.851      -0.954\n",
      "Liveness            -1.0042      0.273     -3.676      0.000      -1.540      -0.469\n",
      "Valence              4.2347      0.196     21.572      0.000       3.850       4.619\n",
      "Tempo               -0.0095      0.001     -6.946      0.000      -0.012      -0.007\n",
      "Duration_ms      -1.649e-06   4.38e-07     -3.765      0.000   -2.51e-06    -7.9e-07\n",
      "Views             1.671e-10   2.66e-10      0.628      0.530   -3.54e-10    6.88e-10\n",
      "Likes             6.357e-08   4.02e-08      1.583      0.113   -1.51e-08    1.42e-07\n",
      "Stream            1.231e-10   2.24e-10      0.550      0.583   -3.16e-10    5.62e-10\n",
      "------------------------------------------------------------------------------------\n",
      "  Danceability=4       coef    std err          z      P>|z|      [0.025      0.975]\n",
      "------------------------------------------------------------------------------------\n",
      "const                1.1384      0.269      4.237      0.000       0.612       1.665\n",
      "Energy              -1.2264      0.201     -6.093      0.000      -1.621      -0.832\n",
      "Key                  0.0232      0.012      1.937      0.053      -0.000       0.047\n",
      "Loudness             0.0849      0.012      7.019      0.000       0.061       0.109\n",
      "Speechiness          4.3292      0.648      6.684      0.000       3.060       5.599\n",
      "Acousticness        -1.5401      0.198     -7.778      0.000      -1.928      -1.152\n",
      "Instrumentalness    -1.1983      0.231     -5.181      0.000      -1.652      -0.745\n",
      "Liveness            -1.4937      0.301     -4.958      0.000      -2.084      -0.903\n",
      "Valence              4.8917      0.199     24.542      0.000       4.501       5.282\n",
      "Tempo               -0.0120      0.001     -8.581      0.000      -0.015      -0.009\n",
      "Duration_ms      -3.387e-06   5.11e-07     -6.634      0.000   -4.39e-06   -2.39e-06\n",
      "Views             4.187e-11   2.65e-10      0.158      0.874   -4.77e-10     5.6e-10\n",
      "Likes             4.979e-08   4.08e-08      1.220      0.222   -3.02e-08     1.3e-07\n",
      "Stream            3.636e-10   2.26e-10      1.610      0.107   -7.89e-11    8.06e-10\n",
      "------------------------------------------------------------------------------------\n",
      "  Danceability=5       coef    std err          z      P>|z|      [0.025      0.975]\n",
      "------------------------------------------------------------------------------------\n",
      "const                1.2898      0.268      4.821      0.000       0.765       1.814\n",
      "Energy              -1.2083      0.200     -6.041      0.000      -1.600      -0.816\n",
      "Key                  0.0113      0.012      0.948      0.343      -0.012       0.035\n",
      "Loudness             0.0782      0.012      6.481      0.000       0.055       0.102\n",
      "Speechiness          4.7132      0.640      7.361      0.000       3.458       5.968\n",
      "Acousticness        -2.0263      0.207     -9.773      0.000      -2.433      -1.620\n",
      "Instrumentalness    -1.1004      0.228     -4.819      0.000      -1.548      -0.653\n",
      "Liveness            -1.5117      0.300     -5.042      0.000      -2.099      -0.924\n",
      "Valence              5.0361      0.199     25.352      0.000       4.647       5.425\n",
      "Tempo               -0.0134      0.001     -9.601      0.000      -0.016      -0.011\n",
      "Duration_ms      -3.452e-06   5.06e-07     -6.821      0.000   -4.44e-06   -2.46e-06\n",
      "Views            -4.346e-11   2.61e-10     -0.167      0.868   -5.54e-10    4.67e-10\n",
      "Likes              4.57e-08   4.06e-08      1.126      0.260   -3.38e-08    1.25e-07\n",
      "Stream            4.918e-10   2.24e-10      2.195      0.028    5.27e-11    9.31e-10\n",
      "------------------------------------------------------------------------------------\n",
      "  Danceability=6       coef    std err          z      P>|z|      [0.025      0.975]\n",
      "------------------------------------------------------------------------------------\n",
      "const                1.9146      0.271      7.064      0.000       1.383       2.446\n",
      "Energy              -1.8105      0.204     -8.869      0.000      -2.211      -1.410\n",
      "Key                  0.0012      0.012      0.104      0.917      -0.022       0.025\n",
      "Loudness             0.1242      0.013      9.465      0.000       0.098       0.150\n",
      "Speechiness          5.6038      0.631      8.885      0.000       4.368       6.840\n",
      "Acousticness        -2.3169      0.220    -10.547      0.000      -2.748      -1.886\n",
      "Instrumentalness    -1.3728      0.262     -5.239      0.000      -1.886      -0.859\n",
      "Liveness            -2.3144      0.342     -6.763      0.000      -2.985      -1.644\n",
      "Valence              6.1475      0.201     30.647      0.000       5.754       6.541\n",
      "Tempo               -0.0173      0.001    -12.293      0.000      -0.020      -0.015\n",
      "Duration_ms      -4.285e-06   5.23e-07     -8.191      0.000   -5.31e-06   -3.26e-06\n",
      "Views             2.239e-10   2.57e-10      0.872      0.383   -2.79e-10    7.27e-10\n",
      "Likes             9.232e-08   3.87e-08      2.384      0.017    1.64e-08    1.68e-07\n",
      "Stream            3.051e-10   2.18e-10      1.397      0.162   -1.23e-10    7.33e-10\n",
      "------------------------------------------------------------------------------------\n",
      "  Danceability=7       coef    std err          z      P>|z|      [0.025      0.975]\n",
      "------------------------------------------------------------------------------------\n",
      "const                1.3634      0.274      4.973      0.000       0.826       1.901\n",
      "Energy              -2.1209      0.208    -10.197      0.000      -2.529      -1.713\n",
      "Key                  0.0136      0.012      1.135      0.256      -0.010       0.037\n",
      "Loudness             0.1438      0.014     10.445      0.000       0.117       0.171\n",
      "Speechiness          6.3201      0.627     10.080      0.000       5.091       7.549\n",
      "Acousticness        -2.7600      0.240    -11.494      0.000      -3.231      -2.289\n",
      "Instrumentalness    -1.1709      0.267     -4.393      0.000      -1.693      -0.648\n",
      "Liveness            -2.5996      0.367     -7.092      0.000      -3.318      -1.881\n",
      "Valence              6.7800      0.204     33.230      0.000       6.380       7.180\n",
      "Tempo               -0.0165      0.001    -11.647      0.000      -0.019      -0.014\n",
      "Duration_ms      -3.494e-06   5.11e-07     -6.833      0.000    -4.5e-06   -2.49e-06\n",
      "Views             1.163e-10   2.48e-10      0.469      0.639   -3.69e-10    6.02e-10\n",
      "Likes             1.418e-07   3.72e-08      3.808      0.000    6.88e-08    2.15e-07\n",
      "Stream            3.027e-10   2.15e-10      1.406      0.160   -1.19e-10    7.25e-10\n",
      "------------------------------------------------------------------------------------\n",
      "  Danceability=8       coef    std err          z      P>|z|      [0.025      0.975]\n",
      "------------------------------------------------------------------------------------\n",
      "const                2.1489      0.279      7.694      0.000       1.601       2.696\n",
      "Energy              -2.6013      0.212    -12.253      0.000      -3.017      -2.185\n",
      "Key                  0.0290      0.012      2.396      0.017       0.005       0.053\n",
      "Loudness             0.1633      0.014     11.527      0.000       0.136       0.191\n",
      "Speechiness          7.4327      0.620     11.983      0.000       6.217       8.648\n",
      "Acousticness        -3.8189      0.275    -13.880      0.000      -4.358      -3.280\n",
      "Instrumentalness    -1.0328      0.270     -3.832      0.000      -1.561      -0.505\n",
      "Liveness            -3.7657      0.459     -8.208      0.000      -4.665      -2.866\n",
      "Valence              7.2642      0.207     35.151      0.000       6.859       7.669\n",
      "Tempo               -0.0219      0.001    -15.149      0.000      -0.025      -0.019\n",
      "Duration_ms      -4.643e-06   5.41e-07     -8.581      0.000    -5.7e-06   -3.58e-06\n",
      "Views             4.953e-10   2.62e-10      1.889      0.059   -1.85e-11    1.01e-09\n",
      "Likes             9.276e-08   3.93e-08      2.359      0.018    1.57e-08     1.7e-07\n",
      "Stream            2.731e-10   2.19e-10      1.250      0.211   -1.55e-10    7.01e-10\n",
      "------------------------------------------------------------------------------------\n",
      "  Danceability=9       coef    std err          z      P>|z|      [0.025      0.975]\n",
      "------------------------------------------------------------------------------------\n",
      "const                3.2327      0.296     10.933      0.000       2.653       3.812\n",
      "Energy              -4.1716      0.235    -17.765      0.000      -4.632      -3.711\n",
      "Key                  0.0210      0.013      1.675      0.094      -0.004       0.046\n",
      "Loudness             0.2073      0.015     13.432      0.000       0.177       0.238\n",
      "Speechiness          9.5434      0.615     15.520      0.000       8.338      10.749\n",
      "Acousticness        -5.5941      0.355    -15.758      0.000      -6.290      -4.898\n",
      "Instrumentalness    -0.9689      0.302     -3.212      0.001      -1.560      -0.378\n",
      "Liveness            -3.7242      0.495     -7.521      0.000      -4.695      -2.754\n",
      "Valence              7.5090      0.215     34.858      0.000       7.087       7.931\n",
      "Tempo               -0.0246      0.002    -16.327      0.000      -0.028      -0.022\n",
      "Duration_ms      -6.594e-06   6.09e-07    -10.822      0.000   -7.79e-06    -5.4e-06\n",
      "Views             1.597e-10   2.53e-10      0.631      0.528   -3.37e-10    6.56e-10\n",
      "Likes              1.47e-07   3.77e-08      3.897      0.000    7.31e-08    2.21e-07\n",
      "Stream            2.165e-10    2.2e-10      0.986      0.324   -2.14e-10    6.47e-10\n",
      "====================================================================================\n"
     ]
    }
   ],
   "source": [
    "dep_var = 'Danceability'\n",
    "indep_var = ['Energy', 'Key', 'Loudness', 'Speechiness', 'Acousticness',\n",
    "             'Instrumentalness', 'Liveness', 'Valence', 'Tempo', 'Duration_ms', 'Views', 'Likes', 'Stream']\n",
    "\n",
    "y_tr = df_tr[dep_var]\n",
    "X_tr = df_tr[indep_var]\n",
    "X_t = df_t[indep_var]\n",
    "\n",
    "# Convert 'Danceability' to categorical classes\n",
    "y_tr_categorical = y_tr.round().astype(int)\n",
    "y_tr_categorical = y_tr_categorical.clip(0, 9)\n",
    "\n",
    "# with statsmodels using multinomial logistic regression\n",
    "X_tr = sm.add_constant(X_tr)  # adding a constant\n",
    "X_t = sm.add_constant(X_t)\n",
    "mlogit_model = sm.MNLogit(y_tr_categorical, X_tr).fit()\n",
    "\n",
    "mlogit_predictions_t = mlogit_model.predict(X_t)\n",
    "# Convert the predicted probabilities to class labels\n",
    "mlogit_predictions_t = mlogit_predictions_t.idxmax(axis=1)\n",
    "\n",
    "mlogit_predictions_df = pd.DataFrame({'id': df_t['id'], 'Danceability': mlogit_predictions_t})\n",
    "mlogit_predictions_df.to_csv('mlogit_all_submission.csv', index=False)\n",
    "\n",
    "print_mlogit_model = mlogit_model.summary()\n",
    "print(print_mlogit_model)"
   ]
  },
  {
   "cell_type": "code",
   "execution_count": 12,
   "metadata": {},
   "outputs": [
    {
     "data": {
      "image/png": "[encoded data removed]",
      "text/plain": [
       "<Figure size 720x360 with 1 Axes>"
      ]
     },
     "metadata": {
      "needs_background": "light"
     },
     "output_type": "display_data"
    }
   ],
   "source": [
    "# Target Variable Countplot\n",
    "plt.figure(figsize = (10, 5))\n",
    "sns.countplot(data=mlogit_predictions_df, x=\"Danceability\", alpha = .70, palette = \"BuPu\")\n",
    "plt.title(\"Levels of Danceability\")\n",
    "plt.ylabel(\"Number of Songs\")\n",
    "plt.show()\n",
    "\n",
    "mlogit_predictions_df[\"Danceability\"] = mlogit_predictions_df[\"Danceability\"].astype(\"int\")"
   ]
  },
  {
   "attachments": {},
   "cell_type": "markdown",
   "metadata": {},
   "source": [
    "#### OLS_Ridge"
   ]
  },
  {
   "cell_type": "code",
   "execution_count": 8,
   "metadata": {},
   "outputs": [
    {
     "name": "stdout",
     "output_type": "stream",
     "text": [
      "Ridge Regression Model (alpha=0.5)\n",
      "Coefficient of determination (R-squared): 0.2856\n",
      "Intercept: 4.5860\n",
      "Coefficients:\n",
      "- const: 0.0000\n",
      "- Energy: -0.4541\n",
      "- Key: 0.0356\n",
      "- Loudness: 0.3567\n",
      "- Speechiness: 0.4911\n",
      "- Acousticness: -0.5043\n",
      "- Instrumentalness: -0.0623\n",
      "- Liveness: -0.2158\n",
      "- Valence: 1.0078\n",
      "- Tempo: -0.4225\n",
      "- Duration_ms: -0.1986\n",
      "- Views: 0.0468\n",
      "- Likes: 0.1460\n",
      "- Stream: 0.0545\n",
      "\n"
     ]
    }
   ],
   "source": [
    "from sklearn.linear_model import Ridge\n",
    "\n",
    "# Perform Ridge regression\n",
    "alpha = 0.5  # Regularization parameter\n",
    "ridge_model = Ridge(alpha=alpha)\n",
    "ridge_model.fit(X_tr_scaled, y_tr)\n",
    "\n",
    "# Make predictions on the test data\n",
    "ridge_predictions_t = ridge_model.predict(X_t_scaled)\n",
    "# Round the predicted values to the nearest integer and convert to integers\n",
    "ridge_predictions_t = ridge_predictions_t.round().astype(int)\n",
    "# Map the predicted values to the range {0, 1, 2, 3, 4, 5, 6, 7, 8, 9}\n",
    "ridge_predictions_t = ridge_predictions_t.clip(0, 9)\n",
    "\n",
    "ridge_model_summary = \"Ridge Regression Model (alpha={})\\n\".format(alpha)\n",
    "ridge_model_summary += \"Coefficient of determination (R-squared): {:.4f}\\n\".format(ridge_model.score(X_tr_scaled, y_tr))\n",
    "ridge_model_summary += \"Intercept: {:.4f}\\n\".format(ridge_model.intercept_)\n",
    "ridge_model_summary += \"Coefficients:\\n\"\n",
    "for feature, coefficient in zip(X_tr.columns, ridge_model.coef_):\n",
    "    ridge_model_summary += \"- {}: {:.4f}\\n\".format(feature, coefficient)\n",
    "\n",
    "print(ridge_model_summary)\n",
    "\n",
    "ridge_predictions_df = pd.DataFrame({'id': df_t['id'], 'Danceability': ridge_predictions_t})\n",
    "ridge_predictions_df.to_csv('ridge_submission.csv', index=False)"
   ]
  },
  {
   "cell_type": "code",
   "execution_count": 9,
   "metadata": {},
   "outputs": [
    {
     "data": {
      "image/png": "[encoded data removed]",
      "text/plain": [
       "<Figure size 720x360 with 1 Axes>"
      ]
     },
     "metadata": {
      "needs_background": "light"
     },
     "output_type": "display_data"
    }
   ],
   "source": [
    "# Target Variable Countplot\n",
    "plt.figure(figsize = (10, 5))\n",
    "sns.countplot(data=ridge_predictions_df, x=\"Danceability\", alpha = .70, palette = \"BuPu\")\n",
    "plt.title(\"Levels of Danceability\")\n",
    "plt.ylabel(\"Number of Songs\")\n",
    "plt.show()\n",
    "\n",
    "ridge_predictions_df[\"Danceability\"] = ridge_predictions_df[\"Danceability\"].astype(\"int\")"
   ]
  },
  {
   "attachments": {},
   "cell_type": "markdown",
   "metadata": {},
   "source": [
    "#### Neural Network Classifier"
   ]
  },
  {
   "cell_type": "code",
   "execution_count": 13,
   "metadata": {},
   "outputs": [
    {
     "name": "stdout",
     "output_type": "stream",
     "text": [
      "Epoch 1/10\n",
      "537/537 [==============================] - 2s 2ms/step - loss: 2.1352 - accuracy: 0.1941\n",
      "Epoch 2/10\n",
      "537/537 [==============================] - 1s 2ms/step - loss: 2.0451 - accuracy: 0.2227: \n",
      "Epoch 3/10\n",
      "537/537 [==============================] - 1s 2ms/step - loss: 2.0186 - accuracy: 0.2324: 0s - loss: 2.0205 - accuracy\n",
      "Epoch 4/10\n",
      "537/537 [==============================] - 1s 2ms/step - loss: 2.0053 - accuracy: 0.2429\n",
      "Epoch 5/10\n",
      "537/537 [==============================] - 1s 2ms/step - loss: 1.9953 - accuracy: 0.2474\n",
      "Epoch 6/10\n",
      "537/537 [==============================] - 1s 3ms/step - loss: 1.9873 - accuracy: 0.2489\n",
      "Epoch 7/10\n",
      "537/537 [==============================] - 1s 2ms/step - loss: 1.9816 - accuracy: 0.2503\n",
      "Epoch 8/10\n",
      "537/537 [==============================] - 1s 2ms/step - loss: 1.9752 - accuracy: 0.2535\n",
      "Epoch 9/10\n",
      "537/537 [==============================] - 1s 2ms/step - loss: 1.9687 - accuracy: 0.2552\n",
      "Epoch 10/10\n",
      "537/537 [==============================] - 1s 2ms/step - loss: 1.9646 - accuracy: 0.2575\n"
     ]
    }
   ],
   "source": [
    "import pandas as pd\n",
    "from sklearn.model_selection import train_test_split\n",
    "from sklearn.preprocessing import StandardScaler\n",
    "from tensorflow.keras.models import Sequential\n",
    "from tensorflow.keras.layers import Dense\n",
    "\n",
    "dep_var = 'Danceability'\n",
    "indep_var = ['Energy', 'Key', 'Loudness', 'Speechiness', 'Acousticness',\n",
    "             'Instrumentalness', 'Liveness', 'Valence', 'Tempo', 'Duration_ms', 'Views', 'Likes', 'Stream']\n",
    "\n",
    "# Prepare the data\n",
    "X_tr = df_tr[indep_var]\n",
    "X_t = df_t[indep_var]\n",
    "y_tr = df_tr[dep_var]\n",
    "\n",
    "# Standardize the input features\n",
    "scaler = StandardScaler()\n",
    "X_tr_scaled = scaler.fit_transform(X_tr)\n",
    "X_t_scaled = scaler.transform(X_t)\n",
    "\n",
    "# Create the neural network model\n",
    "model = Sequential()\n",
    "model.add(Dense(64, activation='relu', input_shape=(len(indep_var),)))\n",
    "model.add(Dense(64, activation='relu'))\n",
    "model.add(Dense(10, activation='softmax'))\n",
    "\n",
    "# Compile the model\n",
    "model.compile(loss='sparse_categorical_crossentropy', optimizer='adam', metrics=['accuracy'])\n",
    "\n",
    "# Train the model\n",
    "model.fit(X_tr_scaled, y_tr, epochs=10, batch_size=32)\n",
    "\n",
    "# Use the trained model to predict y_t\n",
    "predictions = model.predict(X_t_scaled)\n",
    "predicted_classes = predictions.argmax(axis=1)\n",
    "\n",
    "# Create a dataframe with the predictions\n",
    "predictions_df = pd.DataFrame({'id': df_t['id'], 'Danceability': predicted_classes})\n",
    "\n",
    "# Save the predictions to a CSV file\n",
    "predictions_df.to_csv('neural_network_submission.csv', index=False)"
   ]
  },
  {
   "cell_type": "code",
   "execution_count": 14,
   "metadata": {},
   "outputs": [
    {
     "data": {
      "image/png": "[encoded data removed]",
      "text/plain": [
       "<Figure size 720x360 with 1 Axes>"
      ]
     },
     "metadata": {
      "needs_background": "light"
     },
     "output_type": "display_data"
    }
   ],
   "source": [
    "# Target Variable Countplot\n",
    "plt.figure(figsize = (10, 5))\n",
    "sns.countplot(data=predictions_df, x=\"Danceability\", alpha = .70, palette = \"BuPu\")\n",
    "plt.title(\"Levels of Danceability\")\n",
    "plt.ylabel(\"Number of Songs\")\n",
    "plt.show()\n",
    "\n",
    "predictions_df[\"Danceability\"] = predictions_df[\"Danceability\"].astype(\"int\")"
   ]
  },
  {
   "cell_type": "markdown",
   "metadata": {},
   "source": [
    "#### SVM"
   ]
  },
  {
   "cell_type": "code",
   "execution_count": 22,
   "metadata": {},
   "outputs": [],
   "source": [
    "from sklearn.svm import SVC\n",
    "from sklearn.feature_selection import RFE\n",
    "\n",
    "# Create an SVM classifier\n",
    "svm = SVC(kernel='linear')\n",
    "\n",
    "# Create the RFE object and specify the number of desired features\n",
    "num_features = 5  # Specify the number of features you want to select\n",
    "rfe = RFE(estimator=svm, n_features_to_select=num_features)\n",
    "\n",
    "# Fit the RFE object to the training data\n",
    "rfe.fit(X_tr, y_tr)\n",
    "\n",
    "# Get the selected features\n",
    "selected_features = [indep_var[i] for i, selected in enumerate(rfe.support_) if selected]\n",
    "\n",
    "# Print the selected features\n",
    "print(\"Selected Features:\")\n",
    "print(selected_features)"
   ]
  }
 ],
 "metadata": {
  "kernelspec": {
   "display_name": "Python 3",
   "language": "python",
   "name": "python3"
  },
  "language_info": {
   "codemirror_mode": {
    "name": "ipython",
    "version": 3
   },
   "file_extension": ".py",
   "mimetype": "text/x-python",
   "name": "python",
   "nbconvert_exporter": "python",
   "pygments_lexer": "ipython3",
   "version": "3.9.2"
  },
  "orig_nbformat": 4
 },
 "nbformat": 4,
 "nbformat_minor": 2
}
