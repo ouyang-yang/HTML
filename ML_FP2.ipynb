{
 "cells": [
  {
   "cell_type": "code",
   "execution_count": 1,
   "metadata": {},
   "outputs": [],
   "source": [
    "from sklearn import linear_model\n",
    "from sklearn.preprocessing import StandardScaler\n",
    "import matplotlib.pyplot as plt\n",
    "import statsmodels.api as sm\n",
    "import seaborn as sns\n",
    "import pandas as pd\n",
    "import numpy as np\n",
    "import itertools\n",
    "import random\n",
    "import math\n",
    "import sys"
   ]
  },
  {
   "cell_type": "code",
   "execution_count": 3,
   "metadata": {},
   "outputs": [
    {
     "name": "stdout",
     "output_type": "stream",
     "text": [
      "Index(['Danceability', 'Energy', 'Key', 'Loudness', 'Speechiness',\n",
      "       'Acousticness', 'Instrumentalness', 'Liveness', 'Valence', 'Tempo',\n",
      "       'Duration_ms', 'Views', 'Likes', 'Stream', 'Composer'],\n",
      "      dtype='object')\n"
     ]
    }
   ],
   "source": [
    "df_tr = pd.read_csv(\"ML_FP_train_updated_v3.csv\")\n",
    "df_t = pd.read_csv(\"ML_FP_test_updated_v3_com.csv\")\n",
    "\n",
    "# df_tr.shape (17170, 29)\n",
    "# random_rows = df_tr.sample(n=10)\n",
    "# print(random_rows)\n",
    "print(df_tr.columns)\n",
    "\n",
    "dep_var = 'Danceability'\n",
    "indep_var = ['Energy', 'Key', 'Loudness', 'Speechiness','Acousticness',\\\n",
    "     'Instrumentalness', 'Liveness', 'Valence', 'Tempo','Duration_ms', 'Views', 'Likes', 'Stream']\n",
    "\n",
    "X_tr = df_tr[indep_var]\n",
    "X_t = df_t[indep_var]\n",
    "y_tr = df_tr[dep_var]\n",
    "\n",
    "# Standardize the input features\n",
    "scaler = StandardScaler()\n",
    "X_tr_scaled = scaler.fit_transform(X_tr)\n",
    "X_t_scaled = scaler.transform(X_t)\n",
    "# Fill NaN values with 0\n",
    "X_tr_scaled = np.nan_to_num(X_tr_scaled, nan=0)\n",
    "X_t_scaled = np.nan_to_num(X_t_scaled, nan=0)\n",
    "X_tr_scaled = pd.DataFrame(X_tr_scaled, columns=indep_var)\n",
    "X_t_scaled = pd.DataFrame(X_t_scaled, columns=indep_var)"
   ]
  },
  {
   "attachments": {},
   "cell_type": "markdown",
   "metadata": {},
   "source": [
    "#### OLS_all"
   ]
  },
  {
   "cell_type": "code",
   "execution_count": 4,
   "metadata": {},
   "outputs": [
    {
     "ename": "MissingDataError",
     "evalue": "exog contains inf or nans",
     "output_type": "error",
     "traceback": [
      "\u001b[1;31m---------------------------------------------------------------------------\u001b[0m",
      "\u001b[1;31mMissingDataError\u001b[0m                          Traceback (most recent call last)",
      "\u001b[1;32m<ipython-input-4-f24f6009256b>\u001b[0m in \u001b[0;36m<module>\u001b[1;34m\u001b[0m\n\u001b[0;32m      2\u001b[0m \u001b[0mX_tr\u001b[0m \u001b[1;33m=\u001b[0m \u001b[0msm\u001b[0m\u001b[1;33m.\u001b[0m\u001b[0madd_constant\u001b[0m\u001b[1;33m(\u001b[0m\u001b[0mX_tr\u001b[0m\u001b[1;33m)\u001b[0m \u001b[1;31m# adding a constant\u001b[0m\u001b[1;33m\u001b[0m\u001b[1;33m\u001b[0m\u001b[0m\n\u001b[0;32m      3\u001b[0m \u001b[0mX_t\u001b[0m \u001b[1;33m=\u001b[0m \u001b[0msm\u001b[0m\u001b[1;33m.\u001b[0m\u001b[0madd_constant\u001b[0m\u001b[1;33m(\u001b[0m\u001b[0mX_t\u001b[0m\u001b[1;33m)\u001b[0m\u001b[1;33m\u001b[0m\u001b[1;33m\u001b[0m\u001b[0m\n\u001b[1;32m----> 4\u001b[1;33m \u001b[0mols_model\u001b[0m \u001b[1;33m=\u001b[0m \u001b[0msm\u001b[0m\u001b[1;33m.\u001b[0m\u001b[0mOLS\u001b[0m\u001b[1;33m(\u001b[0m\u001b[0my_tr\u001b[0m\u001b[1;33m,\u001b[0m \u001b[0mX_tr\u001b[0m\u001b[1;33m)\u001b[0m\u001b[1;33m.\u001b[0m\u001b[0mfit\u001b[0m\u001b[1;33m(\u001b[0m\u001b[1;33m)\u001b[0m\u001b[1;33m\u001b[0m\u001b[1;33m\u001b[0m\u001b[0m\n\u001b[0m\u001b[0;32m      5\u001b[0m \u001b[1;33m\u001b[0m\u001b[0m\n\u001b[0;32m      6\u001b[0m \u001b[0mX_tr_scaled\u001b[0m \u001b[1;33m=\u001b[0m \u001b[0msm\u001b[0m\u001b[1;33m.\u001b[0m\u001b[0madd_constant\u001b[0m\u001b[1;33m(\u001b[0m\u001b[0mX_tr_scaled\u001b[0m\u001b[1;33m)\u001b[0m \u001b[1;31m# adding a constant\u001b[0m\u001b[1;33m\u001b[0m\u001b[1;33m\u001b[0m\u001b[0m\n",
      "\u001b[1;32mc:\\Users\\mayda\\AppData\\Local\\Programs\\Python\\Python39\\lib\\site-packages\\statsmodels\\regression\\linear_model.py\u001b[0m in \u001b[0;36m__init__\u001b[1;34m(self, endog, exog, missing, hasconst, **kwargs)\u001b[0m\n\u001b[0;32m    904\u001b[0m                    \"An exception will be raised in the next version.\")\n\u001b[0;32m    905\u001b[0m             \u001b[0mwarnings\u001b[0m\u001b[1;33m.\u001b[0m\u001b[0mwarn\u001b[0m\u001b[1;33m(\u001b[0m\u001b[0mmsg\u001b[0m\u001b[1;33m,\u001b[0m \u001b[0mValueWarning\u001b[0m\u001b[1;33m)\u001b[0m\u001b[1;33m\u001b[0m\u001b[1;33m\u001b[0m\u001b[0m\n\u001b[1;32m--> 906\u001b[1;33m         super(OLS, self).__init__(endog, exog, missing=missing,\n\u001b[0m\u001b[0;32m    907\u001b[0m                                   hasconst=hasconst, **kwargs)\n\u001b[0;32m    908\u001b[0m         \u001b[1;32mif\u001b[0m \u001b[1;34m\"weights\"\u001b[0m \u001b[1;32min\u001b[0m \u001b[0mself\u001b[0m\u001b[1;33m.\u001b[0m\u001b[0m_init_keys\u001b[0m\u001b[1;33m:\u001b[0m\u001b[1;33m\u001b[0m\u001b[1;33m\u001b[0m\u001b[0m\n",
      "\u001b[1;32mc:\\Users\\mayda\\AppData\\Local\\Programs\\Python\\Python39\\lib\\site-packages\\statsmodels\\regression\\linear_model.py\u001b[0m in \u001b[0;36m__init__\u001b[1;34m(self, endog, exog, weights, missing, hasconst, **kwargs)\u001b[0m\n\u001b[0;32m    731\u001b[0m         \u001b[1;32melse\u001b[0m\u001b[1;33m:\u001b[0m\u001b[1;33m\u001b[0m\u001b[1;33m\u001b[0m\u001b[0m\n\u001b[0;32m    732\u001b[0m             \u001b[0mweights\u001b[0m \u001b[1;33m=\u001b[0m \u001b[0mweights\u001b[0m\u001b[1;33m.\u001b[0m\u001b[0msqueeze\u001b[0m\u001b[1;33m(\u001b[0m\u001b[1;33m)\u001b[0m\u001b[1;33m\u001b[0m\u001b[1;33m\u001b[0m\u001b[0m\n\u001b[1;32m--> 733\u001b[1;33m         super(WLS, self).__init__(endog, exog, missing=missing,\n\u001b[0m\u001b[0;32m    734\u001b[0m                                   weights=weights, hasconst=hasconst, **kwargs)\n\u001b[0;32m    735\u001b[0m         \u001b[0mnobs\u001b[0m \u001b[1;33m=\u001b[0m \u001b[0mself\u001b[0m\u001b[1;33m.\u001b[0m\u001b[0mexog\u001b[0m\u001b[1;33m.\u001b[0m\u001b[0mshape\u001b[0m\u001b[1;33m[\u001b[0m\u001b[1;36m0\u001b[0m\u001b[1;33m]\u001b[0m\u001b[1;33m\u001b[0m\u001b[1;33m\u001b[0m\u001b[0m\n",
      "\u001b[1;32mc:\\Users\\mayda\\AppData\\Local\\Programs\\Python\\Python39\\lib\\site-packages\\statsmodels\\regression\\linear_model.py\u001b[0m in \u001b[0;36m__init__\u001b[1;34m(self, endog, exog, **kwargs)\u001b[0m\n\u001b[0;32m    188\u001b[0m     \"\"\"\n\u001b[0;32m    189\u001b[0m     \u001b[1;32mdef\u001b[0m \u001b[0m__init__\u001b[0m\u001b[1;33m(\u001b[0m\u001b[0mself\u001b[0m\u001b[1;33m,\u001b[0m \u001b[0mendog\u001b[0m\u001b[1;33m,\u001b[0m \u001b[0mexog\u001b[0m\u001b[1;33m,\u001b[0m \u001b[1;33m**\u001b[0m\u001b[0mkwargs\u001b[0m\u001b[1;33m)\u001b[0m\u001b[1;33m:\u001b[0m\u001b[1;33m\u001b[0m\u001b[1;33m\u001b[0m\u001b[0m\n\u001b[1;32m--> 190\u001b[1;33m         \u001b[0msuper\u001b[0m\u001b[1;33m(\u001b[0m\u001b[0mRegressionModel\u001b[0m\u001b[1;33m,\u001b[0m \u001b[0mself\u001b[0m\u001b[1;33m)\u001b[0m\u001b[1;33m.\u001b[0m\u001b[0m__init__\u001b[0m\u001b[1;33m(\u001b[0m\u001b[0mendog\u001b[0m\u001b[1;33m,\u001b[0m \u001b[0mexog\u001b[0m\u001b[1;33m,\u001b[0m \u001b[1;33m**\u001b[0m\u001b[0mkwargs\u001b[0m\u001b[1;33m)\u001b[0m\u001b[1;33m\u001b[0m\u001b[1;33m\u001b[0m\u001b[0m\n\u001b[0m\u001b[0;32m    191\u001b[0m         \u001b[0mself\u001b[0m\u001b[1;33m.\u001b[0m\u001b[0m_data_attr\u001b[0m\u001b[1;33m.\u001b[0m\u001b[0mextend\u001b[0m\u001b[1;33m(\u001b[0m\u001b[1;33m[\u001b[0m\u001b[1;34m'pinv_wexog'\u001b[0m\u001b[1;33m,\u001b[0m \u001b[1;34m'wendog'\u001b[0m\u001b[1;33m,\u001b[0m \u001b[1;34m'wexog'\u001b[0m\u001b[1;33m,\u001b[0m \u001b[1;34m'weights'\u001b[0m\u001b[1;33m]\u001b[0m\u001b[1;33m)\u001b[0m\u001b[1;33m\u001b[0m\u001b[1;33m\u001b[0m\u001b[0m\n\u001b[0;32m    192\u001b[0m \u001b[1;33m\u001b[0m\u001b[0m\n",
      "\u001b[1;32mc:\\Users\\mayda\\AppData\\Local\\Programs\\Python\\Python39\\lib\\site-packages\\statsmodels\\base\\model.py\u001b[0m in \u001b[0;36m__init__\u001b[1;34m(self, endog, exog, **kwargs)\u001b[0m\n\u001b[0;32m    265\u001b[0m \u001b[1;33m\u001b[0m\u001b[0m\n\u001b[0;32m    266\u001b[0m     \u001b[1;32mdef\u001b[0m \u001b[0m__init__\u001b[0m\u001b[1;33m(\u001b[0m\u001b[0mself\u001b[0m\u001b[1;33m,\u001b[0m \u001b[0mendog\u001b[0m\u001b[1;33m,\u001b[0m \u001b[0mexog\u001b[0m\u001b[1;33m=\u001b[0m\u001b[1;32mNone\u001b[0m\u001b[1;33m,\u001b[0m \u001b[1;33m**\u001b[0m\u001b[0mkwargs\u001b[0m\u001b[1;33m)\u001b[0m\u001b[1;33m:\u001b[0m\u001b[1;33m\u001b[0m\u001b[1;33m\u001b[0m\u001b[0m\n\u001b[1;32m--> 267\u001b[1;33m         \u001b[0msuper\u001b[0m\u001b[1;33m(\u001b[0m\u001b[1;33m)\u001b[0m\u001b[1;33m.\u001b[0m\u001b[0m__init__\u001b[0m\u001b[1;33m(\u001b[0m\u001b[0mendog\u001b[0m\u001b[1;33m,\u001b[0m \u001b[0mexog\u001b[0m\u001b[1;33m,\u001b[0m \u001b[1;33m**\u001b[0m\u001b[0mkwargs\u001b[0m\u001b[1;33m)\u001b[0m\u001b[1;33m\u001b[0m\u001b[1;33m\u001b[0m\u001b[0m\n\u001b[0m\u001b[0;32m    268\u001b[0m         \u001b[0mself\u001b[0m\u001b[1;33m.\u001b[0m\u001b[0minitialize\u001b[0m\u001b[1;33m(\u001b[0m\u001b[1;33m)\u001b[0m\u001b[1;33m\u001b[0m\u001b[1;33m\u001b[0m\u001b[0m\n\u001b[0;32m    269\u001b[0m \u001b[1;33m\u001b[0m\u001b[0m\n",
      "\u001b[1;32mc:\\Users\\mayda\\AppData\\Local\\Programs\\Python\\Python39\\lib\\site-packages\\statsmodels\\base\\model.py\u001b[0m in \u001b[0;36m__init__\u001b[1;34m(self, endog, exog, **kwargs)\u001b[0m\n\u001b[0;32m     90\u001b[0m         \u001b[0mmissing\u001b[0m \u001b[1;33m=\u001b[0m \u001b[0mkwargs\u001b[0m\u001b[1;33m.\u001b[0m\u001b[0mpop\u001b[0m\u001b[1;33m(\u001b[0m\u001b[1;34m'missing'\u001b[0m\u001b[1;33m,\u001b[0m \u001b[1;34m'none'\u001b[0m\u001b[1;33m)\u001b[0m\u001b[1;33m\u001b[0m\u001b[1;33m\u001b[0m\u001b[0m\n\u001b[0;32m     91\u001b[0m         \u001b[0mhasconst\u001b[0m \u001b[1;33m=\u001b[0m \u001b[0mkwargs\u001b[0m\u001b[1;33m.\u001b[0m\u001b[0mpop\u001b[0m\u001b[1;33m(\u001b[0m\u001b[1;34m'hasconst'\u001b[0m\u001b[1;33m,\u001b[0m \u001b[1;32mNone\u001b[0m\u001b[1;33m)\u001b[0m\u001b[1;33m\u001b[0m\u001b[1;33m\u001b[0m\u001b[0m\n\u001b[1;32m---> 92\u001b[1;33m         self.data = self._handle_data(endog, exog, missing, hasconst,\n\u001b[0m\u001b[0;32m     93\u001b[0m                                       **kwargs)\n\u001b[0;32m     94\u001b[0m         \u001b[0mself\u001b[0m\u001b[1;33m.\u001b[0m\u001b[0mk_constant\u001b[0m \u001b[1;33m=\u001b[0m \u001b[0mself\u001b[0m\u001b[1;33m.\u001b[0m\u001b[0mdata\u001b[0m\u001b[1;33m.\u001b[0m\u001b[0mk_constant\u001b[0m\u001b[1;33m\u001b[0m\u001b[1;33m\u001b[0m\u001b[0m\n",
      "\u001b[1;32mc:\\Users\\mayda\\AppData\\Local\\Programs\\Python\\Python39\\lib\\site-packages\\statsmodels\\base\\model.py\u001b[0m in \u001b[0;36m_handle_data\u001b[1;34m(self, endog, exog, missing, hasconst, **kwargs)\u001b[0m\n\u001b[0;32m    130\u001b[0m \u001b[1;33m\u001b[0m\u001b[0m\n\u001b[0;32m    131\u001b[0m     \u001b[1;32mdef\u001b[0m \u001b[0m_handle_data\u001b[0m\u001b[1;33m(\u001b[0m\u001b[0mself\u001b[0m\u001b[1;33m,\u001b[0m \u001b[0mendog\u001b[0m\u001b[1;33m,\u001b[0m \u001b[0mexog\u001b[0m\u001b[1;33m,\u001b[0m \u001b[0mmissing\u001b[0m\u001b[1;33m,\u001b[0m \u001b[0mhasconst\u001b[0m\u001b[1;33m,\u001b[0m \u001b[1;33m**\u001b[0m\u001b[0mkwargs\u001b[0m\u001b[1;33m)\u001b[0m\u001b[1;33m:\u001b[0m\u001b[1;33m\u001b[0m\u001b[1;33m\u001b[0m\u001b[0m\n\u001b[1;32m--> 132\u001b[1;33m         \u001b[0mdata\u001b[0m \u001b[1;33m=\u001b[0m \u001b[0mhandle_data\u001b[0m\u001b[1;33m(\u001b[0m\u001b[0mendog\u001b[0m\u001b[1;33m,\u001b[0m \u001b[0mexog\u001b[0m\u001b[1;33m,\u001b[0m \u001b[0mmissing\u001b[0m\u001b[1;33m,\u001b[0m \u001b[0mhasconst\u001b[0m\u001b[1;33m,\u001b[0m \u001b[1;33m**\u001b[0m\u001b[0mkwargs\u001b[0m\u001b[1;33m)\u001b[0m\u001b[1;33m\u001b[0m\u001b[1;33m\u001b[0m\u001b[0m\n\u001b[0m\u001b[0;32m    133\u001b[0m         \u001b[1;31m# kwargs arrays could have changed, easier to just attach here\u001b[0m\u001b[1;33m\u001b[0m\u001b[1;33m\u001b[0m\u001b[1;33m\u001b[0m\u001b[0m\n\u001b[0;32m    134\u001b[0m         \u001b[1;32mfor\u001b[0m \u001b[0mkey\u001b[0m \u001b[1;32min\u001b[0m \u001b[0mkwargs\u001b[0m\u001b[1;33m:\u001b[0m\u001b[1;33m\u001b[0m\u001b[1;33m\u001b[0m\u001b[0m\n",
      "\u001b[1;32mc:\\Users\\mayda\\AppData\\Local\\Programs\\Python\\Python39\\lib\\site-packages\\statsmodels\\base\\data.py\u001b[0m in \u001b[0;36mhandle_data\u001b[1;34m(endog, exog, missing, hasconst, **kwargs)\u001b[0m\n\u001b[0;32m    698\u001b[0m \u001b[1;33m\u001b[0m\u001b[0m\n\u001b[0;32m    699\u001b[0m     \u001b[0mklass\u001b[0m \u001b[1;33m=\u001b[0m \u001b[0mhandle_data_class_factory\u001b[0m\u001b[1;33m(\u001b[0m\u001b[0mendog\u001b[0m\u001b[1;33m,\u001b[0m \u001b[0mexog\u001b[0m\u001b[1;33m)\u001b[0m\u001b[1;33m\u001b[0m\u001b[1;33m\u001b[0m\u001b[0m\n\u001b[1;32m--> 700\u001b[1;33m     return klass(endog, exog=exog, missing=missing, hasconst=hasconst,\n\u001b[0m\u001b[0;32m    701\u001b[0m                  **kwargs)\n",
      "\u001b[1;32mc:\\Users\\mayda\\AppData\\Local\\Programs\\Python\\Python39\\lib\\site-packages\\statsmodels\\base\\data.py\u001b[0m in \u001b[0;36m__init__\u001b[1;34m(self, endog, exog, missing, hasconst, **kwargs)\u001b[0m\n\u001b[0;32m     86\u001b[0m         \u001b[0mself\u001b[0m\u001b[1;33m.\u001b[0m\u001b[0mconst_idx\u001b[0m \u001b[1;33m=\u001b[0m \u001b[1;32mNone\u001b[0m\u001b[1;33m\u001b[0m\u001b[1;33m\u001b[0m\u001b[0m\n\u001b[0;32m     87\u001b[0m         \u001b[0mself\u001b[0m\u001b[1;33m.\u001b[0m\u001b[0mk_constant\u001b[0m \u001b[1;33m=\u001b[0m \u001b[1;36m0\u001b[0m\u001b[1;33m\u001b[0m\u001b[1;33m\u001b[0m\u001b[0m\n\u001b[1;32m---> 88\u001b[1;33m         \u001b[0mself\u001b[0m\u001b[1;33m.\u001b[0m\u001b[0m_handle_constant\u001b[0m\u001b[1;33m(\u001b[0m\u001b[0mhasconst\u001b[0m\u001b[1;33m)\u001b[0m\u001b[1;33m\u001b[0m\u001b[1;33m\u001b[0m\u001b[0m\n\u001b[0m\u001b[0;32m     89\u001b[0m         \u001b[0mself\u001b[0m\u001b[1;33m.\u001b[0m\u001b[0m_check_integrity\u001b[0m\u001b[1;33m(\u001b[0m\u001b[1;33m)\u001b[0m\u001b[1;33m\u001b[0m\u001b[1;33m\u001b[0m\u001b[0m\n\u001b[0;32m     90\u001b[0m         \u001b[0mself\u001b[0m\u001b[1;33m.\u001b[0m\u001b[0m_cache\u001b[0m \u001b[1;33m=\u001b[0m \u001b[1;33m{\u001b[0m\u001b[1;33m}\u001b[0m\u001b[1;33m\u001b[0m\u001b[1;33m\u001b[0m\u001b[0m\n",
      "\u001b[1;32mc:\\Users\\mayda\\AppData\\Local\\Programs\\Python\\Python39\\lib\\site-packages\\statsmodels\\base\\data.py\u001b[0m in \u001b[0;36m_handle_constant\u001b[1;34m(self, hasconst)\u001b[0m\n\u001b[0;32m    132\u001b[0m             \u001b[0mexog_max\u001b[0m \u001b[1;33m=\u001b[0m \u001b[0mnp\u001b[0m\u001b[1;33m.\u001b[0m\u001b[0mmax\u001b[0m\u001b[1;33m(\u001b[0m\u001b[0mself\u001b[0m\u001b[1;33m.\u001b[0m\u001b[0mexog\u001b[0m\u001b[1;33m,\u001b[0m \u001b[0maxis\u001b[0m\u001b[1;33m=\u001b[0m\u001b[1;36m0\u001b[0m\u001b[1;33m)\u001b[0m\u001b[1;33m\u001b[0m\u001b[1;33m\u001b[0m\u001b[0m\n\u001b[0;32m    133\u001b[0m             \u001b[1;32mif\u001b[0m \u001b[1;32mnot\u001b[0m \u001b[0mnp\u001b[0m\u001b[1;33m.\u001b[0m\u001b[0misfinite\u001b[0m\u001b[1;33m(\u001b[0m\u001b[0mexog_max\u001b[0m\u001b[1;33m)\u001b[0m\u001b[1;33m.\u001b[0m\u001b[0mall\u001b[0m\u001b[1;33m(\u001b[0m\u001b[1;33m)\u001b[0m\u001b[1;33m:\u001b[0m\u001b[1;33m\u001b[0m\u001b[1;33m\u001b[0m\u001b[0m\n\u001b[1;32m--> 134\u001b[1;33m                 \u001b[1;32mraise\u001b[0m \u001b[0mMissingDataError\u001b[0m\u001b[1;33m(\u001b[0m\u001b[1;34m'exog contains inf or nans'\u001b[0m\u001b[1;33m)\u001b[0m\u001b[1;33m\u001b[0m\u001b[1;33m\u001b[0m\u001b[0m\n\u001b[0m\u001b[0;32m    135\u001b[0m             \u001b[0mexog_min\u001b[0m \u001b[1;33m=\u001b[0m \u001b[0mnp\u001b[0m\u001b[1;33m.\u001b[0m\u001b[0mmin\u001b[0m\u001b[1;33m(\u001b[0m\u001b[0mself\u001b[0m\u001b[1;33m.\u001b[0m\u001b[0mexog\u001b[0m\u001b[1;33m,\u001b[0m \u001b[0maxis\u001b[0m\u001b[1;33m=\u001b[0m\u001b[1;36m0\u001b[0m\u001b[1;33m)\u001b[0m\u001b[1;33m\u001b[0m\u001b[1;33m\u001b[0m\u001b[0m\n\u001b[0;32m    136\u001b[0m             \u001b[0mconst_idx\u001b[0m \u001b[1;33m=\u001b[0m \u001b[0mnp\u001b[0m\u001b[1;33m.\u001b[0m\u001b[0mwhere\u001b[0m\u001b[1;33m(\u001b[0m\u001b[0mexog_max\u001b[0m \u001b[1;33m==\u001b[0m \u001b[0mexog_min\u001b[0m\u001b[1;33m)\u001b[0m\u001b[1;33m[\u001b[0m\u001b[1;36m0\u001b[0m\u001b[1;33m]\u001b[0m\u001b[1;33m.\u001b[0m\u001b[0msqueeze\u001b[0m\u001b[1;33m(\u001b[0m\u001b[1;33m)\u001b[0m\u001b[1;33m\u001b[0m\u001b[1;33m\u001b[0m\u001b[0m\n",
      "\u001b[1;31mMissingDataError\u001b[0m: exog contains inf or nans"
     ]
    }
   ],
   "source": [
    "# with statsmodels\n",
    "X_tr = sm.add_constant(X_tr) # adding a constant\n",
    "X_t = sm.add_constant(X_t)\n",
    "ols_model = sm.OLS(y_tr, X_tr).fit()\n",
    "\n",
    "X_tr_scaled = sm.add_constant(X_tr_scaled) # adding a constant\n",
    "X_t_scaled = sm.add_constant(X_t_scaled)\n",
    "ols_std_model = sm.OLS(y_tr, X_tr_scaled).fit()\n",
    "\n",
    "ols_predictions_t = ols_model.predict(X_t) \n",
    "ols_predictions_t = ols_predictions_t.round().astype(int)\n",
    "ols_predictions_t = ols_predictions_t.clip(0, 9)\n",
    "\n",
    "ols_predictions_df = pd.DataFrame({'id': df_t['id'], 'Danceability': ols_predictions_t})\n",
    "ols_predictions_df.to_csv('ols_all_submission.csv', index=False)"
   ]
  },
  {
   "cell_type": "code",
   "execution_count": 19,
   "metadata": {},
   "outputs": [],
   "source": [
    "# Fit the robust OLS model\n",
    "robust_model = sm.RLM(y_tr, X_tr_scaled, M=sm.robust.norms.HuberT())\n",
    "robust_results = robust_model.fit()\n",
    "\n",
    "ols_scaled_t = robust_results.predict(X_t_scaled)\n",
    "ols_scaled_t = ols_scaled_t.round().astype(int)\n",
    "ols_scaled_t = ols_scaled_t.clip(0, 9)\n",
    "\n",
    "ols_scaled_df = pd.DataFrame({'id': df_t['id'], 'Danceability': ols_scaled_t})\n",
    "ols_scaled_df.to_csv('ols_scaled_robust_submission.csv', index=False)"
   ]
  },
  {
   "cell_type": "code",
   "execution_count": 20,
   "metadata": {},
   "outputs": [
    {
     "data": {
      "image/png": "[encoded data removed]",
      "text/plain": [
       "<Figure size 720x360 with 1 Axes>"
      ]
     },
     "metadata": {
      "needs_background": "light"
     },
     "output_type": "display_data"
    }
   ],
   "source": [
    "ols_predictions_df[\"Danceability\"] = ols_predictions_df[\"Danceability\"].astype(\"category\")\n",
    "# Target Variable Countplot\n",
    "plt.figure(figsize = (10, 5))\n",
    "sns.countplot(data=ols_predictions_df, x=\"Danceability\", alpha = .70, palette = \"BuPu\")\n",
    "plt.title(\"Levels of Danceability\")\n",
    "plt.ylabel(\"Number of Songs\")\n",
    "plt.show()\n",
    "\n",
    "ols_predictions_df[\"Danceability\"] = ols_predictions_df[\"Danceability\"].astype(\"int\")"
   ]
  },
  {
   "cell_type": "code",
   "execution_count": 21,
   "metadata": {},
   "outputs": [
    {
     "data": {
      "image/png": "[encoded data removed]",
      "text/plain": [
       "<Figure size 720x360 with 1 Axes>"
      ]
     },
     "metadata": {
      "needs_background": "light"
     },
     "output_type": "display_data"
    }
   ],
   "source": [
    "ols_scaled_df[\"Danceability\"] = ols_scaled_df[\"Danceability\"].astype(\"category\")\n",
    "# Target Variable Countplot\n",
    "plt.figure(figsize = (10, 5))\n",
    "sns.countplot(data=ols_scaled_df, x=\"Danceability\", alpha = .70, palette = \"BuPu\")\n",
    "plt.title(\"Levels of Danceability\")\n",
    "plt.ylabel(\"Number of Songs\")\n",
    "plt.show()"
   ]
  },
  {
   "attachments": {},
   "cell_type": "markdown",
   "metadata": {},
   "source": [
    "###### Score: 2.10547 (fillna = median)"
   ]
  },
  {
   "attachments": {},
   "cell_type": "markdown",
   "metadata": {},
   "source": [
    "#### MLogit"
   ]
  },
  {
   "cell_type": "code",
   "execution_count": 5,
   "metadata": {},
   "outputs": [
    {
     "name": "stdout",
     "output_type": "stream",
     "text": [
      "Optimization terminated successfully.\n",
      "         Current function value: 2.098462\n",
      "         Iterations 9\n",
      "                          MNLogit Regression Results                          \n",
      "==============================================================================\n",
      "Dep. Variable:           Danceability   No. Observations:                17170\n",
      "Model:                        MNLogit   Df Residuals:                    17044\n",
      "Method:                           MLE   Df Model:                          117\n",
      "Date:                Wed, 24 May 2023   Pseudo R-squ.:                 0.08814\n",
      "Time:                        15:06:42   Log-Likelihood:                -36031.\n",
      "converged:                       True   LL-Null:                       -39513.\n",
      "Covariance Type:            nonrobust   LLR p-value:                     0.000\n",
      "====================================================================================\n",
      "  Danceability=1       coef    std err          z      P>|z|      [0.025      0.975]\n",
      "------------------------------------------------------------------------------------\n",
      "const                0.6404      0.053     12.097      0.000       0.537       0.744\n",
      "Energy              -0.0510      0.044     -1.159      0.246      -0.137       0.035\n",
      "Key                  0.0338      0.040      0.847      0.397      -0.044       0.112\n",
      "Loudness             0.1952      0.048      4.065      0.000       0.101       0.289\n",
      "Speechiness          0.2857      0.067      4.276      0.000       0.155       0.417\n",
      "Acousticness        -0.0306      0.042     -0.737      0.461      -0.112       0.051\n",
      "Instrumentalness    -0.1368      0.034     -4.062      0.000      -0.203      -0.071\n",
      "Liveness            -0.1025      0.031     -3.263      0.001      -0.164      -0.041\n",
      "Valence              0.5432      0.045     12.072      0.000       0.455       0.631\n",
      "Tempo               -0.0471      0.039     -1.216      0.224      -0.123       0.029\n",
      "Duration_ms         -0.0919      0.038     -2.409      0.016      -0.167      -0.017\n",
      "Views                0.1083      0.100      1.086      0.278      -0.087       0.304\n",
      "Likes               -0.0591      0.102     -0.578      0.564      -0.260       0.141\n",
      "Stream              -0.0363      0.061     -0.595      0.552      -0.156       0.083\n",
      "------------------------------------------------------------------------------------\n",
      "  Danceability=2       coef    std err          z      P>|z|      [0.025      0.975]\n",
      "------------------------------------------------------------------------------------\n",
      "const                0.7474      0.052     14.360      0.000       0.645       0.849\n",
      "Energy              -0.1351      0.046     -2.955      0.003      -0.225      -0.045\n",
      "Key                  0.0270      0.040      0.669      0.504      -0.052       0.106\n",
      "Loudness             0.2800      0.055      5.072      0.000       0.172       0.388\n",
      "Speechiness          0.2842      0.067      4.242      0.000       0.153       0.416\n",
      "Acousticness        -0.1653      0.044     -3.720      0.000      -0.252      -0.078\n",
      "Instrumentalness    -0.1930      0.039     -4.909      0.000      -0.270      -0.116\n",
      "Liveness            -0.1161      0.032     -3.637      0.000      -0.179      -0.054\n",
      "Valence              0.7092      0.045     15.644      0.000       0.620       0.798\n",
      "Tempo               -0.1750      0.040     -4.384      0.000      -0.253      -0.097\n",
      "Duration_ms         -0.0207      0.021     -1.003      0.316      -0.061       0.020\n",
      "Views                0.0094      0.106      0.089      0.929      -0.198       0.217\n",
      "Likes               -0.1172      0.107     -1.098      0.272      -0.326       0.092\n",
      "Stream               0.0694      0.060      1.157      0.247      -0.048       0.187\n",
      "------------------------------------------------------------------------------------\n",
      "  Danceability=3       coef    std err          z      P>|z|      [0.025      0.975]\n",
      "------------------------------------------------------------------------------------\n",
      "const                0.8646      0.051     16.999      0.000       0.765       0.964\n",
      "Energy              -0.3163      0.048     -6.578      0.000      -0.411      -0.222\n",
      "Key                  0.0603      0.041      1.469      0.142      -0.020       0.141\n",
      "Loudness             0.3505      0.059      5.910      0.000       0.234       0.467\n",
      "Speechiness          0.4488      0.065      6.926      0.000       0.322       0.576\n",
      "Acousticness        -0.2225      0.046     -4.806      0.000      -0.313      -0.132\n",
      "Instrumentalness    -0.2172      0.045     -4.851      0.000      -0.305      -0.129\n",
      "Liveness            -0.1005      0.032     -3.165      0.002      -0.163      -0.038\n",
      "Valence              1.0122      0.046     21.936      0.000       0.922       1.103\n",
      "Tempo               -0.2916      0.041     -7.149      0.000      -0.372      -0.212\n",
      "Duration_ms         -0.2051      0.054     -3.826      0.000      -0.310      -0.100\n",
      "Views                0.0353      0.096      0.367      0.713      -0.153       0.224\n",
      "Likes                0.0767      0.095      0.810      0.418      -0.109       0.262\n",
      "Stream               0.0481      0.058      0.832      0.406      -0.065       0.161\n",
      "------------------------------------------------------------------------------------\n",
      "  Danceability=4       coef    std err          z      P>|z|      [0.025      0.975]\n",
      "------------------------------------------------------------------------------------\n",
      "const                0.8444      0.051     16.559      0.000       0.744       0.944\n",
      "Energy              -0.3733      0.049     -7.595      0.000      -0.470      -0.277\n",
      "Key                  0.0828      0.042      1.992      0.046       0.001       0.164\n",
      "Loudness             0.3966      0.062      6.409      0.000       0.275       0.518\n",
      "Speechiness          0.4499      0.065      6.883      0.000       0.322       0.578\n",
      "Acousticness        -0.3058      0.049     -6.301      0.000      -0.401      -0.211\n",
      "Instrumentalness    -0.1783      0.045     -3.929      0.000      -0.267      -0.089\n",
      "Liveness            -0.1632      0.035     -4.637      0.000      -0.232      -0.094\n",
      "Valence              1.1558      0.047     24.704      0.000       1.064       1.247\n",
      "Tempo               -0.3678      0.042     -8.829      0.000      -0.449      -0.286\n",
      "Duration_ms         -0.4202      0.062     -6.762      0.000      -0.542      -0.298\n",
      "Views               -0.0434      0.099     -0.438      0.662      -0.238       0.151\n",
      "Likes                0.1317      0.095      1.388      0.165      -0.054       0.318\n",
      "Stream               0.0595      0.058      1.018      0.309      -0.055       0.174\n",
      "------------------------------------------------------------------------------------\n",
      "  Danceability=5       coef    std err          z      P>|z|      [0.025      0.975]\n",
      "------------------------------------------------------------------------------------\n",
      "const                0.8795      0.051     17.318      0.000       0.780       0.979\n",
      "Energy              -0.3523      0.049     -7.237      0.000      -0.448      -0.257\n",
      "Key                  0.0410      0.041      0.992      0.321      -0.040       0.122\n",
      "Loudness             0.3326      0.061      5.415      0.000       0.212       0.453\n",
      "Speechiness          0.4877      0.065      7.543      0.000       0.361       0.614\n",
      "Acousticness        -0.4179      0.050     -8.335      0.000      -0.516      -0.320\n",
      "Instrumentalness    -0.1520      0.044     -3.430      0.001      -0.239      -0.065\n",
      "Liveness            -0.1683      0.035     -4.796      0.000      -0.237      -0.100\n",
      "Valence              1.1907      0.047     25.546      0.000       1.099       1.282\n",
      "Tempo               -0.4108      0.042     -9.872      0.000      -0.492      -0.329\n",
      "Duration_ms         -0.4336      0.062     -7.033      0.000      -0.554      -0.313\n",
      "Views               -0.0133      0.097     -0.137      0.891      -0.204       0.178\n",
      "Likes                0.1113      0.094      1.178      0.239      -0.074       0.296\n",
      "Stream               0.0801      0.058      1.390      0.165      -0.033       0.193\n",
      "------------------------------------------------------------------------------------\n",
      "  Danceability=6       coef    std err          z      P>|z|      [0.025      0.975]\n",
      "------------------------------------------------------------------------------------\n",
      "const                0.8770      0.051     17.066      0.000       0.776       0.978\n",
      "Energy              -0.5336      0.050    -10.680      0.000      -0.631      -0.436\n",
      "Key                  0.0070      0.041      0.169      0.866      -0.074       0.088\n",
      "Loudness             0.5601      0.066      8.496      0.000       0.431       0.689\n",
      "Speechiness          0.5689      0.064      8.913      0.000       0.444       0.694\n",
      "Acousticness        -0.4857      0.053     -9.240      0.000      -0.589      -0.383\n",
      "Instrumentalness    -0.1968      0.051     -3.889      0.000      -0.296      -0.098\n",
      "Liveness            -0.2460      0.039     -6.261      0.000      -0.323      -0.169\n",
      "Valence              1.4451      0.047     30.709      0.000       1.353       1.537\n",
      "Tempo               -0.5229      0.042    -12.463      0.000      -0.605      -0.441\n",
      "Duration_ms         -0.5313      0.064     -8.348      0.000      -0.656      -0.407\n",
      "Views                0.0608      0.092      0.659      0.510      -0.120       0.242\n",
      "Likes                0.1385      0.091      1.522      0.128      -0.040       0.317\n",
      "Stream               0.0539      0.056      0.954      0.340      -0.057       0.165\n",
      "------------------------------------------------------------------------------------\n",
      "  Danceability=7       coef    std err          z      P>|z|      [0.025      0.975]\n",
      "------------------------------------------------------------------------------------\n",
      "const                0.7812      0.053     14.861      0.000       0.678       0.884\n",
      "Energy              -0.6051      0.051    -11.883      0.000      -0.705      -0.505\n",
      "Key                  0.0493      0.042      1.181      0.238      -0.032       0.131\n",
      "Loudness             0.6566      0.069      9.518      0.000       0.521       0.792\n",
      "Speechiness          0.6597      0.063     10.415      0.000       0.536       0.784\n",
      "Acousticness        -0.5628      0.056     -9.984      0.000      -0.673      -0.452\n",
      "Instrumentalness    -0.1603      0.052     -3.089      0.002      -0.262      -0.059\n",
      "Liveness            -0.2959      0.043     -6.848      0.000      -0.381      -0.211\n",
      "Valence              1.5950      0.048     33.304      0.000       1.501       1.689\n",
      "Tempo               -0.5021      0.042    -11.880      0.000      -0.585      -0.419\n",
      "Duration_ms         -0.4356      0.062     -6.973      0.000      -0.558      -0.313\n",
      "Views                0.0642      0.091      0.708      0.479      -0.114       0.242\n",
      "Likes                0.1811      0.089      2.034      0.042       0.007       0.356\n",
      "Stream               0.0873      0.056      1.571      0.116      -0.022       0.196\n",
      "------------------------------------------------------------------------------------\n",
      "  Danceability=8       coef    std err          z      P>|z|      [0.025      0.975]\n",
      "------------------------------------------------------------------------------------\n",
      "const                0.6509      0.055     11.910      0.000       0.544       0.758\n",
      "Energy              -0.7187      0.052    -13.868      0.000      -0.820      -0.617\n",
      "Key                  0.1022      0.042      2.433      0.015       0.020       0.185\n",
      "Loudness             0.7356      0.071     10.387      0.000       0.597       0.874\n",
      "Speechiness          0.7704      0.063     12.293      0.000       0.648       0.893\n",
      "Acousticness        -0.8097      0.063    -12.828      0.000      -0.933      -0.686\n",
      "Instrumentalness    -0.1278      0.052     -2.456      0.014      -0.230      -0.026\n",
      "Liveness            -0.4135      0.052     -7.896      0.000      -0.516      -0.311\n",
      "Valence              1.6994      0.048     35.066      0.000       1.604       1.794\n",
      "Tempo               -0.6596      0.043    -15.300      0.000      -0.744      -0.575\n",
      "Duration_ms         -0.5759      0.066     -8.756      0.000      -0.705      -0.447\n",
      "Views                0.1098      0.092      1.197      0.231      -0.070       0.289\n",
      "Likes                0.1278      0.091      1.398      0.162      -0.051       0.307\n",
      "Stream               0.0345      0.057      0.604      0.546      -0.077       0.147\n",
      "------------------------------------------------------------------------------------\n",
      "  Danceability=9       coef    std err          z      P>|z|      [0.025      0.975]\n",
      "------------------------------------------------------------------------------------\n",
      "const                0.2227      0.061      3.651      0.000       0.103       0.342\n",
      "Energy              -1.1066      0.057    -19.493      0.000      -1.218      -0.995\n",
      "Key                  0.0734      0.044      1.683      0.092      -0.012       0.159\n",
      "Loudness             0.9670      0.077     12.539      0.000       0.816       1.118\n",
      "Speechiness          0.9991      0.062     16.086      0.000       0.877       1.121\n",
      "Acousticness        -1.1766      0.077    -15.201      0.000      -1.328      -1.025\n",
      "Instrumentalness    -0.1164      0.059     -1.984      0.047      -0.231      -0.001\n",
      "Liveness            -0.4222      0.058     -7.299      0.000      -0.536      -0.309\n",
      "Valence              1.7606      0.050     34.866      0.000       1.662       1.860\n",
      "Tempo               -0.7417      0.045    -16.519      0.000      -0.830      -0.654\n",
      "Duration_ms         -0.8160      0.074    -11.060      0.000      -0.961      -0.671\n",
      "Views                0.1056      0.092      1.149      0.251      -0.075       0.286\n",
      "Likes                0.2013      0.091      2.210      0.027       0.023       0.380\n",
      "Stream              -0.0185      0.059     -0.316      0.752      -0.133       0.096\n",
      "====================================================================================\n"
     ]
    }
   ],
   "source": [
    "# Convert 'Danceability' to categorical classes\n",
    "y_tr_categorical = y_tr.round().astype(int)\n",
    "y_tr_categorical = y_tr_categorical.clip(0, 9)\n",
    "\n",
    "# with statsmodels using multinomial logistic regression\n",
    "X_tr_scaled = sm.add_constant(X_tr_scaled) # adding a constant\n",
    "X_t_scaled = sm.add_constant(X_t_scaled)\n",
    "mlogit_model = sm.MNLogit(y_tr_categorical, X_tr_scaled).fit()\n",
    "\n",
    "mlogit_predictions_t = mlogit_model.predict(X_t_scaled)\n",
    "# Convert the predicted probabilities to class labels\n",
    "mlogit_predictions_t = mlogit_predictions_t.idxmax(axis=1)\n",
    "\n",
    "mlogit_predictions_df = pd.DataFrame({'id': df_t['id'], 'Danceability': mlogit_predictions_t})\n",
    "mlogit_predictions_df.to_csv('mlogit_all_submission.csv', index=False)\n",
    "\n",
    "print_mlogit_model = mlogit_model.summary()\n",
    "print(print_mlogit_model)"
   ]
  },
  {
   "cell_type": "code",
   "execution_count": 6,
   "metadata": {},
   "outputs": [
    {
     "data": {
      "image/png": "[encoded data removed]",
      "text/plain": [
       "<Figure size 720x360 with 1 Axes>"
      ]
     },
     "metadata": {
      "needs_background": "light"
     },
     "output_type": "display_data"
    }
   ],
   "source": [
    "# Target Variable Countplot\n",
    "plt.figure(figsize = (10, 5))\n",
    "sns.countplot(data=mlogit_predictions_df, x=\"Danceability\", alpha = .70, palette = \"BuPu\")\n",
    "plt.title(\"Levels of Danceability\")\n",
    "plt.ylabel(\"Number of Songs\")\n",
    "plt.show()\n",
    "\n",
    "mlogit_predictions_df[\"Danceability\"] = mlogit_predictions_df[\"Danceability\"].astype(\"int\")"
   ]
  },
  {
   "attachments": {},
   "cell_type": "markdown",
   "metadata": {},
   "source": [
    "#### OLS_Ridge"
   ]
  },
  {
   "cell_type": "code",
   "execution_count": 7,
   "metadata": {},
   "outputs": [
    {
     "name": "stdout",
     "output_type": "stream",
     "text": [
      "Best alpha: 10.0\n"
     ]
    },
    {
     "data": {
      "image/png": "[encoded data removed]",
      "text/plain": [
       "<Figure size 720x360 with 1 Axes>"
      ]
     },
     "metadata": {
      "needs_background": "light"
     },
     "output_type": "display_data"
    }
   ],
   "source": [
    "from sklearn.linear_model import Ridge, RidgeCV\n",
    "\n",
    "# Perform Ridge regression\n",
    "alphas = [0.01, 0.1, 0.5, 1.0, 5.0, 10.0]  # List of alpha values to try\n",
    "ridge_cv = RidgeCV(alphas=alphas, cv=6)  # RidgeCV performs cross-validation\n",
    "ridge_cv.fit(X_tr_scaled, y_tr)\n",
    "best_alpha = ridge_cv.alpha_\n",
    "print(\"Best alpha:\", best_alpha)  # best_alpha=10\n",
    "\n",
    "alpha = 10  # Regularization parameter\n",
    "ridge_model = Ridge(alpha=alpha)\n",
    "ridge_model.fit(X_tr_scaled, y_tr)\n",
    "\n",
    "# Make predictions on the test data\n",
    "ridge_predictions_t = ridge_model.predict(X_t_scaled)\n",
    "ridge_predictions_t = ridge_predictions_t.round().astype(int)\n",
    "ridge_predictions_t = ridge_predictions_t.clip(0, 9)\n",
    "\n",
    "ridge_predictions_df = pd.DataFrame({'id': df_t['id'], 'Danceability': ridge_predictions_t})\n",
    "ridge_predictions_df.to_csv('ridge_submission.csv', index=False)\n",
    "\n",
    "# Target Variable Countplot\n",
    "plt.figure(figsize = (10, 5))\n",
    "sns.countplot(data=ridge_predictions_df, x=\"Danceability\", alpha = .70, palette = \"BuPu\")\n",
    "plt.title(\"Levels of Danceability\")\n",
    "plt.ylabel(\"Number of Songs\")\n",
    "plt.show()"
   ]
  },
  {
   "attachments": {},
   "cell_type": "markdown",
   "metadata": {},
   "source": [
    "#### LASSO"
   ]
  },
  {
   "cell_type": "code",
   "execution_count": 8,
   "metadata": {},
   "outputs": [
    {
     "name": "stdout",
     "output_type": "stream",
     "text": [
      "Best alpha: 0.01\n"
     ]
    },
    {
     "data": {
      "image/png": "[encoded data removed]",
      "text/plain": [
       "<Figure size 720x360 with 1 Axes>"
      ]
     },
     "metadata": {
      "needs_background": "light"
     },
     "output_type": "display_data"
    }
   ],
   "source": [
    "from sklearn.linear_model import Lasso, LassoCV\n",
    "\n",
    "# Perform Lasso regression\n",
    "alphas = [0.01, 0.1, 0.5, 1.0, 5.0, 10.0]  # List of alpha values to try\n",
    "lasso_cv = LassoCV(alphas=alphas, cv=6)  # LassoCV performs cross-validation\n",
    "lasso_cv.fit(X_tr_scaled, y_tr)\n",
    "best_alpha = lasso_cv.alpha_\n",
    "print(\"Best alpha:\", best_alpha)  # best_alpha=10\n",
    "\n",
    "alpha = 0.01  # Regularization parameter\n",
    "lasso_model = Lasso(alpha=alpha)\n",
    "lasso_model.fit(X_tr_scaled, y_tr)\n",
    "\n",
    "# Make predictions on the test data\n",
    "lasso_predictions_t = lasso_model.predict(X_t_scaled)\n",
    "lasso_predictions_t = lasso_predictions_t.round().astype(int)\n",
    "lasso_predictions_t = lasso_predictions_t.clip(0, 9)\n",
    "\n",
    "lasso_predictions_df = pd.DataFrame({'id': df_t['id'], 'Danceability': lasso_predictions_t})\n",
    "lasso_predictions_df.to_csv('lasso_submission.csv', index=False)\n",
    "\n",
    "# Target Variable Countplot\n",
    "plt.figure(figsize=(10, 5))\n",
    "sns.countplot(data=lasso_predictions_df, x=\"Danceability\", alpha=0.7, palette=\"BuPu\")\n",
    "plt.title(\"Levels of Danceability\")\n",
    "plt.ylabel(\"Number of Songs\")\n",
    "plt.show()\n"
   ]
  },
  {
   "attachments": {},
   "cell_type": "markdown",
   "metadata": {},
   "source": [
    "#### Neural Network Classifier"
   ]
  },
  {
   "cell_type": "code",
   "execution_count": 15,
   "metadata": {},
   "outputs": [
    {
     "name": "stdout",
     "output_type": "stream",
     "text": [
      "8.0    1860\n",
      "6.0    1856\n",
      "7.0    1826\n",
      "5.0    1702\n",
      "3.0    1675\n",
      "2.0    1664\n",
      "0.0    1655\n",
      "9.0    1654\n",
      "4.0    1639\n",
      "1.0    1639\n",
      "Name: Danceability, dtype: int64\n",
      "Epoch 1/50\n",
      "537/537 [==============================] - 2s 2ms/step - loss: nan - accuracy: 0.0964\n",
      "Epoch 2/50\n",
      "537/537 [==============================] - 1s 2ms/step - loss: nan - accuracy: 0.0964\n",
      "Epoch 3/50\n",
      "537/537 [==============================] - 1s 3ms/step - loss: nan - accuracy: 0.0964\n",
      "Epoch 4/50\n",
      "537/537 [==============================] - 1s 2ms/step - loss: nan - accuracy: 0.0964\n",
      "Epoch 5/50\n",
      "537/537 [==============================] - 1s 3ms/step - loss: nan - accuracy: 0.0964\n",
      "Epoch 6/50\n",
      "537/537 [==============================] - 1s 2ms/step - loss: nan - accuracy: 0.0964\n",
      "Epoch 7/50\n",
      "537/537 [==============================] - 1s 2ms/step - loss: nan - accuracy: 0.0964\n",
      "Epoch 8/50\n",
      "537/537 [==============================] - 2s 3ms/step - loss: nan - accuracy: 0.0964A: 1s - loss: nan - accuracy: 0.09 - ETA: 1s - loss: nan -\n",
      "Epoch 9/50\n",
      "537/537 [==============================] - 1s 2ms/step - loss: nan - accuracy: 0.0964\n",
      "Epoch 10/50\n",
      "537/537 [==============================] - 2s 3ms/step - loss: nan - accuracy: 0.0964A: 0s - loss: nan - acc\n",
      "Epoch 11/50\n",
      "537/537 [==============================] - 1s 3ms/step - loss: nan - accuracy: 0.0964A: 0s - loss: nan - accu\n",
      "Epoch 12/50\n",
      "537/537 [==============================] - 2s 3ms/step - loss: nan - accuracy: 0.0964A: 0s - loss: nan - accurac\n",
      "Epoch 13/50\n",
      "537/537 [==============================] - 2s 3ms/step - loss: nan - accuracy: 0.0964A: 0s - loss: nan - accuracy\n",
      "Epoch 14/50\n",
      "537/537 [==============================] - 2s 3ms/step - loss: nan - accuracy: 0.0964\n",
      "Epoch 15/50\n",
      "537/537 [==============================] - 2s 3ms/step - loss: nan - accuracy: 0.0964\n",
      "Epoch 16/50\n",
      "537/537 [==============================] - 2s 3ms/step - loss: nan - accuracy: 0.0964A: 1s - loss: nan\n",
      "Epoch 17/50\n",
      "537/537 [==============================] - 2s 3ms/step - loss: nan - accuracy: 0.0964\n",
      "Epoch 18/50\n",
      "537/537 [==============================] - 1s 2ms/step - loss: nan - accuracy: 0.0964\n",
      "Epoch 19/50\n",
      "537/537 [==============================] - 1s 2ms/step - loss: nan - accuracy: 0.0964\n",
      "Epoch 20/50\n",
      "537/537 [==============================] - 1s 2ms/step - loss: nan - accuracy: 0.0964\n",
      "Epoch 21/50\n",
      "537/537 [==============================] - 1s 2ms/step - loss: nan - accuracy: 0.0964\n",
      "Epoch 22/50\n",
      "537/537 [==============================] - 2s 4ms/step - loss: nan - accuracy: 0.0964A: 1s - loss: nan - accuracy: 0.10 - ETA\n",
      "Epoch 23/50\n",
      "537/537 [==============================] - 2s 3ms/step - loss: nan - accuracy: 0.0964A: 0s - loss: nan\n",
      "Epoch 24/50\n",
      "537/537 [==============================] - 2s 3ms/step - loss: nan - accuracy: 0.0964A: 0s - loss: nan - acc\n",
      "Epoch 25/50\n",
      "537/537 [==============================] - 1s 3ms/step - loss: nan - accuracy: 0.0964A: 0s - loss: nan - accuracy:\n",
      "Epoch 26/50\n",
      "537/537 [==============================] - 2s 3ms/step - loss: nan - accuracy: 0.0964A: 1s - loss: nan - accurac - ETA: 0s - loss: nan - accur\n",
      "Epoch 27/50\n",
      "537/537 [==============================] - 1s 2ms/step - loss: nan - accuracy: 0.0964A: 1s - loss:\n",
      "Epoch 28/50\n",
      "537/537 [==============================] - 1s 2ms/step - loss: nan - accuracy: 0.0964\n",
      "Epoch 29/50\n",
      "537/537 [==============================] - 1s 2ms/step - loss: nan - accuracy: 0.0964A: 0s - loss: nan - ac\n",
      "Epoch 30/50\n",
      "537/537 [==============================] - 1s 2ms/step - loss: nan - accuracy: 0.0964A: 0s - loss: nan - \n",
      "Epoch 31/50\n",
      "537/537 [==============================] - ETA: 0s - loss: nan - accuracy: 0.0965- ETA: 0s - loss: nan - accurac - 1s 2ms/step - loss: nan - accuracy: 0.0964\n",
      "Epoch 32/50\n",
      "537/537 [==============================] - 1s 2ms/step - loss: nan - accuracy: 0.0964\n",
      "Epoch 33/50\n",
      "537/537 [==============================] - 1s 2ms/step - loss: nan - accuracy: 0.0964\n",
      "Epoch 34/50\n",
      "537/537 [==============================] - 1s 2ms/step - loss: nan - accuracy: 0.0964\n",
      "Epoch 35/50\n",
      "537/537 [==============================] - 1s 2ms/step - loss: nan - accuracy: 0.0964\n",
      "Epoch 36/50\n",
      "537/537 [==============================] - 1s 2ms/step - loss: nan - accuracy: 0.0964\n",
      "Epoch 37/50\n",
      "537/537 [==============================] - 1s 2ms/step - loss: nan - accuracy: 0.0964\n",
      "Epoch 38/50\n",
      "537/537 [==============================] - 1s 2ms/step - loss: nan - accuracy: 0.0964\n",
      "Epoch 39/50\n",
      "537/537 [==============================] - 1s 2ms/step - loss: nan - accuracy: 0.0964\n",
      "Epoch 40/50\n",
      "537/537 [==============================] - 1s 2ms/step - loss: nan - accuracy: 0.0964\n",
      "Epoch 41/50\n",
      "537/537 [==============================] - 1s 2ms/step - loss: nan - accuracy: 0.0964\n",
      "Epoch 42/50\n",
      "537/537 [==============================] - 1s 2ms/step - loss: nan - accuracy: 0.0964\n",
      "Epoch 43/50\n",
      "537/537 [==============================] - 1s 2ms/step - loss: nan - accuracy: 0.0964\n",
      "Epoch 44/50\n",
      "537/537 [==============================] - 1s 2ms/step - loss: nan - accuracy: 0.0964\n",
      "Epoch 45/50\n",
      "537/537 [==============================] - 1s 2ms/step - loss: nan - accuracy: 0.0964\n",
      "Epoch 46/50\n",
      "537/537 [==============================] - 1s 2ms/step - loss: nan - accuracy: 0.0964\n",
      "Epoch 47/50\n",
      "537/537 [==============================] - 1s 2ms/step - loss: nan - accuracy: 0.0964A: 0s - loss: nan - accur\n",
      "Epoch 48/50\n",
      "537/537 [==============================] - 1s 2ms/step - loss: nan - accuracy: 0.0964\n",
      "Epoch 49/50\n",
      "537/537 [==============================] - 1s 2ms/step - loss: nan - accuracy: 0.0964\n",
      "Epoch 50/50\n",
      "537/537 [==============================] - 1s 2ms/step - loss: nan - accuracy: 0.0964\n",
      "         id  Danceability\n",
      "0     17170             0\n",
      "1     17171             0\n",
      "2     17172             0\n",
      "3     17173             0\n",
      "4     17174             0\n",
      "...     ...           ...\n",
      "6310  23480             0\n",
      "6311  23481             0\n",
      "6312  23482             0\n",
      "6313  23483             0\n",
      "6314  23484             0\n",
      "\n",
      "[6315 rows x 2 columns]\n"
     ]
    }
   ],
   "source": [
    "import pandas as pd\n",
    "from sklearn.model_selection import train_test_split\n",
    "from sklearn.preprocessing import StandardScaler\n",
    "from tensorflow.keras.models import Sequential\n",
    "from tensorflow.keras.layers import Dense\n",
    "\n",
    "dep_var = 'Danceability'\n",
    "indep_var = ['Energy', 'Key', 'Loudness', 'Speechiness', 'Acousticness',\n",
    "             'Instrumentalness', 'Liveness', 'Valence', 'Tempo', 'Duration_ms', 'Views', 'Likes', 'Stream']\n",
    "\n",
    "# Prepare the data\n",
    "X_tr = df_tr[indep_var]\n",
    "X_t = df_t[indep_var]\n",
    "y_tr = df_tr[dep_var]\n",
    "\n",
    "# Standardize the input features\n",
    "scaler = StandardScaler()\n",
    "X_tr_scaled = scaler.fit_transform(X_tr)\n",
    "X_t_scaled = scaler.transform(X_t)\n",
    "\n",
    "# Check the distribution of the target variable\n",
    "print(y_tr.value_counts())\n",
    "\n",
    "# Convert target variable to integer labels (if needed)\n",
    "# y_tr = label_encoding_function(y_tr)\n",
    "\n",
    "# Create the neural network model\n",
    "model = Sequential()\n",
    "model.add(Dense(64, activation='relu', input_shape=(len(indep_var),)))\n",
    "model.add(Dense(64, activation='relu'))\n",
    "model.add(Dense(10, activation='softmax'))\n",
    "\n",
    "# Compile the model\n",
    "model.compile(loss='sparse_categorical_crossentropy', optimizer='adam', metrics=['accuracy'])\n",
    "\n",
    "# Train the model\n",
    "model.fit(X_tr_scaled, y_tr, epochs=50, batch_size=32)\n",
    "\n",
    "# Use the trained model to predict y_t\n",
    "predictions = model.predict(X_t_scaled)\n",
    "predicted_classes = predictions.argmax(axis=1)\n",
    "\n",
    "# Create a dataframe with the predictions\n",
    "predictions_df = pd.DataFrame({'id': df_t['id'], 'Danceability': predicted_classes})\n",
    "print(predictions_df)\n",
    "\n",
    "# Save the predictions to a CSV file\n",
    "predictions_df.to_csv('neural_network_submission.csv', index=False)\n"
   ]
  },
  {
   "cell_type": "code",
   "execution_count": 16,
   "metadata": {},
   "outputs": [
    {
     "data": {
      "image/png": "[encoded data removed]",
      "text/plain": [
       "<Figure size 720x360 with 1 Axes>"
      ]
     },
     "metadata": {
      "needs_background": "light"
     },
     "output_type": "display_data"
    }
   ],
   "source": [
    "predictions_df[\"Danceability\"] = predictions_df[\"Danceability\"].astype(\"category\")\n",
    "# Target Variable Countplot\n",
    "plt.figure(figsize = (10, 5))\n",
    "sns.countplot(data=predictions_df, x=\"Danceability\", alpha = .70, palette = \"BuPu\")\n",
    "plt.title(\"Levels of Danceability\")\n",
    "plt.ylabel(\"Number of Songs\")\n",
    "plt.show()"
   ]
  }
 ],
 "metadata": {
  "kernelspec": {
   "display_name": "Python 3",
   "language": "python",
   "name": "python3"
  },
  "language_info": {
   "codemirror_mode": {
    "name": "ipython",
    "version": 3
   },
   "file_extension": ".py",
   "mimetype": "text/x-python",
   "name": "python",
   "nbconvert_exporter": "python",
   "pygments_lexer": "ipython3",
   "version": "3.9.2"
  },
  "orig_nbformat": 4
 },
 "nbformat": 4,
 "nbformat_minor": 2
}
