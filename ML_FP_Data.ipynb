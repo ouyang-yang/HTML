{
 "cells": [
  {
   "cell_type": "code",
   "execution_count": 49,
   "metadata": {},
   "outputs": [],
   "source": [
    "import matplotlib.pyplot as plt\n",
    "import statsmodels.api as sm\n",
    "import seaborn as sns\n",
    "import pandas as pd\n",
    "import numpy as np"
   ]
  },
  {
   "cell_type": "code",
   "execution_count": 83,
   "metadata": {},
   "outputs": [],
   "source": [
    "df_tr = pd.read_csv(\"ML_FP_train.csv\") # 原始資料\n",
    "df_tr_upd = pd.read_csv('ML_FP_train_updated.csv')\n",
    "df_t = pd.read_csv(\"ML_FP_test.csv\") # 原始資料\n",
    "df_t_upd = pd.read_csv('ML_FP_test_updated_v1_com.csv')"
   ]
  },
  {
   "cell_type": "code",
   "execution_count": null,
   "metadata": {},
   "outputs": [],
   "source": [
    "df_tr_upd['Artist'] = df_tr['Artist']\n",
    "df_tr1 = df_tr[['Artist', 'Danceability']]\n",
    "df_tr1 = df_tr1.groupby('Artist', as_index=False).mean().sort_values('Danceability', ascending=False)\n",
    "song_counts = df_tr['Artist'].value_counts().reset_index()\n",
    "song_counts.columns = ['Artist', 'SongCount']\n",
    "df_tr1 = df_tr1.merge(song_counts, on='Artist')\n",
    "df_tr1['ArtistRank'] = df_tr1['Danceability'].rank(ascending=False, method='dense').astype('Int64')\n",
    "\n",
    "artist_mapping = {artist: rank for artist, rank in zip(df_tr1['Artist'], df_tr1['ArtistRank'])}\n",
    "df_tr_upd['Artist'] = df_tr_upd['Artist'].map(artist_mapping)\n",
    "\n",
    "df_tr_upd.to_csv('ML_FP_train_updated.csv', index=False)\n",
    "df_tr1"
   ]
  },
  {
   "cell_type": "code",
   "execution_count": 94,
   "metadata": {},
   "outputs": [
    {
     "name": "stderr",
     "output_type": "stream",
     "text": [
      "<ipython-input-94-91d6b8e4e108>:2: SettingWithCopyWarning: \n",
      "A value is trying to be set on a copy of a slice from a DataFrame.\n",
      "Try using .loc[row_indexer,col_indexer] = value instead\n",
      "\n",
      "See the caveats in the documentation: https://pandas.pydata.org/pandas-docs/stable/user_guide/indexing.html#returning-a-view-versus-a-copy\n",
      "  df_t1['Artist'] = df_t1['Artist'].map(artist_mapping)\n"
     ]
    }
   ],
   "source": [
    "df_t1 = df_t[['Artist']]\n",
    "df_t1['Artist'] = df_t1['Artist'].map(artist_mapping)\n",
    "df_t_upd['Artist'] = df_t1['Artist']\n",
    "df_t_upd.to_csv('ML_FP_test_updated_v1_com.csv', index=False)"
   ]
  },
  {
   "cell_type": "code",
   "execution_count": null,
   "metadata": {},
   "outputs": [],
   "source": [
    "df_tr2 = df_tr[['Licensed']]\n",
    "df_tr2['Licensed'] = df_tr2['Licensed'].fillna(False).astype(int)\n",
    "df_tr_upd['Licensed'] = df_tr2['Licensed']\n",
    "df_tr_upd.to_csv('ML_FP_train_updated.csv', index=False)"
   ]
  },
  {
   "cell_type": "code",
   "execution_count": 84,
   "metadata": {},
   "outputs": [
    {
     "name": "stderr",
     "output_type": "stream",
     "text": [
      "<ipython-input-84-96a18f2cf691>:2: SettingWithCopyWarning: \n",
      "A value is trying to be set on a copy of a slice from a DataFrame.\n",
      "Try using .loc[row_indexer,col_indexer] = value instead\n",
      "\n",
      "See the caveats in the documentation: https://pandas.pydata.org/pandas-docs/stable/user_guide/indexing.html#returning-a-view-versus-a-copy\n",
      "  df_t2['Licensed'] = df_t2['Licensed'].fillna(False).astype(int)\n"
     ]
    }
   ],
   "source": [
    "df_t2 = df_t[['Licensed']]\n",
    "df_t2['Licensed'] = df_t2['Licensed'].fillna(False).astype(int)\n",
    "df_t_upd['Licensed'] = df_t2['Licensed']\n",
    "df_t_upd.to_csv('ML_FP_test_updated_v1_com.csv', index=False)"
   ]
  },
  {
   "cell_type": "code",
   "execution_count": null,
   "metadata": {},
   "outputs": [],
   "source": [
    "df_tr3 = df_tr[['official_video']]\n",
    "df_tr3['official_video'] = df_tr3['official_video'].fillna(False).astype(int)\n",
    "df_tr_upd['official_video'] = df_tr3['official_video']\n",
    "df_tr_upd.to_csv('ML_FP_train_updated.csv', index=False)"
   ]
  },
  {
   "cell_type": "code",
   "execution_count": null,
   "metadata": {},
   "outputs": [],
   "source": [
    "df_t3 = df_t[['official_video']]\n",
    "df_t3['official_video'] = df_t3['official_video'].fillna(False).astype(int)\n",
    "df_t_upd['official_video'] = df_t3['official_video']\n",
    "df_t_upd.to_csv('ML_FP_test_updated_v1_com.csv', index=False)"
   ]
  },
  {
   "cell_type": "code",
   "execution_count": 92,
   "metadata": {},
   "outputs": [
    {
     "name": "stdout",
     "output_type": "stream",
     "text": [
      "    Album_type  Danceability  SongCount  AlbumTypeRank\n",
      "0       single      5.341104       3732              1\n",
      "1        album      4.347818      10379              2\n",
      "2  compilation      3.731463        499              3\n"
     ]
    }
   ],
   "source": [
    "df_tr_upd['Album_type'] = df_tr['Album_type']\n",
    "df_tr4 = df_tr[['Album_type', 'Danceability']]\n",
    "df_tr4 = df_tr4.groupby('Album_type', as_index=False).mean().sort_values('Danceability', ascending=False)\n",
    "song_counts = df_tr['Album_type'].value_counts().reset_index()\n",
    "song_counts.columns = ['Album_type', 'SongCount']\n",
    "df_tr4 = df_tr4.merge(song_counts, on='Album_type')\n",
    "df_tr4['AlbumTypeRank'] = df_tr4['Danceability'].rank(ascending=False, method='dense').astype('Int64')\n",
    "print(df_tr4)\n",
    "\n",
    "albumtype = {albumtype: rank for albumtype, rank in zip(df_tr4['Album_type'], df_tr4['AlbumTypeRank'])}\n",
    "df_tr_upd['Album_type'] = df_tr_upd['Album_type'].map(albumtype)\n",
    "df_tr_upd.to_csv('ML_FP_train_updated.csv', index=False)\n"
   ]
  },
  {
   "cell_type": "code",
   "execution_count": 93,
   "metadata": {},
   "outputs": [
    {
     "name": "stderr",
     "output_type": "stream",
     "text": [
      "<ipython-input-93-d0537f08f5a9>:2: SettingWithCopyWarning: \n",
      "A value is trying to be set on a copy of a slice from a DataFrame.\n",
      "Try using .loc[row_indexer,col_indexer] = value instead\n",
      "\n",
      "See the caveats in the documentation: https://pandas.pydata.org/pandas-docs/stable/user_guide/indexing.html#returning-a-view-versus-a-copy\n",
      "  df_t4['Album_type'] = df_t4['Album_type'].map(albumtype)\n"
     ]
    }
   ],
   "source": [
    "df_t4 = df_t[['Album_type']]\n",
    "df_t4['Album_type'] = df_t4['Album_type'].map(albumtype)\n",
    "df_t_upd['Album_type'] = df_t4['Album_type']\n",
    "df_t_upd.to_csv('ML_FP_test_updated_v1_com.csv', index=False)"
   ]
  },
  {
   "cell_type": "code",
   "execution_count": null,
   "metadata": {},
   "outputs": [],
   "source": []
  }
 ],
 "metadata": {
  "kernelspec": {
   "display_name": "Python 3",
   "language": "python",
   "name": "python3"
  },
  "language_info": {
   "codemirror_mode": {
    "name": "ipython",
    "version": 3
   },
   "file_extension": ".py",
   "mimetype": "text/x-python",
   "name": "python",
   "nbconvert_exporter": "python",
   "pygments_lexer": "ipython3",
   "version": "3.9.2"
  },
  "orig_nbformat": 4
 },
 "nbformat": 4,
 "nbformat_minor": 2
}
