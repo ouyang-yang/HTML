{
 "cells": [
  {
   "cell_type": "code",
   "execution_count": 1,
   "metadata": {},
   "outputs": [],
   "source": [
    "import matplotlib.pyplot as plt\n",
    "import statsmodels.api as sm\n",
    "import seaborn as sns\n",
    "import pandas as pd\n",
    "import numpy as np"
   ]
  },
  {
   "attachments": {},
   "cell_type": "markdown",
   "metadata": {},
   "source": [
    "#### CSVs"
   ]
  },
  {
   "cell_type": "code",
   "execution_count": 22,
   "metadata": {},
   "outputs": [],
   "source": [
    "df_tr = pd.read_csv(\"ML_FP_train.csv\") # 原始資料\n",
    "df_tr_oy = pd.read_csv(\"ML_FP_train.csv\") # 原始資料但歐陽\n",
    "df_tr_upd = pd.read_csv('ML_FP_train_updated.csv')\n",
    "\n",
    "df_t = pd.read_csv(\"ML_FP_test.csv\") # 原始資料\n",
    "df_t_TA = pd.read_csv(\"test_partial_answer.csv\") # 原始資料但有答案\n",
    "df_t_oy = pd.read_csv(\"ML_FP_test.csv\") # 原始資料但歐陽\n",
    "df_t_upd = pd.read_csv('ML_FP_test_updated_v1_com.csv')\n",
    "\n",
    "df_train = pd.read_csv(\"ML_all_train_updated_v4.csv\")\n",
    "df_test = pd.read_csv(\"ML_FP_all_test_updated_v5.csv\")"
   ]
  },
  {
   "cell_type": "code",
   "execution_count": null,
   "metadata": {},
   "outputs": [],
   "source": [
    "# Extract the 'id' values from df_t_TA\n",
    "ids = df_t_TA['id'].tolist()\n",
    "# Filter df_t based on the 'id' values\n",
    "df_filtered = df_t[df_t['id'].isin(ids)]\n",
    "# Save the filtered DataFrame to a new CSV file\n",
    "df_filtered.to_csv('filtered_data.csv', index=False)"
   ]
  },
  {
   "attachments": {},
   "cell_type": "markdown",
   "metadata": {},
   "source": [
    "##### Jing's ver."
   ]
  },
  {
   "cell_type": "code",
   "execution_count": 3,
   "metadata": {},
   "outputs": [],
   "source": [
    "df_fours = df_tr_upd[['Artist', 'Licensed', 'Album_type', 'official_video']].copy()\n",
    "df_train[['Artist', 'Licensed', 'Album_type', 'official_video']] = df_fours[['Artist', 'Licensed', 'Album_type', 'official_video']]\n",
    "df_train.to_csv('ML_all_train_updated_v4.csv', index=False)"
   ]
  },
  {
   "cell_type": "code",
   "execution_count": 4,
   "metadata": {},
   "outputs": [],
   "source": [
    "df_test.drop(['id'],axis=1)\n",
    "dft_fours = df_t_upd[['Artist', 'Licensed', 'Album_type', 'official_video']].copy()\n",
    "df_test[['Artist', 'Licensed', 'Album_type', 'official_video']] = dft_fours[['Artist', 'Licensed', 'Album_type', 'official_video']]\n",
    "df_test.to_csv('ML_FP_all_test_updated_v5.csv', index=False)"
   ]
  },
  {
   "cell_type": "code",
   "execution_count": 5,
   "metadata": {},
   "outputs": [
    {
     "data": {
      "text/html": [
       "<div>\n",
       "<style scoped>\n",
       "    .dataframe tbody tr th:only-of-type {\n",
       "        vertical-align: middle;\n",
       "    }\n",
       "\n",
       "    .dataframe tbody tr th {\n",
       "        vertical-align: top;\n",
       "    }\n",
       "\n",
       "    .dataframe thead th {\n",
       "        text-align: right;\n",
       "    }\n",
       "</style>\n",
       "<table border=\"1\" class=\"dataframe\">\n",
       "  <thead>\n",
       "    <tr style=\"text-align: right;\">\n",
       "      <th></th>\n",
       "      <th>Artist</th>\n",
       "      <th>Danceability</th>\n",
       "      <th>SongCount</th>\n",
       "      <th>ArtistRank</th>\n",
       "    </tr>\n",
       "  </thead>\n",
       "  <tbody>\n",
       "    <tr>\n",
       "      <th>0</th>\n",
       "      <td>Fontaines D.C.</td>\n",
       "      <td>6.077295</td>\n",
       "      <td>207</td>\n",
       "      <td>1</td>\n",
       "    </tr>\n",
       "    <tr>\n",
       "      <th>1</th>\n",
       "      <td>Parquet Courts</td>\n",
       "      <td>6.051724</td>\n",
       "      <td>116</td>\n",
       "      <td>2</td>\n",
       "    </tr>\n",
       "    <tr>\n",
       "      <th>2</th>\n",
       "      <td>Soccer Mommy</td>\n",
       "      <td>5.960000</td>\n",
       "      <td>100</td>\n",
       "      <td>3</td>\n",
       "    </tr>\n",
       "    <tr>\n",
       "      <th>3</th>\n",
       "      <td>Skrillex</td>\n",
       "      <td>5.857143</td>\n",
       "      <td>28</td>\n",
       "      <td>4</td>\n",
       "    </tr>\n",
       "    <tr>\n",
       "      <th>4</th>\n",
       "      <td>Big Thief</td>\n",
       "      <td>5.766551</td>\n",
       "      <td>287</td>\n",
       "      <td>5</td>\n",
       "    </tr>\n",
       "    <tr>\n",
       "      <th>...</th>\n",
       "      <td>...</td>\n",
       "      <td>...</td>\n",
       "      <td>...</td>\n",
       "      <td>...</td>\n",
       "    </tr>\n",
       "    <tr>\n",
       "      <th>91</th>\n",
       "      <td>Frank Ocean</td>\n",
       "      <td>3.000000</td>\n",
       "      <td>33</td>\n",
       "      <td>91</td>\n",
       "    </tr>\n",
       "    <tr>\n",
       "      <th>92</th>\n",
       "      <td>Ariana Grande</td>\n",
       "      <td>2.947368</td>\n",
       "      <td>38</td>\n",
       "      <td>92</td>\n",
       "    </tr>\n",
       "    <tr>\n",
       "      <th>93</th>\n",
       "      <td>Lizzo</td>\n",
       "      <td>2.917197</td>\n",
       "      <td>157</td>\n",
       "      <td>93</td>\n",
       "    </tr>\n",
       "    <tr>\n",
       "      <th>94</th>\n",
       "      <td>Megan Thee Stallion</td>\n",
       "      <td>2.500000</td>\n",
       "      <td>10</td>\n",
       "      <td>94</td>\n",
       "    </tr>\n",
       "    <tr>\n",
       "      <th>95</th>\n",
       "      <td>Father John Misty</td>\n",
       "      <td>1.000000</td>\n",
       "      <td>2</td>\n",
       "      <td>95</td>\n",
       "    </tr>\n",
       "  </tbody>\n",
       "</table>\n",
       "<p>96 rows × 4 columns</p>\n",
       "</div>"
      ],
      "text/plain": [
       "                 Artist  Danceability  SongCount  ArtistRank\n",
       "0        Fontaines D.C.      6.077295        207           1\n",
       "1        Parquet Courts      6.051724        116           2\n",
       "2          Soccer Mommy      5.960000        100           3\n",
       "3              Skrillex      5.857143         28           4\n",
       "4             Big Thief      5.766551        287           5\n",
       "..                  ...           ...        ...         ...\n",
       "91          Frank Ocean      3.000000         33          91\n",
       "92        Ariana Grande      2.947368         38          92\n",
       "93                Lizzo      2.917197        157          93\n",
       "94  Megan Thee Stallion      2.500000         10          94\n",
       "95    Father John Misty      1.000000          2          95\n",
       "\n",
       "[96 rows x 4 columns]"
      ]
     },
     "execution_count": 5,
     "metadata": {},
     "output_type": "execute_result"
    }
   ],
   "source": [
    "df_tr_upd['Artist'] = df_tr['Artist']\n",
    "df_tr1 = df_tr[['Artist', 'Danceability']]\n",
    "df_tr1 = df_tr1.groupby('Artist', as_index=False).mean().sort_values('Danceability', ascending=False)\n",
    "song_counts = df_tr['Artist'].value_counts().reset_index()\n",
    "song_counts.columns = ['Artist', 'SongCount']\n",
    "df_tr1 = df_tr1.merge(song_counts, on='Artist')\n",
    "df_tr1['ArtistRank'] = df_tr1['Danceability'].rank(ascending=False, method='dense').astype('Int64')\n",
    "\n",
    "artist_mapping = {artist: rank for artist, rank in zip(df_tr1['Artist'], df_tr1['ArtistRank'])}\n",
    "df_tr_upd['Artist'] = df_tr_upd['Artist'].map(artist_mapping)\n",
    "\n",
    "df_tr_upd.to_csv('ML_FP_train_updated.csv', index=False)\n",
    "df_tr1"
   ]
  },
  {
   "cell_type": "code",
   "execution_count": 6,
   "metadata": {},
   "outputs": [
    {
     "name": "stderr",
     "output_type": "stream",
     "text": [
      "<ipython-input-6-91d6b8e4e108>:2: SettingWithCopyWarning: \n",
      "A value is trying to be set on a copy of a slice from a DataFrame.\n",
      "Try using .loc[row_indexer,col_indexer] = value instead\n",
      "\n",
      "See the caveats in the documentation: https://pandas.pydata.org/pandas-docs/stable/user_guide/indexing.html#returning-a-view-versus-a-copy\n",
      "  df_t1['Artist'] = df_t1['Artist'].map(artist_mapping)\n"
     ]
    }
   ],
   "source": [
    "df_t1 = df_t[['Artist']]\n",
    "df_t1['Artist'] = df_t1['Artist'].map(artist_mapping)\n",
    "df_t_upd['Artist'] = df_t1['Artist']\n",
    "df_t_upd.to_csv('ML_FP_test_updated_v1_com.csv', index=False)"
   ]
  },
  {
   "cell_type": "code",
   "execution_count": 21,
   "metadata": {},
   "outputs": [
    {
     "name": "stderr",
     "output_type": "stream",
     "text": [
      "<ipython-input-21-1275fc18f7f7>:2: SettingWithCopyWarning: \n",
      "A value is trying to be set on a copy of a slice from a DataFrame.\n",
      "Try using .loc[row_indexer,col_indexer] = value instead\n",
      "\n",
      "See the caveats in the documentation: https://pandas.pydata.org/pandas-docs/stable/user_guide/indexing.html#returning-a-view-versus-a-copy\n",
      "  df_tr2['Licensed'] = df_tr2['Licensed'].fillna(False).astype(int)\n",
      "<ipython-input-21-1275fc18f7f7>:3: SettingWithCopyWarning: \n",
      "A value is trying to be set on a copy of a slice from a DataFrame.\n",
      "Try using .loc[row_indexer,col_indexer] = value instead\n",
      "\n",
      "See the caveats in the documentation: https://pandas.pydata.org/pandas-docs/stable/user_guide/indexing.html#returning-a-view-versus-a-copy\n",
      "  df_tr2['Licensed'] = df_tr2['Licensed'].replace({0: 1, 1: 2})\n"
     ]
    }
   ],
   "source": [
    "df_tr2 = df_tr[['Licensed']]\n",
    "df_tr2['Licensed'] = df_tr2['Licensed'].fillna(False).astype(int)\n",
    "df_tr2['Licensed'] = df_tr2['Licensed'].replace({0: 1, 1: 2})\n",
    "df_tr_upd['Licensed'] = df_tr2['Licensed']\n",
    "df_tr_upd.to_csv('ML_FP_train_updated.csv', index=False)"
   ]
  },
  {
   "cell_type": "code",
   "execution_count": 19,
   "metadata": {},
   "outputs": [
    {
     "name": "stderr",
     "output_type": "stream",
     "text": [
      "<ipython-input-19-adcc4fd7d96f>:2: SettingWithCopyWarning: \n",
      "A value is trying to be set on a copy of a slice from a DataFrame.\n",
      "Try using .loc[row_indexer,col_indexer] = value instead\n",
      "\n",
      "See the caveats in the documentation: https://pandas.pydata.org/pandas-docs/stable/user_guide/indexing.html#returning-a-view-versus-a-copy\n",
      "  df_t2['Licensed'] = df_t2['Licensed'].fillna(False).astype(int)\n",
      "<ipython-input-19-adcc4fd7d96f>:3: SettingWithCopyWarning: \n",
      "A value is trying to be set on a copy of a slice from a DataFrame.\n",
      "Try using .loc[row_indexer,col_indexer] = value instead\n",
      "\n",
      "See the caveats in the documentation: https://pandas.pydata.org/pandas-docs/stable/user_guide/indexing.html#returning-a-view-versus-a-copy\n",
      "  df_t2['Licensed'] = df_t2['Licensed'].replace({0: 1, 1: 2})\n"
     ]
    }
   ],
   "source": [
    "df_t2 = df_t[['Licensed']]\n",
    "df_t2['Licensed'] = df_t2['Licensed'].fillna(False).astype(int)\n",
    "df_t2['Licensed'] = df_t2['Licensed'].replace({0: 1, 1: 2})\n",
    "df_t_upd['Licensed'] = df_t2['Licensed']\n",
    "df_t_upd.to_csv('ML_FP_test_updated_v1_com.csv', index=False)"
   ]
  },
  {
   "cell_type": "code",
   "execution_count": 18,
   "metadata": {},
   "outputs": [
    {
     "name": "stderr",
     "output_type": "stream",
     "text": [
      "<ipython-input-18-4a805d9129ef>:2: SettingWithCopyWarning: \n",
      "A value is trying to be set on a copy of a slice from a DataFrame.\n",
      "Try using .loc[row_indexer,col_indexer] = value instead\n",
      "\n",
      "See the caveats in the documentation: https://pandas.pydata.org/pandas-docs/stable/user_guide/indexing.html#returning-a-view-versus-a-copy\n",
      "  df_tr3['official_video'] = df_tr3['official_video'].fillna(False).astype(int)\n",
      "<ipython-input-18-4a805d9129ef>:3: SettingWithCopyWarning: \n",
      "A value is trying to be set on a copy of a slice from a DataFrame.\n",
      "Try using .loc[row_indexer,col_indexer] = value instead\n",
      "\n",
      "See the caveats in the documentation: https://pandas.pydata.org/pandas-docs/stable/user_guide/indexing.html#returning-a-view-versus-a-copy\n",
      "  df_tr3['official_video'] = df_tr3['official_video'].replace({0: 1, 1: 2})\n"
     ]
    }
   ],
   "source": [
    "df_tr3 = df_tr[['official_video']]\n",
    "df_tr3['official_video'] = df_tr3['official_video'].fillna(False).astype(int)\n",
    "df_tr3['official_video'] = df_tr3['official_video'].replace({0: 1, 1: 2})\n",
    "df_tr_upd['official_video'] = df_tr3['official_video']\n",
    "df_tr_upd.to_csv('ML_FP_train_updated.csv', index=False)"
   ]
  },
  {
   "cell_type": "code",
   "execution_count": 20,
   "metadata": {},
   "outputs": [
    {
     "name": "stderr",
     "output_type": "stream",
     "text": [
      "<ipython-input-20-b6bcb918d6ac>:2: SettingWithCopyWarning: \n",
      "A value is trying to be set on a copy of a slice from a DataFrame.\n",
      "Try using .loc[row_indexer,col_indexer] = value instead\n",
      "\n",
      "See the caveats in the documentation: https://pandas.pydata.org/pandas-docs/stable/user_guide/indexing.html#returning-a-view-versus-a-copy\n",
      "  df_t3['official_video'] = df_t3['official_video'].fillna(False).astype(int)\n",
      "<ipython-input-20-b6bcb918d6ac>:3: SettingWithCopyWarning: \n",
      "A value is trying to be set on a copy of a slice from a DataFrame.\n",
      "Try using .loc[row_indexer,col_indexer] = value instead\n",
      "\n",
      "See the caveats in the documentation: https://pandas.pydata.org/pandas-docs/stable/user_guide/indexing.html#returning-a-view-versus-a-copy\n",
      "  df_t3['official_video'] = df_t3['official_video'].replace({0: 1, 1: 2})\n"
     ]
    }
   ],
   "source": [
    "df_t3 = df_t[['official_video']]\n",
    "df_t3['official_video'] = df_t3['official_video'].fillna(False).astype(int)\n",
    "df_t3['official_video'] = df_t3['official_video'].replace({0: 1, 1: 2})\n",
    "df_t_upd['official_video'] = df_t3['official_video']\n",
    "df_t_upd.to_csv('ML_FP_test_updated_v1_com.csv', index=False)\n"
   ]
  },
  {
   "cell_type": "code",
   "execution_count": 15,
   "metadata": {},
   "outputs": [
    {
     "name": "stdout",
     "output_type": "stream",
     "text": [
      "    Album_type  Danceability  SongCount  AlbumTypeRank\n",
      "0       single      5.341104       3732              1\n",
      "1        album      4.347818      10379              2\n",
      "2  compilation      3.731463        499              3\n"
     ]
    }
   ],
   "source": [
    "df_tr_upd['Album_type'] = df_tr['Album_type']\n",
    "df_tr4 = df_tr[['Album_type', 'Danceability']]\n",
    "df_tr4 = df_tr4.groupby('Album_type', as_index=False).mean().sort_values('Danceability', ascending=False)\n",
    "song_counts = df_tr['Album_type'].value_counts().reset_index()\n",
    "song_counts.columns = ['Album_type', 'SongCount']\n",
    "df_tr4 = df_tr4.merge(song_counts, on='Album_type')\n",
    "df_tr4['AlbumTypeRank'] = df_tr4['Danceability'].rank(ascending=False, method='dense').astype('Int64').fillna(0)\n",
    "print(df_tr4)\n",
    "\n",
    "albumtype = {albumtype: rank for albumtype, rank in zip(df_tr4['Album_type'], df_tr4['AlbumTypeRank'])}\n",
    "df_tr_upd['Album_type'] = df_tr_upd['Album_type'].map(albumtype).fillna(0)\n",
    "df_tr_upd.to_csv('ML_FP_train_updated.csv', index=False)"
   ]
  },
  {
   "cell_type": "code",
   "execution_count": null,
   "metadata": {},
   "outputs": [],
   "source": [
    "df_t4 = df_t[['Album_type']]\n",
    "df_t4['Album_type'] = df_t4['Album_type'].map(albumtype)\n",
    "df_t_upd['Album_type'] = df_t4['Album_type']\n",
    "df_t_upd.to_csv('ML_FP_test_updated_v1_com.csv', index=False)"
   ]
  },
  {
   "attachments": {},
   "cell_type": "markdown",
   "metadata": {},
   "source": [
    "##### OY's ver."
   ]
  },
  {
   "cell_type": "code",
   "execution_count": 40,
   "metadata": {},
   "outputs": [
    {
     "name": "stderr",
     "output_type": "stream",
     "text": [
      "<ipython-input-40-1f2239b11fa4>:30: SettingWithCopyWarning: \n",
      "A value is trying to be set on a copy of a slice from a DataFrame.\n",
      "Try using .loc[row_indexer,col_indexer] = value instead\n",
      "\n",
      "See the caveats in the documentation: https://pandas.pydata.org/pandas-docs/stable/user_guide/indexing.html#returning-a-view-versus-a-copy\n",
      "  df_tr2['Licensed'] = df_tr2['Licensed'].fillna(False).astype(int)\n",
      "<ipython-input-40-1f2239b11fa4>:31: SettingWithCopyWarning: \n",
      "A value is trying to be set on a copy of a slice from a DataFrame.\n",
      "Try using .loc[row_indexer,col_indexer] = value instead\n",
      "\n",
      "See the caveats in the documentation: https://pandas.pydata.org/pandas-docs/stable/user_guide/indexing.html#returning-a-view-versus-a-copy\n",
      "  df_tr2['Licensed'] = df_tr2['Licensed'].replace({0: 1, 1: 2})\n",
      "<ipython-input-40-1f2239b11fa4>:38: SettingWithCopyWarning: \n",
      "A value is trying to be set on a copy of a slice from a DataFrame.\n",
      "Try using .loc[row_indexer,col_indexer] = value instead\n",
      "\n",
      "See the caveats in the documentation: https://pandas.pydata.org/pandas-docs/stable/user_guide/indexing.html#returning-a-view-versus-a-copy\n",
      "  df_tr3['official_video'] = df_tr3['official_video'].fillna(False).astype(int)\n",
      "<ipython-input-40-1f2239b11fa4>:39: SettingWithCopyWarning: \n",
      "A value is trying to be set on a copy of a slice from a DataFrame.\n",
      "Try using .loc[row_indexer,col_indexer] = value instead\n",
      "\n",
      "See the caveats in the documentation: https://pandas.pydata.org/pandas-docs/stable/user_guide/indexing.html#returning-a-view-versus-a-copy\n",
      "  df_tr3['official_video'] = df_tr3['official_video'].replace({0: 1, 1: 2})\n"
     ]
    },
    {
     "name": "stdout",
     "output_type": "stream",
     "text": [
      "    Album_type  Danceability  SongCount  AlbumTypeRank\n",
      "0       single      5.341104       3732              1\n",
      "1        album      4.347818      10379              2\n",
      "2  compilation      3.731463        499              3\n"
     ]
    }
   ],
   "source": [
    "df_tr_oy['Composer'] = df_tr['Composer']\n",
    "df_trc = df_tr[['Composer', 'Danceability']]\n",
    "df_trc = df_trc.groupby('Composer', as_index=False).mean().sort_values('Danceability', ascending=False)\n",
    "song_counts = df_tr['Composer'].value_counts().reset_index()\n",
    "song_counts.columns = ['Composer', 'SongCount']\n",
    "df_trc = df_trc.merge(song_counts, on='Composer')\n",
    "df_trc['ComposerRank'] = df_trc['Danceability'].rank(ascending=False, method='min').astype('Int64')\n",
    "composer_mapping = {composer: rank for composer, rank in zip(df_trc['Composer'], df_trc['ComposerRank'])}\n",
    "df_tr_oy['Composer'] = df_tr_oy['Composer'].map(composer_mapping)\n",
    "df_tr_oy.to_csv('ML_FP_train_oy.csv', index=False)\n",
    "\n",
    "# __________________________________ #\n",
    "\n",
    "df_tr_oy['Artist'] = df_tr['Artist']\n",
    "df_tr1 = df_tr[['Artist', 'Danceability']]\n",
    "df_tr1 = df_tr1.groupby('Artist', as_index=False).mean().sort_values('Danceability', ascending=False)\n",
    "song_counts = df_tr['Artist'].value_counts().reset_index()\n",
    "song_counts.columns = ['Artist', 'SongCount']\n",
    "df_tr1 = df_tr1.merge(song_counts, on='Artist')\n",
    "df_tr1['ArtistRank'] = df_tr1['Danceability'].rank(ascending=False, method='dense').astype('Int64')\n",
    "\n",
    "artist_mapping = {artist: rank for artist, rank in zip(df_tr1['Artist'], df_tr1['ArtistRank'])}\n",
    "df_tr_oy['Artist'] = df_tr_upd['Artist'].map(artist_mapping)\n",
    "df_tr_oy.to_csv('ML_FP_train_oy.csv', index=False)\n",
    "\n",
    "# __________________________________ #\n",
    "\n",
    "df_tr2 = df_tr[['Licensed']]\n",
    "df_tr2['Licensed'] = df_tr2['Licensed'].fillna(False).astype(int)\n",
    "df_tr2['Licensed'] = df_tr2['Licensed'].replace({0: 1, 1: 2})\n",
    "df_tr_oy['Licensed'] = df_tr2['Licensed']\n",
    "df_tr_oy.to_csv('ML_FP_train_oy.csv', index=False)\n",
    "\n",
    "# __________________________________ #\n",
    "\n",
    "df_tr3 = df_tr[['official_video']]\n",
    "df_tr3['official_video'] = df_tr3['official_video'].fillna(False).astype(int)\n",
    "df_tr3['official_video'] = df_tr3['official_video'].replace({0: 1, 1: 2})\n",
    "df_tr_oy['official_video'] = df_tr3['official_video']\n",
    "df_tr_oy.to_csv('ML_FP_train_oy.csv', index=False)\n",
    "\n",
    "# __________________________________ #\n",
    "\n",
    "df_tr_oy['Album_type'] = df_tr['Album_type']\n",
    "df_tr4 = df_tr[['Album_type', 'Danceability']]\n",
    "df_tr4 = df_tr4.groupby('Album_type', as_index=False).mean().sort_values('Danceability', ascending=False)\n",
    "song_counts = df_tr['Album_type'].value_counts().reset_index()\n",
    "song_counts.columns = ['Album_type', 'SongCount']\n",
    "df_tr4 = df_tr4.merge(song_counts, on='Album_type')\n",
    "df_tr4['AlbumTypeRank'] = df_tr4['Danceability'].rank(ascending=False, method='dense').astype('Int64').fillna(0)\n",
    "print(df_tr4)\n",
    "\n",
    "albumtype = {albumtype: rank for albumtype, rank in zip(df_tr4['Album_type'], df_tr4['AlbumTypeRank'])}\n",
    "df_tr_oy['Album_type'] = df_tr_oy['Album_type'].map(albumtype).fillna(0)\n",
    "df_tr_oy.to_csv('ML_FP_train_oy.csv', index=False)"
   ]
  },
  {
   "cell_type": "code",
   "execution_count": 41,
   "metadata": {},
   "outputs": [
    {
     "name": "stderr",
     "output_type": "stream",
     "text": [
      "<ipython-input-41-8b918a80da27>:2: SettingWithCopyWarning: \n",
      "A value is trying to be set on a copy of a slice from a DataFrame.\n",
      "Try using .loc[row_indexer,col_indexer] = value instead\n",
      "\n",
      "See the caveats in the documentation: https://pandas.pydata.org/pandas-docs/stable/user_guide/indexing.html#returning-a-view-versus-a-copy\n",
      "  df_tc['Composer'] = df_tc['Composer'].map(composer_mapping)\n",
      "<ipython-input-41-8b918a80da27>:9: SettingWithCopyWarning: \n",
      "A value is trying to be set on a copy of a slice from a DataFrame.\n",
      "Try using .loc[row_indexer,col_indexer] = value instead\n",
      "\n",
      "See the caveats in the documentation: https://pandas.pydata.org/pandas-docs/stable/user_guide/indexing.html#returning-a-view-versus-a-copy\n",
      "  df_t1['Artist'] = df_t1['Artist'].map(artist_mapping)\n",
      "<ipython-input-41-8b918a80da27>:16: SettingWithCopyWarning: \n",
      "A value is trying to be set on a copy of a slice from a DataFrame.\n",
      "Try using .loc[row_indexer,col_indexer] = value instead\n",
      "\n",
      "See the caveats in the documentation: https://pandas.pydata.org/pandas-docs/stable/user_guide/indexing.html#returning-a-view-versus-a-copy\n",
      "  df_t2['Licensed'] = df_t2['Licensed'].fillna(False).astype(int)\n",
      "<ipython-input-41-8b918a80da27>:17: SettingWithCopyWarning: \n",
      "A value is trying to be set on a copy of a slice from a DataFrame.\n",
      "Try using .loc[row_indexer,col_indexer] = value instead\n",
      "\n",
      "See the caveats in the documentation: https://pandas.pydata.org/pandas-docs/stable/user_guide/indexing.html#returning-a-view-versus-a-copy\n",
      "  df_t2['Licensed'] = df_t2['Licensed'].replace({0: 1, 1: 2})\n",
      "<ipython-input-41-8b918a80da27>:24: SettingWithCopyWarning: \n",
      "A value is trying to be set on a copy of a slice from a DataFrame.\n",
      "Try using .loc[row_indexer,col_indexer] = value instead\n",
      "\n",
      "See the caveats in the documentation: https://pandas.pydata.org/pandas-docs/stable/user_guide/indexing.html#returning-a-view-versus-a-copy\n",
      "  df_t3['official_video'] = df_t3['official_video'].fillna(False).astype(int)\n",
      "<ipython-input-41-8b918a80da27>:25: SettingWithCopyWarning: \n",
      "A value is trying to be set on a copy of a slice from a DataFrame.\n",
      "Try using .loc[row_indexer,col_indexer] = value instead\n",
      "\n",
      "See the caveats in the documentation: https://pandas.pydata.org/pandas-docs/stable/user_guide/indexing.html#returning-a-view-versus-a-copy\n",
      "  df_t3['official_video'] = df_t3['official_video'].replace({0: 1, 1: 2})\n",
      "<ipython-input-41-8b918a80da27>:32: SettingWithCopyWarning: \n",
      "A value is trying to be set on a copy of a slice from a DataFrame.\n",
      "Try using .loc[row_indexer,col_indexer] = value instead\n",
      "\n",
      "See the caveats in the documentation: https://pandas.pydata.org/pandas-docs/stable/user_guide/indexing.html#returning-a-view-versus-a-copy\n",
      "  df_t4['Album_type'] = df_t4['Album_type'].map(albumtype)\n"
     ]
    }
   ],
   "source": [
    "df_tc = df_t[['Composer']]\n",
    "df_tc['Composer'] = df_tc['Composer'].map(composer_mapping)\n",
    "df_t_oy['Composer'] = df_tc['Composer']\n",
    "df_t_oy.to_csv('ML_FP_test_oy.csv', index=False)\n",
    "\n",
    "# __________________________________ #\n",
    "\n",
    "df_t1 = df_t[['Artist']]\n",
    "df_t1['Artist'] = df_t1['Artist'].map(artist_mapping)\n",
    "df_t_oy['Artist'] = df_t1['Artist']\n",
    "df_t_oy.to_csv('ML_FP_test_oy.csv', index=False)\n",
    "\n",
    "# __________________________________ #\n",
    "\n",
    "df_t2 = df_t[['Licensed']]\n",
    "df_t2['Licensed'] = df_t2['Licensed'].fillna(False).astype(int)\n",
    "df_t2['Licensed'] = df_t2['Licensed'].replace({0: 1, 1: 2})\n",
    "df_t_oy['Licensed'] = df_t2['Licensed']\n",
    "df_t_oy.to_csv('ML_FP_test_oy.csv', index=False)\n",
    "\n",
    "# __________________________________ #\n",
    "\n",
    "df_t3 = df_t[['official_video']]\n",
    "df_t3['official_video'] = df_t3['official_video'].fillna(False).astype(int)\n",
    "df_t3['official_video'] = df_t3['official_video'].replace({0: 1, 1: 2})\n",
    "df_t_oy['official_video'] = df_t3['official_video']\n",
    "df_t_oy.to_csv('ML_FP_test_oy.csv', index=False)\n",
    "\n",
    "# __________________________________ #\n",
    "\n",
    "df_t4 = df_t[['Album_type']]\n",
    "df_t4['Album_type'] = df_t4['Album_type'].map(albumtype)\n",
    "df_t_oy['Album_type'] = df_t4['Album_type']\n",
    "df_t_oy.to_csv('ML_FP_test_oy.csv', index=False)"
   ]
  }
 ],
 "metadata": {
  "kernelspec": {
   "display_name": "Python 3",
   "language": "python",
   "name": "python3"
  },
  "language_info": {
   "codemirror_mode": {
    "name": "ipython",
    "version": 3
   },
   "file_extension": ".py",
   "mimetype": "text/x-python",
   "name": "python",
   "nbconvert_exporter": "python",
   "pygments_lexer": "ipython3",
   "version": "3.9.2"
  },
  "orig_nbformat": 4
 },
 "nbformat": 4,
 "nbformat_minor": 2
}
